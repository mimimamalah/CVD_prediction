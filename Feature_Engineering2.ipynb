{
 "cells": [
  {
   "cell_type": "code",
   "execution_count": 189,
   "id": "fc8435b0",
   "metadata": {},
   "outputs": [],
   "source": [
    "import numpy as np\n",
    "import helpers \n",
    "\n",
    "datapath = \"./dataset/\"\n",
    "\n",
    "\n",
    "x_train, x_test, y_train, train_ids, test_ids = helpers.load_csv_data(datapath)"
   ]
  },
  {
   "cell_type": "code",
   "execution_count": 190,
   "id": "ac313336",
   "metadata": {},
   "outputs": [],
   "source": [
    "data_path = \"./dataset/x_train.csv\"\n",
    "feature_names =  np.genfromtxt(data_path, max_rows=2, delimiter=',', names=True).dtype.names\n",
    "columns = np.asarray(feature_names[0:])"
   ]
  },
  {
   "cell_type": "code",
   "execution_count": 191,
   "id": "7106d820",
   "metadata": {},
   "outputs": [],
   "source": [
    "#for i in range(len(columns)):\n",
    "#    print(\"{} - {}: {}\".format(i, columns[i], len(np.array([x for x in x_train[:,i] if np.isnan(x)]))))"
   ]
  },
  {
   "cell_type": "markdown",
   "id": "0bf4dc54",
   "metadata": {},
   "source": [
    "Vous trouvez pas que la partie Record identification ne sert à rien ? En vrai on peut garder la variable _STATE mais FMONTH je trouve que ça sert à rien"
   ]
  },
  {
   "cell_type": "markdown",
   "id": "4b7c243d",
   "metadata": {},
   "source": [
    "Maybe do the one hot encoding for _STATE "
   ]
  },
  {
   "cell_type": "markdown",
   "id": "3184ce56",
   "metadata": {},
   "source": [
    "I think we should not consider IDATE, we should directly consider IMONTH, IDAY, IYEAR since it corresponds to the same thing, we should consider the columns to potentially drop"
   ]
  },
  {
   "cell_type": "code",
   "execution_count": 192,
   "id": "8f015ee1",
   "metadata": {},
   "outputs": [],
   "source": [
    "x_new = np.copy(x_train) \n",
    "arrays_to_drop = []\n",
    "arrays_to_drop.append(\"IDATE\")"
   ]
  },
  {
   "cell_type": "markdown",
   "id": "3f67eb27",
   "metadata": {},
   "source": [
    "What should we do with DISPCODE ? Maybe remove all interviews that are incomplete, but this depends maybe the other infos are crucial even if it not unfinished, I think by standerizing it will be 0 or 1, nothing to do now"
   ]
  },
  {
   "cell_type": "markdown",
   "id": "30e9e07c",
   "metadata": {},
   "source": [
    "I think we should drop the seqno, since it is not a relevant info, as well as _PSU, CTELENUM"
   ]
  },
  {
   "cell_type": "code",
   "execution_count": 193,
   "id": "e8f58d52",
   "metadata": {},
   "outputs": [],
   "source": [
    "arrays_to_drop.append(\"SEQNO\")\n",
    "arrays_to_drop.append(\"_PSU\")\n",
    "arrays_to_drop.append(\"CTELENUM\")"
   ]
  },
  {
   "cell_type": "markdown",
   "id": "d5069e65",
   "metadata": {},
   "source": [
    "What to do with PVTRESD1, COLGHOUS, STATERES, CELLFON3 ?"
   ]
  },
  {
   "cell_type": "markdown",
   "id": "643e99cb",
   "metadata": {},
   "source": [
    "LADULT has a lot of missing values (pretty much only NAN) we are going to drop this column anyway "
   ]
  },
  {
   "cell_type": "markdown",
   "id": "a5f31798",
   "metadata": {},
   "source": [
    "Process for PHYSHLTH, MENTHLTH, POORHLTH \n",
    "The values corresponds to days, between 1-30 it is already good.\n",
    "We're going to replace all 88 values by 0 because it corresponds to None which is 0 days, and we will assume that those who refused or did not answer have median values."
   ]
  },
  {
   "cell_type": "code",
   "execution_count": 194,
   "id": "d89372a2",
   "metadata": {},
   "outputs": [],
   "source": [
    "def process_HLTH(column):\n",
    "    new_column = column\n",
    "    for i in range(len(new_column)):\n",
    "        if new_column[i] == 88: \n",
    "            new_column[i] = 0\n",
    "            \n",
    "    filtered_elements = [x for x in new_column if 0 <= x <= 30]        \n",
    "    median = np.nanmedian(filtered_elements)\n",
    "        \n",
    "    for i in range(len(new_column)):\n",
    "        if ((new_column[i] == 77) or (new_column[i] == 99) or np.isnan(new_column[i])):\n",
    "            new_column[i] = median\n",
    "            \n",
    "    return new_column\n"
   ]
  },
  {
   "cell_type": "code",
   "execution_count": 195,
   "id": "64e007cc",
   "metadata": {},
   "outputs": [],
   "source": [
    "\n",
    "indice = [i for i, item in enumerate(feature_names) if item == \"PHYSHLTH\"][0]\n",
    "x_new[:, indice] = process_HLTH(x_train[:, indice])"
   ]
  },
  {
   "cell_type": "code",
   "execution_count": 196,
   "id": "8223a569",
   "metadata": {},
   "outputs": [],
   "source": [
    "variables_for_process_HLTH = [\"PHYSHLTH\",\"MENTHLTH\", \"POORHLTH\"]\n",
    "for col in variables_for_process_HLTH :\n",
    "    indice = [i for i, item in enumerate(feature_names) if item.find(col) != -1][0]\n",
    "    x_new[:,indice] = process_HLTH(x_train[:,indice])"
   ]
  },
  {
   "cell_type": "markdown",
   "id": "c55e0766",
   "metadata": {},
   "source": [
    "Process for values that have as answer Yes or No\n",
    "We're going to replace No by 0 and yes by 1, since yes is already by 1, we're going to change 2 by 0. For values 7 which corresponds to don't know or not sure, 9 for refused, and BLANK for missing values, we're going to take the median\n",
    "\n",
    "We're going to use this method for variables : HLTHPLN1, MEDCOST, BPMEDS, BLOODCHO, TOLDHI2, CVDINFR4, CVDCRHD4, CVDSTRK3, ASTHMA3, ASTHNOW, CHCSCNCR, CHCOCNCR, CHCCOPD1, HAVARTH3, ADDEPEV2, CHCKIDNY, "
   ]
  },
  {
   "cell_type": "code",
   "execution_count": 197,
   "id": "14e8b1fd",
   "metadata": {},
   "outputs": [],
   "source": [
    "def process_2(column):\n",
    "    new_column = column\n",
    "    for i in range(len(new_column)):\n",
    "        if new_column[i] == 2: \n",
    "            new_column[i] = 0\n",
    "            \n",
    "    filtered_elements = [x for x in new_column if 0 <= x <= 1]        \n",
    "    median = np.median(filtered_elements)\n",
    "        \n",
    "    for i in range(len(new_column)):\n",
    "        if ((new_column[i] == 7) or (new_column[i] == 9) or np.isnan(new_column[i])):\n",
    "            new_column[i] = median\n",
    "            \n",
    "    return new_column"
   ]
  },
  {
   "cell_type": "markdown",
   "id": "ea1f0741",
   "metadata": {},
   "source": [
    "Je trouve pas feature name CVDINFR4, CVDCRHD4 dans le dataset mais je le trouve dans le document"
   ]
  },
  {
   "cell_type": "code",
   "execution_count": 198,
   "id": "16e1db4c",
   "metadata": {},
   "outputs": [],
   "source": [
    "variables_for_process2 = [\"HLTHPLN1\", \"MEDCOST\", \"BPMEDS\", \"BLOODCHO\", \"TOLDHI2\",\n",
    "                          \"CVDSTRK3\", \"ASTHMA3\", \"ASTHNOW\",\n",
    "                          \"CHCSCNCR\", \"CHCOCNCR\", \"CHCCOPD1\", \"HAVARTH3\", \"ADDEPEV2\",\n",
    "                          \"CHCKIDNY\", \"CPDEMO1\", \"VETERAN3\", \"INTERNET\", \"PREGNANT\",\n",
    "                         \"QLACTLM2\", \"USEEQUIP\", \"BLIND\", \"DECIDE\", \"DIFFWALK\", \"DIFFDRES\",\n",
    "                          \"DIFFALON\", \"SMOKE100\",\"STOPSMK2\", \"EXERANY2\",\n",
    "                         \"LMTJOIN3\", \"ARTHDIS2\", \"FLUSHOT6\", \"PNEUVAC3\",\n",
    "                         \"HIVTST6\", \"PDIABTST\", \"INSULIN\", \"DIABEYE\", \"DIABEDU\"]\n",
    "for col in variables_for_process2 :\n",
    "    indice = [i for i, item in enumerate(feature_names) if item.find(col) != -1 ][0]\n",
    "    x_new[:,indice] = process_2(x_train[:,indice])"
   ]
  },
  {
   "cell_type": "markdown",
   "id": "98db4ebd",
   "metadata": {},
   "source": [
    "Process for CHECKUP1, we have to check what to do with never have been checked I gave 0 but I think we should instead do 5\n",
    "see how we can do both CHOLCHK and CHECKUP1"
   ]
  },
  {
   "cell_type": "code",
   "execution_count": 199,
   "id": "27e9b5cd",
   "metadata": {},
   "outputs": [],
   "source": [
    "def process_3(column):\n",
    "    new_column = column\n",
    "    for i in range(len(new_column)):\n",
    "        if new_column[i] == 8: \n",
    "            new_column[i] = 0\n",
    "            \n",
    "    filtered_elements = [x for x in new_column if 0 <= x <= 4]        \n",
    "    median = np.median(filtered_elements)\n",
    "        \n",
    "    for i in range(len(new_column)):\n",
    "        if ((new_column[i] == 7) or (new_column[i] == 9) or np.isnan(new_column[i])):\n",
    "            new_column[i] = median\n",
    "            \n",
    "    return new_column"
   ]
  },
  {
   "cell_type": "code",
   "execution_count": 200,
   "id": "8963f938",
   "metadata": {},
   "outputs": [],
   "source": [
    "variables_for_process3 = [\"CHECKUP1\"]\n",
    "for col in variables_for_process3 :\n",
    "    indice = [i for i, item in enumerate(feature_names) if item.find(col) != -1 ][0]\n",
    "    x_new[:,indice] = process_3(x_train[:,indice])"
   ]
  },
  {
   "cell_type": "markdown",
   "id": "aaf44dcb",
   "metadata": {},
   "source": [
    "Have to see for BPHIGH4, DIABETE3, PREDIAB1\n",
    "Ask question for was this only when you were pregnant"
   ]
  },
  {
   "cell_type": "markdown",
   "id": "43c96591",
   "metadata": {},
   "source": [
    "See process for DIABAGE2, how old were you (ages between 1-97) ?"
   ]
  },
  {
   "cell_type": "code",
   "execution_count": 201,
   "id": "4c83622f",
   "metadata": {},
   "outputs": [],
   "source": [
    "def process_4(column):\n",
    "    new_column = column\n",
    "\n",
    "    filtered_elements = [x for x in new_column if 1 <= x <= 97]        \n",
    "    median = np.median(filtered_elements)\n",
    "        \n",
    "    for i in range(len(new_column)):\n",
    "        if ((new_column[i] == 98) or (new_column[i] == 99) or np.isnan(new_column[i])):\n",
    "            new_column[i] = median\n",
    "            \n",
    "    return new_column"
   ]
  },
  {
   "cell_type": "code",
   "execution_count": 202,
   "id": "077f5c51",
   "metadata": {},
   "outputs": [],
   "source": [
    "variables_for_process4 = [\"DIABAGE2\"]\n",
    "for col in variables_for_process4 :\n",
    "    indice = [i for i, item in enumerate(feature_names) if item.find(col) != -1 ][0]\n",
    "    x_new[:,indice] = process_4(x_train[:,indice])"
   ]
  },
  {
   "cell_type": "markdown",
   "id": "aacb164b",
   "metadata": {},
   "source": [
    "Tu m'as dit t'as fait one hot encoding for SEX : male, female"
   ]
  },
  {
   "cell_type": "markdown",
   "id": "3183fd73",
   "metadata": {},
   "source": [
    "See process for CHILDREN, values between 1-87, None corresponds to 88 we will transform to 0"
   ]
  },
  {
   "cell_type": "code",
   "execution_count": 203,
   "id": "c164ec06",
   "metadata": {},
   "outputs": [],
   "source": [
    "def process_5(column):\n",
    "    new_column = column\n",
    "    for i in range(len(new_column)):\n",
    "        if new_column[i] == 88: \n",
    "            new_column[i] = 0\n",
    "            \n",
    "    filtered_elements = [x for x in new_column if 0 <= x <= 87]        \n",
    "    median = np.median(filtered_elements)\n",
    "        \n",
    "    for i in range(len(new_column)):\n",
    "        if ((new_column[i] == 98) or np.isnan(new_column[i])):\n",
    "            new_column[i] = median\n",
    "            \n",
    "    return new_column"
   ]
  },
  {
   "cell_type": "code",
   "execution_count": 204,
   "id": "7c624ba7",
   "metadata": {},
   "outputs": [],
   "source": [
    "variables_for_process5 = [\"CHILDREN\"]\n",
    "for col in variables_for_process5 :\n",
    "    indice = [i for i, item in enumerate(feature_names) if item.find(col) != -1 ][0]\n",
    "    x_new[:,indice] = process_5(x_train[:,indice])"
   ]
  },
  {
   "cell_type": "markdown",
   "id": "c4b7a89b",
   "metadata": {},
   "source": [
    "On discute de comment faire pour INCOME2"
   ]
  },
  {
   "cell_type": "markdown",
   "id": "9941d900",
   "metadata": {},
   "source": [
    "See process for WEIGHT2, For weight we will put everything in kilograms, so for values between 50-0999 which is in pound we will transform it it kg, and for values between 9000-9998 we will remove the first column of the value because it only corresponds to the fact that the value is in kg.\n",
    "\n",
    "See process for HEIGHT3, we will transform everything in centimeters, from inches to centimers"
   ]
  },
  {
   "cell_type": "code",
   "execution_count": 205,
   "id": "1b028073",
   "metadata": {},
   "outputs": [],
   "source": [
    "def process_6(column, conversion):\n",
    "    new_column = column\n",
    "    \n",
    "    for i in range(len(new_column)):\n",
    "        if new_column[i] >= 50 and new_column[i] <= 999: \n",
    "            new_column[i] = new_column[i] * conversion\n",
    "        elif new_column[i] >= 9000 and new_column[i] <= 9998: \n",
    "            new_column[i] = new_column[i] - 9000\n",
    "            \n",
    "    filtered_elements = [x for x in new_column if 0 <= x <= 999]        \n",
    "    median = np.median(filtered_elements)\n",
    "        \n",
    "    for i in range(len(new_column)):\n",
    "        if ((new_column[i] == 7777) or (new_column[i] == 9999) or np.isnan(new_column[i])):\n",
    "            new_column[i] = median\n",
    "            \n",
    "    return new_column"
   ]
  },
  {
   "cell_type": "code",
   "execution_count": 206,
   "id": "09a62ce0",
   "metadata": {},
   "outputs": [],
   "source": [
    "variables_for_process6 = [\"WEIGHT2\", \"HEIGHT3\"]\n",
    "pounds_to_kg = 0.453592\n",
    "inch_to_cm = 2.54\n",
    "conversion = [pounds_to_kg, inch_to_cm]\n",
    "\n",
    "for i, col in enumerate(variables_for_process6) :\n",
    "    indice = [i for i, item in enumerate(feature_names) if item.find(col) != -1 ][0]\n",
    "    x_new[:,indice] = process_6(x_train[:,indice], conversion[i])"
   ]
  },
  {
   "cell_type": "markdown",
   "id": "38d6f2ea",
   "metadata": {},
   "source": [
    "We do process for ALCDAY5 where :\n",
    "- the value in the form 1_ _ = days per week, there are 4 week per month\n",
    "- 2_ _ = days in the past 30 day\n",
    "- 888 no drinks we will then consider 0\n",
    "- for the values 777, 999, BLANK, we will consider the mean\n",
    "\n",
    "The new value corresponds to the number of days per month you consumed at least one drink\n",
    "\n",
    "Same thing works for EXEROFT1"
   ]
  },
  {
   "cell_type": "code",
   "execution_count": 223,
   "id": "902018d8",
   "metadata": {},
   "outputs": [],
   "source": [
    "def process_7(column):\n",
    "    new_column = column\n",
    "    for i in range(len(new_column)):\n",
    "        if new_column[i] >= 101 and new_column[i] <= 199: \n",
    "            new_column[i] = (new_column[i] - 100) * 4\n",
    "        elif new_column[i] >= 201 and new_column[i] <= 299: \n",
    "            new_column[i] = (new_column[i] - 200)\n",
    "        elif (new_column[i] == 888): \n",
    "            new_column[i] = 0\n",
    "            \n",
    "    filtered_elements = [x for x in new_column if 0 <= x <= 99]        \n",
    "    median = np.median(filtered_elements)\n",
    "        \n",
    "    for i in range(len(new_column)):\n",
    "        if ((new_column[i] == 777) or (new_column[i] == 999) or np.isnan(new_column[i])):\n",
    "            new_column[i] = median\n",
    "            \n",
    "    return new_column"
   ]
  },
  {
   "cell_type": "code",
   "execution_count": 226,
   "id": "fc33ee25",
   "metadata": {},
   "outputs": [],
   "source": [
    "variables_for_process7 = [\"ALCDAY5\", \"EXEROFT1\", \"EXEROFT2\", \"STRENGTH\"]\n",
    "for col in variables_for_process7 :\n",
    "    indice = [i for i, item in enumerate(feature_names) if item.find(col) != -1 ][0]\n",
    "    x_new[:,indice] = process_7(x_train[:,indice])"
   ]
  },
  {
   "cell_type": "markdown",
   "id": "d69baa8a",
   "metadata": {},
   "source": [
    "Do process for SMOKDAY2, LASTSMK2, can't find STOPSMK2"
   ]
  },
  {
   "cell_type": "markdown",
   "id": "a43e97fe",
   "metadata": {},
   "source": [
    "Do process for Alcohol, especially for AVEDRNK2 and the other, we are considering if it is BLANK because it is not asked since the previous answer is no (888), which is the answer to the question have you had any alcoholic beverage. Since the answer to the variable name ALCDAY5 is no they will not ask the other questions. "
   ]
  },
  {
   "cell_type": "code",
   "execution_count": 219,
   "id": "095a0a5d",
   "metadata": {},
   "outputs": [],
   "source": [
    "def process_8(column, column_ALCDAY5):\n",
    "    new_column = column\n",
    "    for i in range(len(new_column)):\n",
    "        if (np.isnan(new_column[i]) and column_ALCDAY5[i] == 888): \n",
    "            new_column[i] = 0\n",
    "\n",
    "            \n",
    "    filtered_elements = [x for x in new_column if 0 <= x <= 76]        \n",
    "    median = np.median(filtered_elements)\n",
    "        \n",
    "    for i in range(len(new_column)):\n",
    "        if ((new_column[i] == 77) or (new_column[i] == 99) or np.isnan(new_column[i])):\n",
    "            new_column[i] = median\n",
    "            \n",
    "    return new_column"
   ]
  },
  {
   "cell_type": "code",
   "execution_count": 220,
   "id": "e4cf6290",
   "metadata": {},
   "outputs": [],
   "source": [
    "variables_for_process8 = [\"AVEDRNK2\", \"DRNK3GE5\", \"MAXDRNKS\" ]\n",
    "indice_ALCDAY5 = [i for i, item in enumerate(feature_names) if item.find(\"ALCDAY5\") != -1 ][0]\n",
    "for col in variables_for_process8 :\n",
    "    indice = [i for i, item in enumerate(feature_names) if item.find(col) != -1 ][0]\n",
    "    x_new[:,indice] = process_8(x_train[:,indice], x_train[:,indice_ALCDAY5])"
   ]
  },
  {
   "cell_type": "markdown",
   "id": "eb9ac6e9",
   "metadata": {},
   "source": [
    "Process for FRUITJU1, FRUIT1, FVBEANS, FVGREEN, FVORANG, VEGETAB1  . We are going to use  information about FRUITJUI1 to understand how the values in FRUIT1 works, indeed,\n",
    "- the value in the form 1_ _ = times per day, we will consider there are 30 days per month\n",
    "- 2_ _ = times per week, we will consider there are 4 weeks per month (maybe you want to consider more 4,..)\n",
    "- 300 means less than one time per month, we will consider 0 \n",
    "- 3_ _ = times per month\n",
    "- 555 never we will then consider 0\n",
    "- for the values 777, 999, BLANK we will consider the median"
   ]
  },
  {
   "cell_type": "code",
   "execution_count": 221,
   "id": "f8f50736",
   "metadata": {},
   "outputs": [],
   "source": [
    " def process_9(column):\n",
    "    new_column = column\n",
    "    for i in range(len(new_column)):\n",
    "        if new_column[i] >= 101 and new_column[i] <= 199: \n",
    "            new_column[i] = (new_column[i] - 100) * 30\n",
    "        elif new_column[i] >= 201 and new_column[i] <= 299: \n",
    "            new_column[i] = (new_column[i] - 200) * 4\n",
    "        elif (new_column[i] == 300) or (new_column[i] == 555): \n",
    "            new_column[i] = 0\n",
    "        elif new_column[i] >= 301 and new_column[i] <= 399: \n",
    "            new_column[i] = (new_column[i] - 300)\n",
    "\n",
    "            \n",
    "    filtered_elements = [x for x in new_column if 0 <= x <= 99]        \n",
    "    median = np.median(filtered_elements)\n",
    "        \n",
    "    for i in range(len(new_column)):\n",
    "        if ((new_column[i] == 777) or (new_column[i] == 999) or np.isnan(new_column[i])):\n",
    "            new_column[i] = median\n",
    "            \n",
    "    return new_column"
   ]
  },
  {
   "cell_type": "code",
   "execution_count": 222,
   "id": "866ef97a",
   "metadata": {},
   "outputs": [],
   "source": [
    "variables_for_process9 = [\"FRUITJU1\", \"FRUIT1\", \"FVBEANS\",\n",
    "                          \"FVGREEN\", \"FVORANG\", \"VEGETAB1\"]\n",
    "for col in variables_for_process9 :\n",
    "    indice = [i for i, item in enumerate(feature_names) if item.find(col) != -1 ][0]\n",
    "    x_new[:,indice] = process_9(x_train[:,indice])"
   ]
  },
  {
   "cell_type": "markdown",
   "id": "5260141d",
   "metadata": {},
   "source": [
    "Maybe do one hot encoding + consider the other values for EXRACT11,EXRACT21 categorie values"
   ]
  },
  {
   "cell_type": "markdown",
   "id": "2c4eb136",
   "metadata": {},
   "source": [
    "We do process for EXERHMM1, we have values in hours and minutes, we want it to be continious, we have _ _ _, the first value correspond to the number of hours, the two other values correspond to minutes, We will convert everything to minutes \n",
    "Also works for EXERHMM2"
   ]
  },
  {
   "cell_type": "code",
   "execution_count": 230,
   "id": "551542da",
   "metadata": {},
   "outputs": [],
   "source": [
    " def process_10(column):\n",
    "    new_column = column\n",
    "    for i in range(len(new_column)):\n",
    "        if ((new_column[i] >= 1 and new_column[i] <= 759) \n",
    "        or (new_column[i] >= 800 and new_column[i] <= 959)):             \n",
    "            first_digit = new_column[i] // 100\n",
    "            digits2_3 = new_column[i] % 100           \n",
    "            new_column[i] = first_digit * 60 + digits2_3\n",
    "\n",
    "            \n",
    "    filtered_elements = [x for x in new_column if 0 <= x <= 600]        \n",
    "    median = np.median(filtered_elements)\n",
    "        \n",
    "    for i in range(len(new_column)):\n",
    "        if ((new_column[i] == 777) or (new_column[i] == 999) or np.isnan(new_column[i])):\n",
    "            new_column[i] = median\n",
    "            \n",
    "    return new_column"
   ]
  },
  {
   "cell_type": "code",
   "execution_count": 231,
   "id": "8dad8d38",
   "metadata": {},
   "outputs": [],
   "source": [
    "variables_for_process10 = [\"EXERHMM1\", \"EXERHMM2\"]\n",
    "for col in variables_for_process10 :\n",
    "    indice = [i for i, item in enumerate(feature_names) if item.find(col) != -1 ][0]\n",
    "    x_new[:,indice] = process_10(x_train[:,indice])"
   ]
  },
  {
   "cell_type": "markdown",
   "id": "0ef4eae3",
   "metadata": {},
   "source": [
    "Do for ARTHSOCL, SEATBELT"
   ]
  },
  {
   "cell_type": "markdown",
   "id": "3d368591",
   "metadata": {},
   "source": [
    "Do JOINPAIN"
   ]
  },
  {
   "cell_type": "markdown",
   "id": "a01400e2",
   "metadata": {},
   "source": [
    "DO FLSHTMY2, HIVTSTD3\n",
    "You have value Month/Year"
   ]
  },
  {
   "cell_type": "markdown",
   "id": "c2546e16",
   "metadata": {},
   "source": [
    "DO IMFVPLAC"
   ]
  },
  {
   "cell_type": "markdown",
   "id": "9cf7b417",
   "metadata": {},
   "source": [
    "We will process the values for BLDSUGAR, FEETCHK2\n",
    "We want to have the times they checked something per year:\n",
    "- the value in the form 1_ _ = times per day, we will consider there are 365 days in a year\n",
    "- 2_ _ = times per week, we will consider there are 52 weeks per year (you may want to consider there are more (52,143))\n",
    "- 3_ _ = times per month, we consider there are 12 months in a year\n",
    "- 4_ _ = times per year\n",
    "- 555 no feet, we will then consider 0\n",
    "- 888 never, whichi means 0\n",
    "- for the values 777, 999, BLANK we will consider the median\n"
   ]
  },
  {
   "cell_type": "code",
   "execution_count": 232,
   "id": "b01b6c4e",
   "metadata": {},
   "outputs": [],
   "source": [
    "def process_11(column):\n",
    "    \n",
    "    new_column = column\n",
    "    \n",
    "    for i in range(len(new_column)):\n",
    "        if new_column[i] >= 101 and new_column[i] <= 199: \n",
    "            new_column[i] = (new_column[i] - 100) * 365\n",
    "        elif new_column[i] >= 201 and new_column[i] <= 299: \n",
    "            new_column[i] = (new_column[i] - 200) * 52\n",
    "        elif new_column[i] >= 301 and new_column[i] <= 399: \n",
    "            new_column[i] = (new_column[i] - 300) * 12\n",
    "        elif new_column[i] >= 401 and new_column[i] <= 499: \n",
    "            new_column[i] = new_column[i] - 400\n",
    "        elif (new_column[i] == 300) or (new_column[i] == 555): \n",
    "            new_column[i] = 0\n",
    "\n",
    "\n",
    "            \n",
    "    filtered_elements = [x for x in new_column if 0 <= x <= 99]        \n",
    "    median = np.median(filtered_elements)\n",
    "        \n",
    "    for i in range(len(new_column)):\n",
    "        if ((new_column[i] == 777) or (new_column[i] == 999) or np.isnan(new_column[i])):\n",
    "            new_column[i] = median\n",
    "            \n",
    "    return new_column"
   ]
  },
  {
   "cell_type": "code",
   "execution_count": 233,
   "id": "46cb96fe",
   "metadata": {},
   "outputs": [],
   "source": [
    "variables_for_process11 = [\"BLDSUGAR\", \"FEETCHK2\"]\n",
    "for col in variables_for_process11 :\n",
    "    indice = [i for i, item in enumerate(feature_names) if item.find(col) != -1 ][0]\n",
    "    x_new[:,indice] = process_11(x_train[:,indice])"
   ]
  },
  {
   "cell_type": "markdown",
   "id": "080f6483",
   "metadata": {},
   "source": [
    "Process for DOCTDIAB, CHKHEMO3, FEETCHK\n",
    "We want all the values to be between 0-76 that corresponds to how many times they did something\n",
    "- 88 which corresponds to None/ 0\n",
    "- 98 never heard of means they have done it 0 times\n",
    "- for the values 77-99-BLANK we will again consider the median"
   ]
  },
  {
   "cell_type": "code",
   "execution_count": 234,
   "id": "84001855",
   "metadata": {},
   "outputs": [],
   "source": [
    "def process_12(column):\n",
    "    new_column = column\n",
    "    for i in range(len(new_column)):\n",
    "        if (new_column[i] == 88 or new_column[i] == 98 ): \n",
    "            new_column[i] = 0\n",
    "\n",
    "    filtered_elements = [x for x in new_column if 0 <= x <= 76]        \n",
    "    median = np.median(filtered_elements)\n",
    "        \n",
    "    for i in range(len(new_column)):\n",
    "        if ((new_column[i] == 77) or (new_column[i] == 99) or np.isnan(new_column[i])):\n",
    "            new_column[i] = median\n",
    "            \n",
    "    return new_column"
   ]
  },
  {
   "cell_type": "code",
   "execution_count": 235,
   "id": "380eb674",
   "metadata": {},
   "outputs": [],
   "source": [
    "variables_for_process12 = [\"BLDSUGAR\", \"FEETCHK2\"]\n",
    "for col in variables_for_process12 :\n",
    "    indice = [i for i, item in enumerate(feature_names) if item.find(col) != -1 ][0]\n",
    "    x_new[:,indice] = process_12(x_train[:,indice])"
   ]
  },
  {
   "cell_type": "markdown",
   "id": "bd310950",
   "metadata": {},
   "source": [
    "DO EYEEXAM SIMILAR TO PREVIOUS THAT I HAVEN'T DONE"
   ]
  },
  {
   "cell_type": "code",
   "execution_count": 236,
   "id": "8ff3af1f",
   "metadata": {},
   "outputs": [],
   "source": [
    "arrays_to_drop.append(\"PAINACT2\")\n",
    "arrays_to_drop.append(\"QLMENTL2\")"
   ]
  },
  {
   "cell_type": "markdown",
   "id": "0aabf11c",
   "metadata": {},
   "source": [
    "same for a lot of them we will remove them same as Feature_Engineering"
   ]
  },
  {
   "cell_type": "code",
   "execution_count": null,
   "id": "30808c5a",
   "metadata": {},
   "outputs": [],
   "source": []
  }
 ],
 "metadata": {
  "kernelspec": {
   "display_name": "Python 3 (ipykernel)",
   "language": "python",
   "name": "python3"
  },
  "language_info": {
   "codemirror_mode": {
    "name": "ipython",
    "version": 3
   },
   "file_extension": ".py",
   "mimetype": "text/x-python",
   "name": "python",
   "nbconvert_exporter": "python",
   "pygments_lexer": "ipython3",
   "version": "3.10.7"
  }
 },
 "nbformat": 4,
 "nbformat_minor": 5
}
