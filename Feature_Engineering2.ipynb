{
 "cells": [
  {
   "cell_type": "code",
   "execution_count": 151,
   "id": "fc8435b0",
   "metadata": {},
   "outputs": [],
   "source": [
    "import numpy as np\n",
    "import helpers \n",
    "\n",
    "datapath = \"./dataset/\"\n",
    "\n",
    "\n",
    "x_train, x_test, y_train, train_ids, test_ids = helpers.load_csv_data(datapath)"
   ]
  },
  {
   "cell_type": "code",
   "execution_count": 152,
   "id": "ac313336",
   "metadata": {},
   "outputs": [
    {
     "data": {
      "text/plain": [
       "(109379, 321)"
      ]
     },
     "execution_count": 152,
     "metadata": {},
     "output_type": "execute_result"
    }
   ],
   "source": [
    "data_path = \"./dataset/x_train.csv\"\n",
    "feature_names =  np.genfromtxt(data_path, max_rows=2, delimiter=',', names=True).dtype.names\n",
    "feature_names = feature_names[1:] ## TODO , j'ai l'impression qu'il faut faire ça vue que x_train a pas ID\n",
    "columns = np.asarray(feature_names[0:])\n",
    "columns\n",
    "x_test.shape"
   ]
  },
  {
   "cell_type": "code",
   "execution_count": 153,
   "id": "7d9c16e8",
   "metadata": {},
   "outputs": [
    {
     "data": {
      "text/plain": [
       "\"\\n  \\n   on peux remplacer \\n\\n for i in range(len(new_column)):\\n       if new_column[i] == 3:  \\n            new_column[i] = 0\\n\\n    par ça , c'est plus court et aussi lisible \\n    new_column[new_column==3]=0\\n \""
      ]
     },
     "execution_count": 153,
     "metadata": {},
     "output_type": "execute_result"
    }
   ],
   "source": [
    "\n",
    "\n",
    "# TODO ATTENTION , dans chaque process ,     new_column = column.copy() \n",
    "# Python fait du passage par référence \n",
    " \n",
    "\n",
    "# TODO , all the variable in variables_for_process2 could be encode using one_hot_encoding_special,2,[7,9]\n",
    "\n",
    "# \n",
    "\"\"\"\n",
    "  \n",
    "   on peux remplacer \n",
    "\n",
    " for i in range(len(new_column)):\n",
    "       if new_column[i] == 3:  \n",
    "            new_column[i] = 0\n",
    "\n",
    "    par ça , c'est plus court et aussi lisible \n",
    "    new_column[new_column==3]=0\n",
    " \"\"\""
   ]
  },
  {
   "cell_type": "code",
   "execution_count": 154,
   "id": "e2527deb",
   "metadata": {},
   "outputs": [
    {
     "data": {
      "text/plain": [
       "117"
      ]
     },
     "execution_count": 154,
     "metadata": {},
     "output_type": "execute_result"
    }
   ],
   "source": [
    "\n",
    "collumns_to_delete = []\n",
    "D = x_train.shape[1]\n",
    "\n",
    "for i in range(D-1):\n",
    "    if len(np.where(np.isnan(x_train[:,i]))[0]) > x_train.shape[0]*0.75: #TODO Deleting collumns with >60% nan \n",
    "        collumns_to_delete.append(columns[i])\n",
    "\n",
    "\n",
    "\n",
    "len(collumns_to_delete)"
   ]
  },
  {
   "cell_type": "code",
   "execution_count": 155,
   "id": "11d4ca71",
   "metadata": {},
   "outputs": [
    {
     "name": "stdout",
     "output_type": "stream",
     "text": [
      "hot encode special shape  61\n",
      "hot encode normal  9\n"
     ]
    },
    {
     "data": {
      "text/plain": [
       "((328135, 331), (109379, 331))"
      ]
     },
     "execution_count": 155,
     "metadata": {},
     "output_type": "execute_result"
    }
   ],
   "source": [
    "## Acess to collumns i : x_train[:,i]\n",
    "x_new_train = np.copy(x_train) \n",
    "x_append_train = np.empty((x_train.shape[0],0))\n",
    "\n",
    "x_new_test= np.copy(x_test) \n",
    "x_append_test = np.empty((x_test.shape[0],0))\n",
    "\n",
    "def standardize(x):\n",
    "    \"\"\"Standardize the original data set.\"\"\"\n",
    "    #mean_x = np.mean(x)\n",
    "    #x = x - mean_x\n",
    "    #std_x = np.std(x)\n",
    "    #x = x / std_x\n",
    "    return x\n",
    "\n",
    "\n",
    "\n",
    "\n",
    "def preprocessing_refactorisation(list_of_collumns_to_process,processing_function):\n",
    "    for col in list_of_collumns_to_process:\n",
    "        tab = [i for i, item in enumerate(feature_names) if item.find(col) != -1 ]\n",
    "        if (len(tab)>0):\n",
    "            indice = tab[0]\n",
    "            x_new_train[:,indice] = standardize(processing_function(x_train[:,indice]))\n",
    "            x_new_test[:,indice] = standardize(processing_function(x_test[:,indice]))\n",
    "\n",
    "\n",
    "\n",
    "\n",
    "# TODO CAREFULL , ONE hot Encoding increase the size of the size of the dataset\n",
    "\n",
    "collumn_to_oneHotEncode = [\"_STATE\",\"IMONTH\",\"IDAY\",\"SEX\",\"_DRDXAR1\",\"_RACE_G1\",\"_BMI5CAT\",\"ACTIN11_\",\"ACTIN21_\"]\n",
    "collumn_to_oneHotencode_special = [(\"MARITAL\",6,[9]),(\"EDUCA\",6,[9]),(\"RENTHOM1\",3,[7,9]),(\"EMPLOY1\",8,[9]),(\"INCOME2\",8,[77,99]),(\"GENHLTH\",5,[7,9]),\n",
    "                                   (\"HAREHAB1\",2,[7,9]),(\"STREHAB1\",2,[7,9]),(\"CVDASPRN\",2,[7,9]),(\"ASPUNSAF\",3,[7,9]),(\"RLIVPAIN\",2,[7,9]),(\"RDUCHART\",2,[7,9]),\n",
    "                                   (\"RDUCSTRK\",2,[7,9]),(\"ARTHWGT\",2,[7,9]),(\"ARTHEXER\",2,[7,9]),(\"ARTHEDU\",2,[7,9]),\n",
    "                                   (\"TETANUS\",4,[7,9]),(\"HPVADVC2\",3,[7,9]),(\"HPVADSHT\",3,[77,99]),(\"SHINGLE2\",2,[7,9]),\n",
    "                                   (\"SCNTLPAD\",4,[7,9]),(\"SXORIENT\",4,[7,9]),(\"TRNSGNDR\",4,[7,9]),\n",
    "                                   (\"CASTHDX2\",2,[7,9]),(\"CASTHNO2\",2,[7,9]),(\"MISTMNT\",2,[7,9]),(\"ADANXEV\",2,[7,9]),(\"_CRACE1\",7,[77,99]),\n",
    "                                   (\"_CPRACE\",7,[77,99]),\n",
    "                                   (\"_RFHLTH\",2,[9]),(\"_HCVU651\",2,[9]),(\"_RFHYPE5\",2,[9]),(\"_CHOLCHK\",3,9),(\"_RFCHOL\",2,[9]),(\"_LTASTH1\",2,9),(\"_CASTHM1\",2,[9]),\n",
    "                                    (\"_ASTHMS1\",3,[9]),(\"_PRACE1\",8,[77,99]),(\"_MRACE1\",7,[77,99]),(\"_HISPANC\",2,[9]),(\"_RACE\",8,[9]),(\"_RACEG21\",2,[9]),\n",
    "                                    (\"_RACEGR3\",5,[9]),(\"_AGEG5YR\",13,[14]),(\"_AGE65YR\",2,[3]),(\"_RFBMI5\",2,[9]),(\"_CHLDCNT\",6,[9]),(\"_RFSMOK3\",2,[9]),\n",
    "                                    (\"DRNKANY5\",2,[7,9]),(\"_RFBING5\",2,[9]),(\"_RFDRHV5\",2,[9]),(\"_FRTLT1\",2,[9]),(\"_VEGLT1\",2,[9]),(\"_TOTINDA\",2,[9]),\n",
    "                                    (\"_PAINDX1\",2,[9]),(\"_PAREC1\",4,[9])\n",
    "                                   ]\n",
    "\n",
    "\n",
    "collumn_to_oneHotencode_special_123 = [(\"PERSDOC2\",3,[7,9]),(\"SMOKDAY2\",3,[7,9])]\n",
    "collumn_to_oneHotencode_special_pregnancy = [(\"BPHIGH4\",4,[7,9]),(\"DIABETE3\",4,[7,9]),(\"PREDIAB1\",3,[7,9])]\n",
    "\n",
    "\n",
    "collumn_to_oneHotencode_special= collumn_to_oneHotencode_special+collumn_to_oneHotencode_special_123+collumn_to_oneHotencode_special_pregnancy\n",
    "\n",
    "\n",
    "print(\"hot encode special shape \",len(collumn_to_oneHotencode_special))\n",
    "print(\"hot encode normal \",len(collumn_to_oneHotEncode))\n",
    "\n",
    "#One hot encoded collumns must be deleted\n",
    "collumns_to_delete_from_one_hot =[\"_STATE\",\"IMONTH\",\"IDAY\",\n",
    "                                  \"SEX\",\"MARITAL\",\"EDUCA\",\"RENTHOM1\",\"EMPLOY1\",\"INCOME2\",\"GENHLTH\",\n",
    "                                  \"PERSDOC2\",\"SMOKDAY2\",\n",
    "                                  \"BPHIGH4\",\"DIABETE3\",\n",
    "                                  \"HAREHAB1\",\"STREHAB1\",\"CVDASPRN\",\"ASPUNSAF\",\"RLIVPAIN\",\"RDUCHART\",\"RDUCSTRK\",\"ARTHWGT\",\"ARTHEXER\",\"ARTHEDU\",\n",
    "                                  \"TETANUS\",\"HPVADVC2\",\"HPVADSHT\",\"SHINGLE2\",\"SCNTLPAD\",\"SXORIENT\",\"TRNSGNDR\",\"CASTHDX2\",\"CASTHNO2\",\"MISTMNT\",\n",
    "                                  \"ADANXEV\",\"_CRACE1\",\"_CPRACE\",\"_RFHLTH\",\"_HCVU651\",\"_RFHYPE5\",\"_CHOLCHK\",\"_RFCHOL\",\"_MICHD\",\"_LTASTH1\",\"_CASTHM1\",\n",
    "                                  \"_ASTHMS1\",\"_DRDXAR1\",\"_PRACE1\",\"_MRACE1\",\"_HISPANC\",\"_RACE\",\"_RACEG21\",\"_RACEGR3\",\"_RACE_G1\",\n",
    "                                  \"_AGEG5YR\",\"_AGE65YR\",\"_BMI5CAT\",\"_RFBMI5\",\"_CHLDCNT\",\"_RFSMOK3\",\"DRNKANY5\",\"_RFBING5\",\"_RFDRHV5\",\"_FRTLT1\",\"_VEGLT1\",\"_TOTINDA\",\"ACTIN11_\",\"ACTIN21_\",\n",
    "                                  \"_PAINDX1\",\"_PAREC1\",\n",
    "                                  ]\n",
    "\n",
    "\n",
    "collumns_to_delete = collumns_to_delete+collumns_to_delete_from_one_hot\n",
    "\n",
    "\n",
    "\n",
    "#One hot encoding of the collumn , Assumes that the collumn contains value between 1 and K\n",
    "def one_hot_encoding(collumn):\n",
    "    collumn[np.isnan(collumn)] = 0\n",
    "    int_coll = collumn.astype(int)\n",
    "    num_classes = max(int_coll)+1\n",
    "    result = np.eye(num_classes)[int_coll]\n",
    "\n",
    "    return result\n",
    "\n",
    "\n",
    "# ONe hot encoding of the collumn , assumes that the collumns contains values between 1 and num_max , and that the value skip correspond to Nan / not answered ...\n",
    "\n",
    "def one_hot_encoding_special(collumn,num_max,skip):\n",
    "    collumn[np.isnan(collumn)] = 0\n",
    "    collumn_as_int = collumn.astype(int)\n",
    "    num_classes = num_max+1\n",
    "    collumn_as_int[np.isin(collumn_as_int, skip)]=0\n",
    "    result = np.eye(num_classes)[collumn_as_int]\n",
    "    \n",
    "    return result\n",
    "\n",
    "\n",
    "\n",
    "for col in collumn_to_oneHotEncode :\n",
    "    indice = [i for i, item in enumerate(feature_names) if item.find(col) != -1][0]\n",
    "    if len(np.where(np.isnan(x_train[:,indice]))[0]) < x_train.shape[0]*0.75:\n",
    "        encoded_train  = one_hot_encoding(x_train[:,indice])\n",
    "        x_append_train = np.hstack((x_append_train,encoded_train))\n",
    "        encoded_test = one_hot_encoding(x_test[:,indice])\n",
    "        x_append_test = np.hstack((x_append_test,encoded_test))\n",
    "\n",
    "    \n",
    "\n",
    "for col,num_max,skip in collumn_to_oneHotencode_special:\n",
    "    indice = [i for i, item in enumerate(feature_names) if item.find(col) != -1][0]\n",
    "    if len(np.where(np.isnan(x_train[:,indice]))[0]) < x_train.shape[0]*0.75:\n",
    "        encoded_train  = one_hot_encoding_special(x_train[:,indice],num_max,skip)\n",
    "        x_append_train = np.hstack((x_append_train,encoded_train))\n",
    "\n",
    "        encoded_test  = one_hot_encoding_special(x_test[:,indice],num_max,skip)\n",
    "        x_append_test = np.hstack((x_append_test,encoded_test))\n",
    "\n",
    "\n",
    "x_append_train.shape,x_append_test.shape # Currently , shape 415"
   ]
  },
  {
   "cell_type": "markdown",
   "id": "3184ce56",
   "metadata": {},
   "source": [
    "I think we should not consider IDATE, we should directly consider IMONTH, IDAY, IYEAR since it corresponds to the same thing, we should consider the columns to potentially drop"
   ]
  },
  {
   "cell_type": "code",
   "execution_count": 156,
   "id": "8f015ee1",
   "metadata": {},
   "outputs": [
    {
     "data": {
      "text/plain": [
       "285"
      ]
     },
     "execution_count": 156,
     "metadata": {},
     "output_type": "execute_result"
    }
   ],
   "source": [
    "\n",
    "\n",
    "array_to_trop_list = [\"DIS\"]\n",
    "array_to_drop_Useless = [\"_PSU\",\"SEQNO\",\"CTELENUM\",\"STATERES\",\"CELLFON3\",\"DISPCODE\",\"PVTRESD1\",\"CTELNUM1\",\"CELLFON2\",\n",
    "                         \"PVTRESD2\",\"LANDLINE\",\"HHADULT\",\"NUMHHOL2\",\"IMFVPLAC\",\"WHRTST10\",\"NUMADULT\" , \"NUMMEN\" , \"NUMWOMEN\",\n",
    "                         \"RCSGENDR\",\"RCSRLTN2\",\"QSTVER\",\"QSTLANG\",\"EXACTOT1\",\"EXACTOT2\",\"MSCODE\",\"_STSTR\",\"_STRWT\",\"_RAWRAKE\",\"_WT2RAKE\",\n",
    "                         \"_CHISPNC\",\"_CLLCPWT\",\"_DUALUSE\",\"_DUALCOR\",\n",
    "                         \"_AGE_G\",\"HTIN4\",\"WTKG3\",\"HTM4\",\n",
    "                         \n",
    "                         \n",
    "\n",
    "                         \"_MISFRTN\",\"_MISVEGN\",\"_FRTRESP\",\"_VEGRESP\",\"_FRT16\",\"_VEG23\",\"_FRUITEX\",\"_VEGETEX\",\n",
    "                         \"PAMISS1_\",\"_LMTSCL1\",\"_RFSEAT2\",\"_RFSEAT3\",\"_FLSHOT6\",\"_PNEUMO2\",\"_AIDTST3\"\n",
    "\n",
    "                         ,\"CHOLCHK\",\"FLSHTMY2\",\"FEETCHK2\",\"FEETCHK\",\n",
    "                         \"LONGWTCH\" #maybe use it later \n",
    "                         \n",
    "                         \n",
    "                         ]\n",
    "array_to_drop_redundant = [\"IDATE\",\"FMONTH\",\"IYEAR\"] #IYEAR is useless , 99% in 2015\n",
    "array_to_drop_too_many_missing =[\"LADULT\",\"COLGHOUS\",\"CADULT\",\"CCLGHOUS\",\"CSTATE\",\"NUMPHON2\", \"PAINACT2\",\"QLMENTL2\",\"QLSTRES2\",\"QLHLTH2\",\n",
    "                                 \"CRGVREL1\",\"CRGVLNG1\",\"CRGVHRS1\",\"CRGVPRB1\",\"CRGVPERS\", \"CRGVHOUS\",\"CRGVMST2\",\"CRGVEXPT\",\"HIVTSTD3\",\"VIDFCLT2\",\n",
    "                                 \"VIREDIF3\",\"VIPRFVS2\",\"VINOCRE2\",\"VIEYEXM2\",\"VIINSUR2\",\"VICTRCT4\",\"ASERVIST\",\"ASDRVIST\",\"ASRCHKUP\",\"ASACTLIM\",\"ASYMPTOM\",\"ASNOSLEP\",\n",
    "                                 \"ASTHMED3\",\"ASINHALR\"\n",
    "                                 \"PCPSADE1\",\"PCDMDECN\"\n",
    "                                 ]\n",
    "array_to_drop_or_to_oneHot =[\"EXRACT11\",\"EXRACT21\"]\n",
    "\n",
    "collumns_to_delete = collumns_to_delete + array_to_trop_list+array_to_drop_Useless+array_to_drop_redundant+array_to_drop_too_many_missing+array_to_drop_or_to_oneHot\n",
    "\n",
    "len(collumns_to_delete)\n",
    "\n",
    "#CAREFULL , DO NOT RUN MULTIPLE TIME , "
   ]
  },
  {
   "cell_type": "markdown",
   "id": "a5f31798",
   "metadata": {},
   "source": [
    "Process for PHYSHLTH, MENTHLTH, POORHLTH \n",
    "The values corresponds to days, between 1-30 it is already good.\n",
    "We're going to replace all 88 values by 0 because it corresponds to None which is 0 days, and we will assume that those who refused or did not answer have median values."
   ]
  },
  {
   "cell_type": "code",
   "execution_count": 157,
   "id": "d89372a2",
   "metadata": {},
   "outputs": [],
   "source": [
    "def process_HLTH(column):\n",
    "    new_column = column.copy()\n",
    "    for i in range(len(new_column)):\n",
    "        if new_column[i] == 88: \n",
    "            new_column[i] = 0\n",
    "            \n",
    "    filtered_elements = [x for x in new_column if 0 <= x <= 30]        \n",
    "    median = np.median(filtered_elements)\n",
    "        \n",
    "    for i in range(len(new_column)):\n",
    "        if ((new_column[i] == 77) or (new_column[i] == 99) or np.isnan(new_column[i])):\n",
    "            new_column[i] = median    \n",
    "    return new_column\n"
   ]
  },
  {
   "cell_type": "code",
   "execution_count": 158,
   "id": "8223a569",
   "metadata": {
    "scrolled": true
   },
   "outputs": [],
   "source": [
    "variables_for_process_HLTH = [\"PHYSHLTH\",\"MENTHLTH\", \"POORHLTH\"]\n",
    "\n",
    "preprocessing_refactorisation(variables_for_process_HLTH,process_HLTH)"
   ]
  },
  {
   "cell_type": "markdown",
   "id": "c55e0766",
   "metadata": {},
   "source": [
    "Process for values that have as answer Yes or No\n",
    "We're going to replace No by 0 and yes by 1, since yes is already by 1, we're going to change 2 by 0. For values 7 which corresponds to don't know or not sure, 9 for refused, and BLANK for missing values, we're going to take the median\n",
    "\n",
    "We're going to use this method for variables : HLTHPLN1, MEDCOST, BPMEDS, BLOODCHO, TOLDHI2, CVDINFR4, CVDCRHD4, CVDSTRK3, ASTHMA3, ASTHNOW, CHCSCNCR, CHCOCNCR, CHCCOPD1, HAVARTH3, ADDEPEV2, CHCKIDNY, "
   ]
  },
  {
   "cell_type": "code",
   "execution_count": 159,
   "id": "14e8b1fd",
   "metadata": {},
   "outputs": [],
   "source": [
    "def process_2(column):\n",
    "    new_column = column.copy()\n",
    "    for i in range(len(new_column)):\n",
    "        if new_column[i] == 2: \n",
    "            new_column[i] = 0\n",
    "            \n",
    "    filtered_elements = [x for x in new_column if 0 <= x <= 1]        \n",
    "    median = np.median(filtered_elements)\n",
    "        \n",
    "    for i in range(len(new_column)):\n",
    "        if ((new_column[i] == 7) or (new_column[i] == 9) or np.isnan(new_column[i])):\n",
    "            new_column[i] = median\n",
    "            \n",
    "    return new_column"
   ]
  },
  {
   "cell_type": "code",
   "execution_count": 160,
   "id": "16e1db4c",
   "metadata": {},
   "outputs": [],
   "source": [
    "variables_for_process2 = [\"HLTHPLN1\", \"MEDCOST\", \"BPMEDS\", \"BLOODCHO\", \"TOLDHI2\",\n",
    "                          \"CVDSTRK3\", \"ASTHMA3\", \"ASTHNOW\",\n",
    "                          \"CHCSCNCR\", \"CHCOCNCR\", \"CHCCOPD1\", \"HAVARTH3\", \"ADDEPEV2\",\n",
    "                          \"CHCKIDNY\", \"CPDEMO1\", \"VETERAN3\", \"INTERNET\", \"PREGNANT\",\n",
    "                         \"QLACTLM2\", \"USEEQUIP\", \"BLIND\", \"DECIDE\", \"DIFFWALK\", \"DIFFDRES\",\n",
    "                          \"DIFFALON\", \"SMOKE100\",\"STOPSMK2\", \"EXERANY2\",\n",
    "                         \"LMTJOIN3\", \"ARTHDIS2\", \"FLUSHOT6\", \"PNEUVAC3\",\n",
    "                         \"HIVTST6\", \"PDIABTST\", \"INSULIN\", \"DIABEYE\", \"DIABEDU\",\"CAREGIV1\",\"VIGLUMA2\",\"VIMACDG2\",\"CIMEMLOS\",\"CDDISCUS\",\n",
    "                         \"WTCHSALT\",\"DRADVISE\",\"ASATTACK\",\n",
    "                         \"HADMAM\",\"HADPAP2\",\"HPVTEST\",\"HADHYST2\",\"PROFEXAM\",\"BLDSTOOL\",\n",
    "                         \"HADSIGM3\",\"HADSGCO1\",\"PCPSAAD2\",\"PCPSADI1\",\"PCPSARE1\",\"PSATEST1\",\n",
    "                         \"_PA30021\",\"_PASTRNG\",\"_PASTAE1\"\n",
    "                         ]\n",
    "\n",
    "preprocessing_refactorisation(variables_for_process2,process_2)"
   ]
  },
  {
   "cell_type": "markdown",
   "id": "98db4ebd",
   "metadata": {},
   "source": [
    "Process for CHECKUP1, we have to check what to do with never have been checked I gave 0 but I think we should instead do 5\n",
    "see how we can do both CHOLCHK and CHECKUP1"
   ]
  },
  {
   "cell_type": "code",
   "execution_count": 161,
   "id": "27e9b5cd",
   "metadata": {},
   "outputs": [],
   "source": [
    "def process_3(column):\n",
    "    new_column = column.copy()\n",
    "    for i in range(len(new_column)):\n",
    "        if new_column[i] == 8: \n",
    "            new_column[i] = 0\n",
    "            \n",
    "    filtered_elements = [x for x in new_column if 0 <= x <= 4]        \n",
    "    median = np.median(filtered_elements)\n",
    "        \n",
    "    for i in range(len(new_column)):\n",
    "        if ((new_column[i] == 7) or (new_column[i] == 9) or np.isnan(new_column[i])):\n",
    "            new_column[i] = median\n",
    "            \n",
    "    return new_column"
   ]
  },
  {
   "cell_type": "code",
   "execution_count": 162,
   "id": "8963f938",
   "metadata": {},
   "outputs": [],
   "source": [
    "variables_for_process3 = [\"CHECKUP1\", \"CHOLCHK\"]\n",
    "\n",
    "preprocessing_refactorisation(variables_for_process3,process_3)\n"
   ]
  },
  {
   "cell_type": "markdown",
   "id": "43c96591",
   "metadata": {},
   "source": [
    "See process for DIABAGE2, how old were you (ages between 1-97) ?"
   ]
  },
  {
   "cell_type": "code",
   "execution_count": 163,
   "id": "4c83622f",
   "metadata": {},
   "outputs": [],
   "source": [
    "def process_4(column):\n",
    "    new_column = column.copy()\n",
    "\n",
    "    filtered_elements = [x for x in new_column if 1 <= x <= 97]        \n",
    "    median = np.median(filtered_elements)\n",
    "        \n",
    "    for i in range(len(new_column)):\n",
    "        if ((new_column[i] == 98) or (new_column[i] == 99) or np.isnan(new_column[i])):\n",
    "            new_column[i] = median\n",
    "            \n",
    "    return new_column"
   ]
  },
  {
   "cell_type": "code",
   "execution_count": 164,
   "id": "077f5c51",
   "metadata": {},
   "outputs": [],
   "source": [
    "# TODO DIABAGE2 has 384 204 missing values , do we keep it ? \n",
    "\n",
    "variables_for_process4 = [\"DIABAGE2\"]\n",
    "\n",
    "preprocessing_refactorisation(variables_for_process4,process_4)"
   ]
  },
  {
   "cell_type": "markdown",
   "id": "3183fd73",
   "metadata": {},
   "source": [
    "See process for CHILDREN, values between 1-87, None corresponds to 88 we will transform to 0"
   ]
  },
  {
   "cell_type": "code",
   "execution_count": 165,
   "id": "c164ec06",
   "metadata": {},
   "outputs": [],
   "source": [
    "def process_5(column):\n",
    "    new_column = column\n",
    "    for i in range(len(new_column)):\n",
    "        if new_column[i] == 88: \n",
    "            new_column[i] = 0\n",
    "            \n",
    "    filtered_elements = [x for x in new_column if 0 <= x <= 87]        \n",
    "    median = np.median(filtered_elements)\n",
    "        \n",
    "    for i in range(len(new_column)):\n",
    "        if ((new_column[i] == 98) or np.isnan(new_column[i])):\n",
    "            new_column[i] = median\n",
    "            \n",
    "    return new_column"
   ]
  },
  {
   "cell_type": "code",
   "execution_count": 166,
   "id": "7c624ba7",
   "metadata": {},
   "outputs": [],
   "source": [
    "variables_for_process5 = [\"CHILDREN\"]\n",
    "\n",
    "\n",
    "preprocessing_refactorisation(variables_for_process5,process_5)"
   ]
  },
  {
   "cell_type": "markdown",
   "id": "9941d900",
   "metadata": {},
   "source": [
    "See process for WEIGHT2, For weight we will put everything in kilograms, so for values between 50-0999 which is in pound we will transform it it kg, and for values between 9000-9998 we will remove the first column of the value because it only corresponds to the fact that the value is in kg.\n",
    "\n",
    "See process for HEIGHT3, we will transform everything in centimeters, from inches to centimers"
   ]
  },
  {
   "cell_type": "code",
   "execution_count": 167,
   "id": "1b028073",
   "metadata": {},
   "outputs": [],
   "source": [
    "\n",
    "\n",
    "\n",
    "def process_6_weight(column):\n",
    "    new_column = column.copy()\n",
    "\n",
    "    \n",
    "    for i in range(len(new_column)):\n",
    "        if new_column[i] >= 50 and new_column[i] <= 999: \n",
    "            new_column[i] = new_column[i] * 0.453592\n",
    "        elif new_column[i] >= 9000 and new_column[i] <= 9998: \n",
    "            new_column[i] = new_column[i] - 9000\n",
    "\n",
    "            \n",
    "    filtered_elements = [x for x in new_column if 0 <= x <= 999]        \n",
    "    median = np.median(filtered_elements)\n",
    "        \n",
    "    for i in range(len(new_column)):\n",
    "        if ((new_column[i] == 7777) or (new_column[i] == 9999) or np.isnan(new_column[i])):\n",
    "            new_column[i] = median\n",
    "            \n",
    "    return new_column\n",
    "\n",
    "def process_6_height(column):\n",
    "    new_column = column.copy()\n",
    "    \n",
    "\n",
    "\n",
    "\n",
    "    for i in range(len(new_column)):\n",
    "        if new_column[i] >= 200 and new_column[i] <= 711: \n",
    "\n",
    "            feet = new_column[i]//100\n",
    "            inch = (new_column[i]-feet*100)+feet*12\n",
    "            new_column[i] = inch* 2.54\n",
    "        elif new_column[i] >= 9000 and new_column[i] <= 9998: \n",
    "            new_column[i] = new_column[i] - 9000\n",
    "\n",
    "       \n",
    "            \n",
    "    filtered_elements = [x for x in new_column if 0 <= x <= 999]        \n",
    "    median = np.median(filtered_elements)\n",
    "        \n",
    "    for i in range(len(new_column)):\n",
    "        if ((new_column[i] == 7777) or (new_column[i] == 9999) or np.isnan(new_column[i])):\n",
    "            new_column[i] = median\n",
    "            \n",
    "    return new_column"
   ]
  },
  {
   "cell_type": "code",
   "execution_count": 168,
   "id": "09a62ce0",
   "metadata": {},
   "outputs": [],
   "source": [
    "preprocessing_refactorisation([\"WEIGHT2\"],process_6_weight)\n",
    "preprocessing_refactorisation([\"HEIGHT3\"],process_6_height)"
   ]
  },
  {
   "cell_type": "markdown",
   "id": "38d6f2ea",
   "metadata": {},
   "source": [
    "We do process for ALCDAY5 where :\n",
    "- the value in the form 1_ _ = days per week, there are 4 week per month\n",
    "- 2_ _ = days in the past 30 day\n",
    "- 888 no drinks we will then consider 0\n",
    "- for the values 777, 999, BLANK, we will consider the mean\n",
    "\n",
    "The new value corresponds to the number of days per month you consumed at least one drink\n",
    "\n",
    "Same thing works for EXEROFT1"
   ]
  },
  {
   "cell_type": "code",
   "execution_count": 169,
   "id": "902018d8",
   "metadata": {},
   "outputs": [],
   "source": [
    "def process_7(column):\n",
    "    new_column = column.copy()\n",
    "    for i in range(len(new_column)):\n",
    "        if new_column[i] >= 101 and new_column[i] <= 199: \n",
    "            new_column[i] = (new_column[i] - 100) * 4\n",
    "        elif new_column[i] >= 201 and new_column[i] <= 299: \n",
    "            new_column[i] = (new_column[i] - 200)\n",
    "        elif (new_column[i] == 888): \n",
    "            new_column[i] = 0\n",
    "            \n",
    "    filtered_elements = [x for x in new_column if 0 <= x <= 99]        \n",
    "    median = np.median(filtered_elements)\n",
    "        \n",
    "    for i in range(len(new_column)):\n",
    "        if ((new_column[i] == 777) or (new_column[i] == 999) or np.isnan(new_column[i])):\n",
    "            new_column[i] = median\n",
    "            \n",
    "    return new_column"
   ]
  },
  {
   "cell_type": "code",
   "execution_count": 170,
   "id": "fc33ee25",
   "metadata": {},
   "outputs": [],
   "source": [
    "variables_for_process7 = [\"ALCDAY5\", \"EXEROFT1\", \"EXEROFT2\", \"STRENGTH\"]\n",
    "\n",
    "\n",
    "\n",
    "preprocessing_refactorisation(variables_for_process7,process_7)"
   ]
  },
  {
   "cell_type": "markdown",
   "id": "a43e97fe",
   "metadata": {},
   "source": [
    "Do process for Alcohol, especially for AVEDRNK2 and the other, we are considering if it is BLANK because it is not asked since the previous answer is no (888), which is the answer to the question have you had any alcoholic beverage. Since the answer to the variable name ALCDAY5 is no they will not ask the other questions. "
   ]
  },
  {
   "cell_type": "code",
   "execution_count": 171,
   "id": "095a0a5d",
   "metadata": {},
   "outputs": [],
   "source": [
    "def process_8(column, column_ALCDAY5):\n",
    "    new_column = column.copy()\n",
    "    for i in range(len(new_column)):\n",
    "        if (np.isnan(new_column[i]) and column_ALCDAY5[i] == 888): \n",
    "            new_column[i] = 0\n",
    "\n",
    "            \n",
    "    filtered_elements = [x for x in new_column if 0 <= x <= 76]        \n",
    "    median = np.median(filtered_elements)\n",
    "        \n",
    "    for i in range(len(new_column)):\n",
    "        if ((new_column[i] == 77) or (new_column[i] == 99) or np.isnan(new_column[i])):\n",
    "            new_column[i] = median\n",
    "            \n",
    "    return new_column"
   ]
  },
  {
   "cell_type": "code",
   "execution_count": 172,
   "id": "e4cf6290",
   "metadata": {},
   "outputs": [],
   "source": [
    "\n",
    "\n",
    "\n",
    "variables_for_process8 = [\"AVEDRNK2\", \"DRNK3GE5\", \"MAXDRNKS\" ]\n",
    "indice_ALCDAY5 = [i for i, item in enumerate(feature_names) if item.find(\"ALCDAY5\") != -1 ][0]\n",
    "for col in variables_for_process8 :\n",
    "    indice = [i for i, item in enumerate(feature_names) if item.find(col) != -1 ][0]\n",
    "    x_new_train[:,indice] = process_8(x_train[:,indice], x_train[:,indice_ALCDAY5])\n",
    "    x_new_test[:,indice] = process_8(x_test[:,indice], x_test[:,indice_ALCDAY5])"
   ]
  },
  {
   "cell_type": "markdown",
   "id": "eb9ac6e9",
   "metadata": {},
   "source": [
    "Process for FRUITJU1, FRUIT1, FVBEANS, FVGREEN, FVORANG, VEGETAB1  . We are going to use  information about FRUITJUI1 to understand how the values in FRUIT1 works, indeed,\n",
    "- the value in the form 1_ _ = times per day, we will consider there are 30 days per month\n",
    "- 2_ _ = times per week, we will consider there are 4 weeks per month (maybe you want to consider more 4,..)\n",
    "- 300 means less than one time per month, we will consider 0 \n",
    "- 3_ _ = times per month\n",
    "- 555 never we will then consider 0\n",
    "- for the values 777, 999, BLANK we will consider the median"
   ]
  },
  {
   "cell_type": "code",
   "execution_count": 173,
   "id": "f8f50736",
   "metadata": {},
   "outputs": [],
   "source": [
    "def process_9(column):\n",
    "    new_column = column.copy()\n",
    "    for i in range(len(new_column)):\n",
    "        if new_column[i] >= 101 and new_column[i] <= 199: \n",
    "            new_column[i] = (new_column[i] - 100) * 30\n",
    "        elif new_column[i] >= 201 and new_column[i] <= 299: \n",
    "            new_column[i] = (new_column[i] - 200) * 4\n",
    "        elif (new_column[i] == 300) or (new_column[i] == 555): \n",
    "            new_column[i] = 0\n",
    "        elif new_column[i] >= 301 and new_column[i] <= 399: \n",
    "            new_column[i] = (new_column[i] - 300)\n",
    "\n",
    "            \n",
    "    filtered_elements = [x for x in new_column if 0 <= x <= 99]        \n",
    "    median = np.median(filtered_elements)\n",
    "        \n",
    "    for i in range(len(new_column)):\n",
    "        if ((new_column[i] == 777) or (new_column[i] == 999) or np.isnan(new_column[i])):\n",
    "            new_column[i] = median\n",
    "            \n",
    "    return new_column"
   ]
  },
  {
   "cell_type": "code",
   "execution_count": 174,
   "id": "866ef97a",
   "metadata": {},
   "outputs": [],
   "source": [
    "\n",
    "\n",
    "\n",
    "variables_for_process9 = [\"FRUITJU1\", \"FRUIT1\", \"FVBEANS\",\n",
    "                          \"FVGREEN\", \"FVORANG\", \"VEGETAB1\"]\n",
    "preprocessing_refactorisation(variables_for_process9,process_9)"
   ]
  },
  {
   "cell_type": "markdown",
   "id": "2c4eb136",
   "metadata": {},
   "source": [
    "We do process for EXERHMM1, we have values in hours and minutes, we want it to be continious, we have _ _ _, the first value correspond to the number of hours, the two other values correspond to minutes, We will convert everything to minutes \n",
    "Also works for EXERHMM2"
   ]
  },
  {
   "cell_type": "code",
   "execution_count": 175,
   "id": "551542da",
   "metadata": {},
   "outputs": [],
   "source": [
    "def process_10(column):\n",
    "    new_column = column.copy()\n",
    "    for i in range(len(new_column)):\n",
    "        if ((new_column[i] >= 1 and new_column[i] <= 759) \n",
    "        or (new_column[i] >= 800 and new_column[i] <= 959)):             \n",
    "            first_digit = new_column[i] // 100\n",
    "            digits2_3 = new_column[i] % 100           \n",
    "            new_column[i] = first_digit * 60 + digits2_3\n",
    "\n",
    "            \n",
    "    filtered_elements = [x for x in new_column if 0 <= x <= 600]        \n",
    "    median = np.median(filtered_elements)\n",
    "        \n",
    "    for i in range(len(new_column)):\n",
    "        if ((new_column[i] == 777) or (new_column[i] == 999) or np.isnan(new_column[i])):\n",
    "            new_column[i] = median\n",
    "            \n",
    "    return new_column"
   ]
  },
  {
   "cell_type": "code",
   "execution_count": 176,
   "id": "8dad8d38",
   "metadata": {},
   "outputs": [],
   "source": [
    "variables_for_process10 = [\"EXERHMM1\", \"EXERHMM2\"]\n",
    "\n",
    "preprocessing_refactorisation(variables_for_process10,process_10)"
   ]
  },
  {
   "cell_type": "markdown",
   "id": "a01400e2",
   "metadata": {},
   "source": []
  },
  {
   "cell_type": "markdown",
   "id": "c2546e16",
   "metadata": {},
   "source": [
    "DO IMFVPLAC"
   ]
  },
  {
   "cell_type": "markdown",
   "id": "9cf7b417",
   "metadata": {},
   "source": [
    "We will process the values for BLDSUGAR, FEETCHK2\n",
    "We want to have the times they checked something per year:\n",
    "- the value in the form 1_ _ = times per day, we will consider there are 365 days in a year\n",
    "- 2_ _ = times per week, we will consider there are 52 weeks per year (you may want to consider there are more (52,143))\n",
    "- 3_ _ = times per month, we consider there are 12 months in a year\n",
    "- 4_ _ = times per year\n",
    "- 555 no feet, we will then consider 0\n",
    "- 888 never, whichi means 0\n",
    "- for the values 777, 999, BLANK we will consider the median\n"
   ]
  },
  {
   "cell_type": "code",
   "execution_count": 177,
   "id": "b01b6c4e",
   "metadata": {},
   "outputs": [],
   "source": [
    "def process_11(column):\n",
    "    \n",
    "    new_column = column.copy()\n",
    "    \n",
    "    for i in range(len(new_column)):\n",
    "        if new_column[i] >= 101 and new_column[i] <= 199: \n",
    "            new_column[i] = (new_column[i] - 100) * 365\n",
    "        elif new_column[i] >= 201 and new_column[i] <= 299: \n",
    "            new_column[i] = (new_column[i] - 200) * 52\n",
    "        elif new_column[i] >= 301 and new_column[i] <= 399: \n",
    "            new_column[i] = (new_column[i] - 300) * 12\n",
    "        elif new_column[i] >= 401 and new_column[i] <= 499: \n",
    "            new_column[i] = new_column[i] - 400\n",
    "        elif (new_column[i] == 300) or (new_column[i] == 555): \n",
    "            new_column[i] = 0\n",
    "\n",
    "\n",
    "            \n",
    "    filtered_elements = [x for x in new_column if 0 <= x <= 99]        \n",
    "    median = np.median(filtered_elements)\n",
    "        \n",
    "    for i in range(len(new_column)):\n",
    "        if ((new_column[i] == 777) or (new_column[i] == 999) or np.isnan(new_column[i])):\n",
    "            new_column[i] = median\n",
    "            \n",
    "    return new_column"
   ]
  },
  {
   "cell_type": "code",
   "execution_count": 178,
   "id": "46cb96fe",
   "metadata": {},
   "outputs": [],
   "source": [
    "variables_for_process11 = [\"BLDSUGAR\", \"FEETCHK2\"]\n",
    "preprocessing_refactorisation(variables_for_process11,process_11)\n"
   ]
  },
  {
   "cell_type": "markdown",
   "id": "080f6483",
   "metadata": {},
   "source": [
    "Process for DOCTDIAB, CHKHEMO3, FEETCHK\n",
    "We want all the values to be between 0-76 that corresponds to how many times they did something\n",
    "- 88 which corresponds to None/ 0\n",
    "- 98 never heard of means they have done it 0 times\n",
    "- for the values 77-99-BLANK we will again consider the median"
   ]
  },
  {
   "cell_type": "code",
   "execution_count": 179,
   "id": "84001855",
   "metadata": {},
   "outputs": [],
   "source": [
    "def process_12(column):\n",
    "    new_column = column.copy()\n",
    "    for i in range(len(new_column)):\n",
    "        if (new_column[i] == 88 or new_column[i] == 98 ): \n",
    "            new_column[i] = 0\n",
    "\n",
    "    filtered_elements = [x for x in new_column if 0 <= x <= 76]        \n",
    "    median = np.median(filtered_elements)\n",
    "        \n",
    "    for i in range(len(new_column)):\n",
    "        if ((new_column[i] == 77) or (new_column[i] == 99) or np.isnan(new_column[i])):\n",
    "            new_column[i] = median\n",
    "            \n",
    "    return new_column"
   ]
  },
  {
   "cell_type": "code",
   "execution_count": 180,
   "id": "380eb674",
   "metadata": {},
   "outputs": [],
   "source": [
    "variables_for_process12 = [\"DOCTDIAB\",\"CHKHEMO3\",\"FEETCHK\"]\n",
    "preprocessing_refactorisation(variables_for_process12,process_12)\n"
   ]
  },
  {
   "cell_type": "code",
   "execution_count": 181,
   "id": "7da44ddd",
   "metadata": {},
   "outputs": [],
   "source": [
    "\n",
    "\n",
    "def process_13(column):\n",
    "    new_column = column.copy()\n",
    "    # Never is mapped to 0 , some days mapped to 1 and every day mapped to 2 \n",
    "    new_column[new_column==3]=0\n",
    "    new_column[new_column==2]=1\n",
    "    new_column[new_column==1]=2\n",
    "            \n",
    "    filtered_elements = [x for x in new_column if 0 <= x <= 2]        \n",
    "    median = np.median(filtered_elements)\n",
    "        \n",
    "    for i in range(len(new_column)):\n",
    "        if ((new_column[i] == 7) or (new_column[i] == 9) or np.isnan(new_column[i])): # DON'T KNOW / REFUSED \n",
    "            new_column[i] = median\n",
    "            \n",
    "    return new_column\n",
    "\n",
    "\n"
   ]
  },
  {
   "cell_type": "code",
   "execution_count": 182,
   "id": "6f281991",
   "metadata": {},
   "outputs": [],
   "source": [
    "variables_for_process13 = [\"USENOW3\",\"ARTHSOCL\",\"SMOKDAY2\",\"_PA150R2\",\"_PA300R2\",\"_LMTACT1\",\"_LMTWRK1\"]\n",
    "preprocessing_refactorisation(variables_for_process13,process_13)"
   ]
  },
  {
   "cell_type": "code",
   "execution_count": 183,
   "id": "9b064a35",
   "metadata": {},
   "outputs": [],
   "source": [
    "def process_14(column):\n",
    "    new_column = column.copy()\n",
    "            \n",
    "    filtered_elements = [x for x in new_column if 0 <= x <= 10]        \n",
    "    median = np.median(filtered_elements)\n",
    "        \n",
    "    for i in range(len(new_column)):\n",
    "        if ((new_column[i] == 77) or (new_column[i] == 99) or np.isnan(new_column[i])): # DON'T KNOW / REFUSED \n",
    "            new_column[i] = median\n",
    "            \n",
    "    return new_column"
   ]
  },
  {
   "cell_type": "code",
   "execution_count": 184,
   "id": "95486955",
   "metadata": {},
   "outputs": [],
   "source": [
    "variables_for_process14 = [\"JOINPAIN\"]\n",
    "preprocessing_refactorisation(variables_for_process14,process_14)"
   ]
  },
  {
   "cell_type": "code",
   "execution_count": 185,
   "id": "694ae9d9",
   "metadata": {},
   "outputs": [],
   "source": [
    "def process_15(column):\n",
    "    new_column = column.copy()\n",
    "    new_column[new_column==8]=5\n",
    "\n",
    "            \n",
    "    filtered_elements = [x for x in new_column if 0 <= x <= 5]        \n",
    "    median = np.median(filtered_elements)\n",
    "        \n",
    "    for i in range(len(new_column)):\n",
    "        if ((new_column[i] == 7) or (new_column[i] == 9) or np.isnan(new_column[i])): # DON'T KNOW / REFUSED \n",
    "            new_column[i] = median\n",
    "            \n",
    "    return new_column"
   ]
  },
  {
   "cell_type": "code",
   "execution_count": 186,
   "id": "3716272d",
   "metadata": {},
   "outputs": [],
   "source": [
    "variables_for_process15 = [\"EYEEXAM\",\"ARTTODAY\",\"SCNTMNY1\",\"SCNTMEL1\",\"SCNTPAID\",\"_EDUCAG\",\"_INCOMG\",\"_SMOKER3\",\"_PACAT1\"]\n",
    "preprocessing_refactorisation(variables_for_process15,process_15)"
   ]
  },
  {
   "cell_type": "code",
   "execution_count": 187,
   "id": "befbea92",
   "metadata": {},
   "outputs": [],
   "source": [
    "def process_16(column):\n",
    "    new_column = column.copy()\n",
    "\n",
    "    new_column[new_column==8]=1\n",
    "\n",
    "            \n",
    "    filtered_elements = [x for x in new_column if 0 <= x <= 6]\n",
    "    median = np.median(filtered_elements)\n",
    "        \n",
    "    for i in range(len(new_column)):\n",
    "        if ((new_column[i] == 7) or (new_column[i] == 9) or np.isnan(new_column[i])): # DON'T KNOW / REFUSED \n",
    "            new_column[i] = median\n",
    "            \n",
    "    return new_column"
   ]
  },
  {
   "cell_type": "code",
   "execution_count": 188,
   "id": "3b40240b",
   "metadata": {},
   "outputs": [],
   "source": [
    "variables_for_process16 = [\"SEATBELT\",\"CDHOUSE\",\"CDASSIST\",\"CDHELP\",\"CDSOCIAL\",\"HOWLONG\",\n",
    "                           \"LASTPAP2\",\"HPLSTTST\",\"LENGEXAM\",\"LSTBLDS3\",\"LASTSIG3\",\"PSATIME\",\"PCPSARS1\",\n",
    "                           \"EMTSUPRT\",\"LSATISFY\"]\n",
    "preprocessing_refactorisation(variables_for_process16,process_16)"
   ]
  },
  {
   "cell_type": "code",
   "execution_count": 189,
   "id": "46ee73a3",
   "metadata": {},
   "outputs": [],
   "source": [
    "def process_17(column):\n",
    "    new_column = column.copy()\n",
    "\n",
    "\n",
    "\n",
    "            \n",
    "    filtered_elements = [x for x in new_column if 0 <= x <= 8]\n",
    "    median = np.median(filtered_elements)\n",
    "        \n",
    "    for i in range(len(new_column)):\n",
    "        if ((new_column[i] == 77) or (new_column[i] == 99) or np.isnan(new_column[i])): # DON'T KNOW / REFUSED \n",
    "            new_column[i] = median\n",
    "            \n",
    "    return new_column"
   ]
  },
  {
   "cell_type": "code",
   "execution_count": 190,
   "id": "1ab67b8c",
   "metadata": {},
   "outputs": [],
   "source": [
    "variables_for_process17 = [\"LASTSMK2\"]\n",
    "preprocessing_refactorisation(variables_for_process17,process_17)"
   ]
  },
  {
   "cell_type": "code",
   "execution_count": 191,
   "id": "92b37b55",
   "metadata": {},
   "outputs": [],
   "source": [
    "def process_18(column):\n",
    "    new_column = column.copy()\n",
    "\n",
    "    filtered_elements = [x for x in new_column if 11 <= x <= 96]        \n",
    "    median = np.median(filtered_elements)\n",
    "        \n",
    "    for i in range(len(new_column)):\n",
    "        if ((new_column[i] == 98) or (new_column[i] == 99) or np.isnan(new_column[i])):\n",
    "            new_column[i] = median\n",
    "            \n",
    "    return new_column"
   ]
  },
  {
   "cell_type": "code",
   "execution_count": 192,
   "id": "a4dfe601",
   "metadata": {},
   "outputs": [],
   "source": [
    "variables_for_process18 = [\"ASTHMAGE\"]\n",
    "preprocessing_refactorisation(variables_for_process18,process_18)"
   ]
  },
  {
   "cell_type": "code",
   "execution_count": 193,
   "id": "ec93fb12",
   "metadata": {},
   "outputs": [],
   "source": [
    "def process_19(column):\n",
    "    new_column = column\n",
    "    for i in range(len(new_column)):\n",
    "        if new_column[i] == 98: \n",
    "            new_column[i] = 0\n",
    "            \n",
    "    filtered_elements = [x for x in new_column if 0 <= x <= 96]        \n",
    "    median = np.median(filtered_elements)\n",
    "        \n",
    "    for i in range(len(new_column)):\n",
    "        if ((new_column[i] == 97)  or (new_column[i] == 99) or np.isnan(new_column[i])):\n",
    "            new_column[i] = median\n",
    "            \n",
    "    return new_column"
   ]
  },
  {
   "cell_type": "code",
   "execution_count": 194,
   "id": "cdf4e405",
   "metadata": {},
   "outputs": [],
   "source": [
    "variables_for_process19 = [\"SCNTWRK1\",\"SCNTLWK1\"]\n",
    "preprocessing_refactorisation(variables_for_process19,process_19)"
   ]
  },
  {
   "cell_type": "code",
   "execution_count": 195,
   "id": "976115bc",
   "metadata": {},
   "outputs": [],
   "source": [
    "def process_20(column):\n",
    "    new_column = column\n",
    "    for i in range(len(new_column)):\n",
    "        if new_column[i] == 88: \n",
    "            new_column[i] = 0\n",
    "            \n",
    "    filtered_elements = [x for x in new_column if 0 <= x <= 14]        \n",
    "    median = np.median(filtered_elements)\n",
    "        \n",
    "    for i in range(len(new_column)):\n",
    "        if ((new_column[i] == 77)  or (new_column[i] == 99) or np.isnan(new_column[i])):\n",
    "            new_column[i] = median\n",
    "            \n",
    "    return new_column"
   ]
  },
  {
   "cell_type": "code",
   "execution_count": 196,
   "id": "81da80fc",
   "metadata": {},
   "outputs": [],
   "source": [
    "variables_for_process20 = [\"ADPLEASR\",\"ADDOWN\",\"ADSLEEP\",\"ADENERGY\",\"ADEAT1\",\"ADFAIL\",\"ADTHINK\",\"ADMOVE\"]\n",
    "preprocessing_refactorisation(variables_for_process20,process_20)"
   ]
  },
  {
   "cell_type": "code",
   "execution_count": 197,
   "id": "5d12c9f8",
   "metadata": {},
   "outputs": [],
   "source": [
    "def process_21(column):\n",
    "    new_column = column\n",
    " \n",
    "    filtered_elements = [x for x in new_column if 0 <= x <= 99999]        \n",
    "    median = np.median(filtered_elements)\n",
    "        \n",
    "    for i in range(len(new_column)):\n",
    "        if ( np.isnan(new_column[i])):\n",
    "            new_column[i] = median\n",
    "            \n",
    "    return new_column"
   ]
  },
  {
   "cell_type": "code",
   "execution_count": 198,
   "id": "9417d2d5",
   "metadata": {},
   "outputs": [],
   "source": [
    "variables_for_process21 = [\"GRENDAY_\",\"ORNGDAY_\",\"VEGEDA1_\",\"FTJUDA1_\",\"FRUTDA1_\",\"BEANDAY_\",\"_FRUTSUM\",\"_VEGESUM\",\"PADUR1_\",\"PADUR2_\",\n",
    "                           \"_MINAC11\",\"_MINAC21\",\"PAMIN11_\",\"PAMIN21_\",\"PA1MIN_\",\"PAVIG11_\",\"PAVIG21_\",\"PA1VIGM_\"]\n",
    "preprocessing_refactorisation(variables_for_process21,process_21)"
   ]
  },
  {
   "cell_type": "code",
   "execution_count": 199,
   "id": "71d40e01",
   "metadata": {},
   "outputs": [],
   "source": [
    "def process_22(column):\n",
    "    new_column = column\n",
    " \n",
    "    filtered_elements = [x for x in new_column if 0 <= x <= 128]        \n",
    "    median = np.median(filtered_elements)\n",
    "        \n",
    "    for i in range(len(new_column)):\n",
    "        if ( np.isnan(new_column[i])):\n",
    "            new_column[i] = median\n",
    "            \n",
    "    return new_column"
   ]
  },
  {
   "cell_type": "code",
   "execution_count": 200,
   "id": "63c24e48",
   "metadata": {},
   "outputs": [],
   "source": [
    "variables_for_process22 = [\"METVL11_\",\"METVL21_\"]\n",
    "preprocessing_refactorisation(variables_for_process22,process_22)"
   ]
  },
  {
   "cell_type": "code",
   "execution_count": 201,
   "id": "9ca1c895",
   "metadata": {},
   "outputs": [],
   "source": [
    "def process_23(column):\n",
    "    new_column = column\n",
    " \n",
    "    filtered_elements = [x for x in new_column if 0 <= x <= 98999]        \n",
    "    median = np.median(filtered_elements)\n",
    "        \n",
    "    for i in range(len(new_column)):\n",
    "        if ((new_column[i] == 99900) or (new_column[i]==99000) or  np.isnan(new_column[i])):\n",
    "            new_column[i] = median\n",
    "            \n",
    "    return new_column"
   ]
  },
  {
   "cell_type": "code",
   "execution_count": 202,
   "id": "c22f0430",
   "metadata": {},
   "outputs": [],
   "source": [
    "variables_for_process23 = [\"MAXVO2_\",\"FC60_\",\"PAFREQ1_\",\"PAFREQ2_\",\"STRFREQ_\"]\n",
    "preprocessing_refactorisation(variables_for_process23,process_23)"
   ]
  },
  {
   "cell_type": "code",
   "execution_count": 203,
   "id": "f6b659c7",
   "metadata": {},
   "outputs": [],
   "source": [
    "def process_24(column):\n",
    "    new_column = column\n",
    " \n",
    "    filtered_elements = [x for x in new_column if 0 <= x <= 9999]        \n",
    "    median = np.median(filtered_elements)\n",
    "        \n",
    "    for i in range(len(new_column)):\n",
    "        if (np.isnan(new_column[i])):\n",
    "            new_column[i] = median\n",
    "            \n",
    "    return new_column"
   ]
  },
  {
   "cell_type": "code",
   "execution_count": 204,
   "id": "a28ea4f5",
   "metadata": {},
   "outputs": [],
   "source": [
    "variables_for_process24 = [\"_BMI5\"]\n",
    "preprocessing_refactorisation(variables_for_process24,process_24)"
   ]
  },
  {
   "cell_type": "code",
   "execution_count": 205,
   "id": "1bb2e901",
   "metadata": {},
   "outputs": [],
   "source": [
    "def process_25(column):\n",
    "    \n",
    "    \"\"\"\n",
    "    Process for BPHIGH4, \n",
    "    We consider 0 : don't have high blood pressure \n",
    "    we consider 1 : you have high blood pressure\n",
    "    we consider 2 : to have borderline high which is even more than high blood pressure \n",
    "    - If told yes only during pregnancy that means no since it's normal \n",
    "   Same process but with DIABETE3, PREDIAB1, which corresponds to diabetes\n",
    "   \n",
    "   \"\"\"\n",
    "    new_column = column.copy()\n",
    "    new_column[new_column==2]=0\n",
    "    new_column[new_column==3]=0\n",
    "    new_column[new_column==4]=2\n",
    "            \n",
    "    filtered_elements = [x for x in new_column if 0 <= x <= 2]        \n",
    "    median = np.median(filtered_elements)\n",
    "        \n",
    "    for i in range(len(new_column)):\n",
    "        if ((new_column[i] == 7)  or (new_column[i] == 9) or np.isnan(new_column[i])):\n",
    "            new_column[i] = median\n",
    "            \n",
    "    return new_column"
   ]
  },
  {
   "cell_type": "code",
   "execution_count": 206,
   "id": "b5dbb16a",
   "metadata": {},
   "outputs": [],
   "source": [
    "variables_for_process25 = [\"BPHIGH4\", \"DIABETE3\", \"PREDIAB1\"]\n",
    "preprocessing_refactorisation(variables_for_process25,process_25)"
   ]
  },
  {
   "cell_type": "code",
   "execution_count": 207,
   "id": "1d4e0e3b",
   "metadata": {},
   "outputs": [],
   "source": [
    "def process_26(column):\n",
    "    \n",
    "    \"\"\"\n",
    "    Process for PERSDOC2, \n",
    "    We consider 0 : don't have a care provider, so 3 becomes 0 \n",
    "    we consider 1 : you one\n",
    "    we consider 2 : you have two\n",
    "   \"\"\"\n",
    "    \n",
    "    new_column = column.copy()\n",
    "\n",
    "    new_column[new_column==3]=0\n",
    "\n",
    "    filtered_elements = [x for x in new_column if 0 <= x <= 6]\n",
    "    median = np.median(filtered_elements)\n",
    "        \n",
    "    for i in range(len(new_column)):\n",
    "        if ((new_column[i] == 7) or (new_column[i] == 9) or np.isnan(new_column[i])): # DON'T KNOW / REFUSED \n",
    "            new_column[i] = median\n",
    "            \n",
    "    return new_column"
   ]
  },
  {
   "cell_type": "code",
   "execution_count": 208,
   "id": "17fa9dbf",
   "metadata": {},
   "outputs": [],
   "source": [
    "variables_for_process26 = [\"PERSDOC2\"]\n",
    "preprocessing_refactorisation(variables_for_process26,process_26)"
   ]
  },
  {
   "cell_type": "markdown",
   "id": "26033fc0",
   "metadata": {},
   "source": []
  },
  {
   "cell_type": "code",
   "execution_count": 209,
   "id": "26e6f029",
   "metadata": {},
   "outputs": [],
   "source": [
    "#TODO THIS LINE OF CODE MUST BE AT THE END OF THE NOTEBOOK \n",
    "\n",
    "\n",
    "\n",
    "\n",
    "\n",
    "\n",
    "\n",
    "\n",
    "collumns_not_find = {\"DIS\",\"EXACTOT1\",\"QLMENTL2\",\"EXACTOT2\",\"ASINHALRPCPSADE1\",\"PAINACT2\",\"_MICHD\",\"QLSTRES2\",\"QLHLTH2\"}\n",
    "collumns_to_delete = list(set(collumns_to_delete)-collumns_not_find) #remove duplicates\n",
    "\n",
    "\n",
    "indice_to_delete = [feature_names.index(item) for item in collumns_to_delete]\n",
    "\n",
    "\n",
    "\n",
    "\n",
    "indice_to_delete.sort()\n",
    "\n",
    "x_new_del_train = np.delete(x_new_train,indice_to_delete,1)\n",
    "x_new_del_test = np.delete(x_new_test,indice_to_delete,1)\n",
    "\n",
    "\n",
    "\n"
   ]
  },
  {
   "cell_type": "code",
   "execution_count": 210,
   "id": "eb859cbd",
   "metadata": {},
   "outputs": [],
   "source": [
    "x_new_del_train = np.hstack((x_new_del_train,x_append_train))\n",
    "x_new_del_test = np.hstack((x_new_del_test,x_append_test))"
   ]
  },
  {
   "cell_type": "code",
   "execution_count": 211,
   "id": "3edabc86",
   "metadata": {
    "scrolled": true
   },
   "outputs": [
    {
     "data": {
      "text/plain": [
       "((328135, 430), (109379, 430))"
      ]
     },
     "execution_count": 211,
     "metadata": {},
     "output_type": "execute_result"
    }
   ],
   "source": [
    "x_new_del_train.shape,x_new_del_test.shape"
   ]
  },
  {
   "cell_type": "markdown",
   "id": "93727db1",
   "metadata": {},
   "source": [
    "We can remove columns with 0 variance "
   ]
  },
  {
   "cell_type": "code",
   "execution_count": 212,
   "id": "08c74ec8",
   "metadata": {},
   "outputs": [],
   "source": [
    "def remove_zero_variance_columns(x) :\n",
    "    \n",
    "    variances = np.var(x, axis=0)\n",
    "    zero_variance_columns = np.where(variances == 0)[0]\n",
    "    x = np.delete(x, zero_variance_columns, axis=1)\n",
    "    \n",
    "    return x, zero_variance_columns\n",
    "    "
   ]
  },
  {
   "cell_type": "code",
   "execution_count": 213,
   "id": "b648d781",
   "metadata": {},
   "outputs": [
    {
     "data": {
      "text/plain": [
       "(328135, 430)"
      ]
     },
     "execution_count": 213,
     "metadata": {},
     "output_type": "execute_result"
    }
   ],
   "source": [
    "x_new_del_train.shape"
   ]
  },
  {
   "cell_type": "code",
   "execution_count": 214,
   "id": "a45e6892",
   "metadata": {},
   "outputs": [],
   "source": [
    "x_new_del_train, to_delete = remove_zero_variance_columns(x_new_del_train)\n",
    "x_new_del_test = np.delete(x_new_del_test, to_delete, axis=1 )"
   ]
  },
  {
   "cell_type": "code",
   "execution_count": 215,
   "id": "8c63072f",
   "metadata": {},
   "outputs": [
    {
     "data": {
      "text/plain": [
       "(328135, 407)"
      ]
     },
     "execution_count": 215,
     "metadata": {},
     "output_type": "execute_result"
    }
   ],
   "source": [
    "x_new_del_train.shape"
   ]
  },
  {
   "cell_type": "markdown",
   "id": "933be698",
   "metadata": {},
   "source": [
    "Removes correlated columns, leaving only one column for each originally correlated sets of columns."
   ]
  },
  {
   "cell_type": "code",
   "execution_count": 216,
   "id": "8c81d18d",
   "metadata": {},
   "outputs": [],
   "source": [
    "def remove_correlated_columns(x , threshold: float = 0.9) :\n",
    "    \"\"\"\n",
    "    Removes correlated columns, leaving only one column for each originally correlated sets of columns.\n",
    "\n",
    "    Arguments\n",
    "    ---------\n",
    "    x: np.ndarray\n",
    "        The matrix to be cleaned.\n",
    "\n",
    "    threshold: float\n",
    "        The maximum percentage of correlation allowed (default = 0.9).\n",
    "\n",
    "    Returns\n",
    "    -------\n",
    "    clean_x: np.ndarray\n",
    "        The cleaned matrix.\n",
    "\n",
    "    to_keep: nd.array\n",
    "        Boolean array of the kept columns.\n",
    "    \"\"\"\n",
    "\n",
    "    assert 0 <= threshold <= 1\n",
    "    _, to_remove = np.where(np.triu(np.corrcoef(x.T), 1) > threshold)\n",
    "    to_remove = list(set(to_remove))\n",
    "    return np.delete(x, to_remove, axis=1), to_remove\n"
   ]
  },
  {
   "cell_type": "code",
   "execution_count": 217,
   "id": "378f235c",
   "metadata": {
    "scrolled": true
   },
   "outputs": [],
   "source": [
    "x_new_del_train, to_remove = remove_correlated_columns(x_new_del_train)"
   ]
  },
  {
   "cell_type": "code",
   "execution_count": 218,
   "id": "3c15a3ab",
   "metadata": {},
   "outputs": [
    {
     "data": {
      "text/plain": [
       "((328135, 339), (109379, 407))"
      ]
     },
     "execution_count": 218,
     "metadata": {},
     "output_type": "execute_result"
    }
   ],
   "source": [
    "x_new_del_train.shape , x_new_del_test.shape"
   ]
  },
  {
   "cell_type": "code",
   "execution_count": 219,
   "id": "5b334ad0",
   "metadata": {},
   "outputs": [],
   "source": [
    "x_new_del_test = np.delete(x_new_del_test, to_remove, axis=1)"
   ]
  },
  {
   "cell_type": "code",
   "execution_count": 220,
   "id": "19ba3e44",
   "metadata": {},
   "outputs": [
    {
     "data": {
      "text/plain": [
       "((328135, 339), (109379, 339))"
      ]
     },
     "execution_count": 220,
     "metadata": {},
     "output_type": "execute_result"
    }
   ],
   "source": [
    "x_new_del_train.shape,x_new_del_test.shape"
   ]
  },
  {
   "cell_type": "code",
   "execution_count": 221,
   "id": "a59328bf",
   "metadata": {},
   "outputs": [
    {
     "name": "stdout",
     "output_type": "stream",
     "text": [
      "0\n",
      "0\n"
     ]
    }
   ],
   "source": [
    "print(np.count_nonzero(np.isnan(x_new_del_train)))\n",
    "print(np.count_nonzero(np.isnan(x_new_del_test)))"
   ]
  },
  {
   "cell_type": "code",
   "execution_count": 222,
   "id": "e56aa3a2",
   "metadata": {},
   "outputs": [],
   "source": [
    "def calculate_parameters(y_test, y_pred):\n",
    "    \"\"\"Calculates the parameters for the metrics\n",
    "    \n",
    "    Args:\n",
    "        y_test: test labels\n",
    "        y_pred: predicted labels\n",
    "        \n",
    "    Returns:\n",
    "        tp: true positive\n",
    "        tn: true negative\n",
    "        fp: false positive\n",
    "        fn: false negative\n",
    "    \"\"\"\n",
    "    #print(y_test.shape, y_pred.shape)\n",
    "    tp = sum((yt == 1) & (yp == 1) for yt, yp in zip(y_test, y_pred))\n",
    "    tn = sum((yt == -1) & (yp == -1) for yt, yp in zip(y_test, y_pred))\n",
    "    fp = sum((yt == -1) & (yp == 1) for yt, yp in zip(y_test, y_pred))\n",
    "    fn = sum((yt == 1) & (yp == -1) for yt, yp in zip(y_test, y_pred))\n",
    "    return tp, tn, fp, fn\n",
    "\n",
    "\n",
    "def precision(tp, fp):\n",
    "    \"\"\"Calculates the precision score, which is the proportion of positive identifications that are actually correct\n",
    "    \n",
    "    Args: \n",
    "        tp: true positive\n",
    "        fp: false positive\n",
    "        \n",
    "    Returns:\n",
    "        precision score\n",
    "    \n",
    "    \"\"\"\n",
    "    if(tp + fp == 0):\n",
    "        return 0.0\n",
    "    return tp / (tp + fp)\n",
    "\n",
    "def recall(tp, fn):\n",
    "    \"\"\"Calculates the recall score, which is the proportion of positives correctly identified. \n",
    "    It is different from precision in that it does not take into account the false positives.\n",
    "    \n",
    "    Args:\n",
    "        tp: true positive\n",
    "        fn: false negative\n",
    "        \n",
    "    Returns:\n",
    "        recall score\n",
    "    \"\"\"\n",
    "    if(tp + fn == 0):\n",
    "        return 0.0\n",
    "    return tp / (tp + fn)\n",
    "\n",
    "def f1_score(tp, fp, fn):\n",
    "    \"\"\"Calculates the f1 score, which is the harmonic mean of precision and recall\n",
    "    \n",
    "    Args:\n",
    "        tp: true positive\n",
    "        fp: false positive\n",
    "        fn: false negative\n",
    "        \n",
    "    Returns:\n",
    "        f1 score\n",
    "    \"\"\"\n",
    "    denom = precision(tp, fp) + recall(tp, fn)\n",
    "    if(denom == 0):\n",
    "        return 0.0\n",
    "    return 2 * precision(tp, fp) * recall(tp, fn) / denom\n",
    "\n",
    "def accuracy(tp, tn, fp, fn):\n",
    "    \"\"\"Calculates the accuracy score, which is the proportion of correct predictions\n",
    "    \n",
    "    Args:\n",
    "        tp: true positive\n",
    "        tn: true negative\n",
    "        fp: false positive\n",
    "        fn: false negative\n",
    "        \n",
    "    Returns:\n",
    "        accuracy score\n",
    "    \"\"\"\n",
    "    denom = (tp + tn + fp + fn)\n",
    "    if(denom == 0):\n",
    "        return 0.0\n",
    "    return (tp + tn) / denom"
   ]
  },
  {
   "cell_type": "code",
   "execution_count": 232,
   "id": "a918e6fe",
   "metadata": {},
   "outputs": [],
   "source": [
    "\n",
    "import implementations\n",
    "import random\n",
    "\n",
    "def cross_validation_log(x, y, k_folds, hyperparameters):\n",
    "\n",
    "    # Lists to store performance metrics for each fold and lambda\n",
    "    f1_scores = []\n",
    "    accuracy_scores = []\n",
    "\n",
    "    # Split the data into k_fold parts\n",
    "    fold_size = len(x) // k_folds\n",
    "    \n",
    "    # Dictionary to store results for each set of hyperparameters\n",
    "    results = {}\n",
    "    \n",
    "    for lambda_ in hyperparameters:\n",
    "\n",
    "        for k in range(k_folds):\n",
    "            # Split the data into training and validation sets\n",
    "            start = k * fold_size\n",
    "            end = (k + 1) * fold_size\n",
    "            x_valid = x[start:end]\n",
    "            y_valid = y[start:end]\n",
    "            x_train_fold = np.concatenate((x[:start], x[end:]))\n",
    "            y_train_fold = np.concatenate((y[:start], y[end:]))\n",
    "            \n",
    "            # Train the model using logistic or regularized logistic regression\n",
    "            w, loss = implementations.ridge_regression(\n",
    "                y_train_fold, \n",
    "                x_train_fold, \n",
    "                lambda_, \n",
    "            )\n",
    "               \n",
    "            y_pred = x_valid.dot(w)\n",
    "            y_pred=(y_pred>-0.5)*2-1\n",
    "\n",
    "            #print(\"y_pred is:\" ,    y_pred)\n",
    "            # # Make predictions on the validation set\n",
    "            # y_pred = np.sign(x_valid.dot(w)) # this function returns -1 or 1\n",
    "            \n",
    "            # Calculate performance metrics\n",
    "            tp, tn, fp, fn = calculate_parameters(y_valid, y_pred)\n",
    "            f1_scores.append(f1_score(tp, fp, fn))\n",
    "            accuracy_scores.append(accuracy(tp, tn, fp, fn))\n",
    "            \n",
    "        # Calculate the mean performance metrics for each set of hyperparameters\n",
    "        mean_f1 = np.mean(f1_scores)\n",
    "        mean_accuracy = np.mean(accuracy_scores)\n",
    "        \n",
    "        # Store the results in the dictionary\n",
    "        results[str(lambda_)] = {'F1 score': mean_f1, 'Accuracy': mean_accuracy, 'param w ':w}\n",
    "        \n",
    "    return results\n",
    "\n",
    "\n",
    "def generate_random_hyperparameters(num_samples):\n",
    "    \"\"\"Generates a list of random hyperparameters\n",
    "    \n",
    "    Args:\n",
    "        num_samples: number of sets of hyperparameters to generate\n",
    "        num_features: number of features in the dataset\n",
    "        \n",
    "    Returns:\n",
    "        hyperparameters_list: list of hyperparameters\n",
    "    \"\"\"\n",
    "\n",
    "\n",
    "\n",
    "    return np.linspace(1e-16, 0.001, num_samples)"
   ]
  },
  {
   "cell_type": "code",
   "execution_count": null,
   "id": "e524032d",
   "metadata": {},
   "outputs": [],
   "source": []
  },
  {
   "cell_type": "code",
   "execution_count": 234,
   "id": "fe1cbfda",
   "metadata": {},
   "outputs": [
    {
     "name": "stdout",
     "output_type": "stream",
     "text": [
      "{'1e-16': {'F1 score': 0.4127924693610373, 'Accuracy': 0.8859036676977464, 'param w ': array([-3.87687470e-05, -6.44703421e-04,  1.48125984e-04,  3.67608258e-02,\n",
      "        1.55908865e-02,  3.05382794e-03,  9.04669183e-02, -9.48930888e+01,\n",
      "        1.64268367e+01,  3.24261388e-01, -4.42657191e+01,  1.44713453e-02,\n",
      "       -1.15302142e-02,  1.52352775e-01,  3.94926505e+01,  8.79840702e-03,\n",
      "        1.46935235e-01,  1.62661491e-02,  1.85288841e-02,  9.01479338e-04,\n",
      "       -6.47726039e-03, -4.65043942e-05, -4.24843125e-04,  1.14671021e-02,\n",
      "        2.98925788e-02,  4.41909001e-02, -1.17444706e-02,  3.64081699e-02,\n",
      "       -1.59107224e-02, -4.52506002e-03,  1.39935472e-01,  8.75093473e-04,\n",
      "       -2.53449882e-03, -9.24841669e-04, -5.67438336e-04, -2.07879990e-04,\n",
      "        1.38095178e-04, -2.34741753e-04, -3.21293229e-04,  1.28220352e-04,\n",
      "        8.91267292e-05, -1.48715277e-05,  1.24229024e-04,  1.96655736e+00,\n",
      "       -4.37099693e-05, -5.96138970e-05, -6.09079949e-05, -1.78212472e-05,\n",
      "        2.75508577e-04,  1.93779190e-03, -1.70840798e-02, -1.37907116e-03,\n",
      "        5.08149709e-03,  7.22334077e-03, -5.24457928e-03,  3.48963126e-02,\n",
      "       -1.99737816e-03,  4.54282579e-02,  4.48290312e-07, -4.42808254e-03,\n",
      "       -1.62454653e-03,  4.46126600e+00,  1.70966241e+01,  3.95204513e+00,\n",
      "       -2.26263154e-05,  9.33617350e-03, -2.08478565e-03,  6.63602412e-04,\n",
      "        1.95084290e-03, -2.21527824e-02,  6.39954958e-06,  5.87888154e-06,\n",
      "       -4.55500424e-06,  1.01844103e-03,  1.02159374e-03, -1.01000465e-03,\n",
      "        8.52293399e-03,  1.17748798e-02, -5.16116455e-03, -2.16357126e-03,\n",
      "        6.83291090e-01,  6.60443800e-01,  6.56604662e-01,  6.99795307e-01,\n",
      "        6.58468679e-01,  6.63216134e-01,  6.68585440e-01,  6.74338306e-01,\n",
      "        6.35521290e-01,  6.73755263e-01,  6.80884184e-01,  6.23160040e-01,\n",
      "        6.55745083e-01,  6.86303721e-01,  6.98038303e-01,  6.72348532e-01,\n",
      "        6.72444951e-01,  7.07524432e-01,  6.89992293e-01,  6.79937162e-01,\n",
      "        6.79498452e-01,  6.70574967e-01,  6.87307402e-01,  6.72252945e-01,\n",
      "        6.69179925e-01,  6.66645099e-01,  6.55694752e-01,  6.78458057e-01,\n",
      "        6.58322840e-01,  6.65757586e-01,  6.67401419e-01,  6.48440173e-01,\n",
      "        6.70414861e-01,  6.71836949e-01,  6.75280121e-01,  6.84969992e-01,\n",
      "        6.84891431e-01,  6.50251999e-01,  6.92414688e-01,  6.63267691e-01,\n",
      "        6.74547878e-01,  7.07857130e-01,  6.70839655e-01,  6.72990183e-01,\n",
      "        6.50626716e-01,  6.76510224e-01,  6.62602712e-01,  6.58002904e-01,\n",
      "        7.03236291e-01,  6.76345315e-01,  6.74895119e-01,  6.35085133e-01,\n",
      "        6.93711359e-01,  1.70050886e+00,  1.69581745e+00,  1.70074168e+00,\n",
      "        1.69433304e+00,  1.69454540e+00,  1.69465000e+00,  1.69486808e+00,\n",
      "        1.69463575e+00,  1.69407437e+00,  1.69040195e+00,  1.69434752e+00,\n",
      "        1.70366937e+00,  1.41882239e+00,  1.41501412e+00,  1.42364720e+00,\n",
      "        1.41935859e+00,  1.42138365e+00,  1.41930727e+00,  1.41560183e+00,\n",
      "        1.42004191e+00,  1.41427629e+00,  1.41008019e+00,  1.41870675e+00,\n",
      "        1.41680090e+00,  1.41757736e+00,  1.41901485e+00,  1.42374194e+00,\n",
      "        1.41692424e+00,  1.42282438e+00,  1.41368461e+00,  1.42107364e+00,\n",
      "        1.42326203e+00,  1.41556321e+00,  1.41961561e+00,  1.42418821e+00,\n",
      "        1.41917280e+00,  1.42333015e+00,  1.41254166e+00,  1.42051552e+00,\n",
      "        1.41512688e+00,  1.41159646e+00,  1.42225245e+00,  1.40740741e+00,\n",
      "       -2.50271386e+01, -2.51761340e+01,  3.94881957e+01,  3.94758322e+01,\n",
      "        2.05015555e+01,  2.04867364e+01, -1.26019923e+01,  9.05731073e+00,\n",
      "       -1.25755842e+01, -1.25357634e+01, -4.55052288e-01, -4.76152406e-01,\n",
      "       -4.50474627e-01,  2.25856253e+01,  2.25903649e+01,  2.70584702e+00,\n",
      "        2.71504767e+00,  2.70468432e+00,  1.41041508e+01,  1.40971693e+01,\n",
      "        1.40933726e+01, -9.42891830e+00, -9.40433378e+00, -9.41271367e+00,\n",
      "       -9.39129755e+00, -9.41112544e+00, -9.43283298e+00, -9.42702908e+00,\n",
      "       -2.70308539e+00,  6.26853582e+00,  6.23175032e+00,  6.23086194e+00,\n",
      "        1.76490148e+00, -2.68951784e+00, -7.15443624e+00, -4.01937422e+00,\n",
      "       -4.02186077e+00, -4.01286452e+00, -4.00615092e+00, -5.35039450e+00,\n",
      "       -5.36011121e+00, -5.35771958e+00, -5.35722434e+00, -5.37536989e+00,\n",
      "       -5.35617781e+00, -5.35544758e+00, -5.35730052e+00, -5.35159884e+00,\n",
      "       -2.75422123e+01,  2.37648706e+01,  2.37706787e+01,  6.66643901e+00,\n",
      "        6.66460955e+00, -1.04313565e+01, -2.75357770e+01, -4.46342339e+01,\n",
      "       -4.46302770e+01, -7.11153663e+00, -2.97302175e+00, -2.97464675e+00,\n",
      "       -2.93897613e+00, -1.11705199e+01, -1.10277735e+01,  5.56742422e+00,\n",
      "        5.56389273e+00,  5.56693428e+00,  5.53642436e+00,  5.55897237e+00,\n",
      "        4.14560342e-02, -6.89501697e-02,  1.00379835e-01, -4.23674467e+00,\n",
      "        4.09090909e+00,  4.91992955e+00,  4.90969116e+00,  4.94064684e+00,\n",
      "       -1.46526214e+01, -1.47045862e+01, -1.46161137e+01, -6.12647269e+00,\n",
      "       -6.09270070e+00, -6.11687026e+00, -1.01018024e+02,  1.63568764e+01,\n",
      "        1.63375527e+01, -4.42592874e+01,  1.30688448e-01,  5.24403526e+01,\n",
      "        8.05446500e+00,  5.24467436e+01,  4.44057039e+01, -1.27595663e-03,\n",
      "       -6.54059563e-05,  1.13586398e-02, -4.47654936e-03,  1.62953491e-03,\n",
      "       -2.67898192e-03, -7.33979603e-03, -6.70752034e-02,  2.47347981e-02,\n",
      "        2.16126672e+01,  2.16397320e+01,  2.84075249e-02,  3.30501705e+01,\n",
      "       -6.59533457e+00, -6.63772242e+00, -6.67879173e+00, -6.71406987e+00,\n",
      "       -6.74774688e+00, -6.77858572e+00, -6.80078204e+00, -6.82451936e+00,\n",
      "       -6.82574857e+00, -2.15556947e+01, -2.15352043e+01, -2.15297524e+01,\n",
      "       -2.15216418e+01, -1.47137257e+01, -2.30309967e+01,  8.92461478e-02,\n",
      "        9.44949884e-02,  8.84362664e-02,  9.31374164e-02,  8.90582347e-02,\n",
      "        9.48628475e-02, -3.92443520e+00, -3.94134968e+00, -1.69294830e+00,\n",
      "       -1.93640155e-02, -3.00283961e-02,  1.48280767e-02, -8.41082144e-03,\n",
      "       -1.05111568e-03,  5.19804588e-03,  8.17216146e+00,  8.16994295e+00,\n",
      "        8.17236256e+00, -1.74744468e+01, -1.74643081e+01, -1.74674797e+01,\n",
      "       -9.16088140e+00, -9.19091207e+00, -7.24094726e+00, -4.96260995e-02,\n",
      "       -2.89661483e-02, -7.01752648e-03, -3.61624983e-02, -5.29035743e-02,\n",
      "        1.71884637e+01,  1.71793902e+01,  1.72477185e+01,  1.71876516e+01,\n",
      "       -1.13619167e+00,  8.34865984e+00,  4.40471480e+00,  2.71142101e+00,\n",
      "        1.78136831e-02, -1.50814195e-02, -1.16625054e+01, -1.15680198e+01,\n",
      "       -1.16385360e+01, -1.16440186e+01, -1.16175017e+01])}, '0.00025000000000007503': {'F1 score': 0.41017357497910967, 'Accuracy': 0.8864461273561186, 'param w ': array([-2.73497281e-05, -5.99344715e-04,  1.43231581e-04,  2.12665646e-02,\n",
      "        1.96188953e-02,  1.93894613e-03,  9.17978957e-02, -2.04843085e-02,\n",
      "        3.07275549e-02,  3.22476596e-01, -2.36680744e-02,  1.94137531e-02,\n",
      "       -1.02304113e-02,  1.50561683e-01, -1.64505928e-02,  8.97166270e-03,\n",
      "        1.46337924e-01,  1.49601403e-02,  5.01083160e-02, -1.73578422e-04,\n",
      "       -9.23398092e-03,  1.33488764e-04, -7.05602360e-04,  1.26154592e-02,\n",
      "        3.03744976e-02,  4.55200868e-02, -1.11225595e-02,  3.56786274e-02,\n",
      "       -1.26307949e-02, -5.89045964e-03,  6.22317026e-02,  2.33808515e-03,\n",
      "       -8.14990193e-03, -6.92162815e-04, -9.42462027e-04,  6.86361898e-05,\n",
      "       -1.29253033e-03, -1.92303795e-04, -3.03202360e-04,  1.58527764e-04,\n",
      "        9.21379586e-05, -4.63746333e-05,  1.54086101e-04, -2.14765956e-02,\n",
      "       -1.00140506e-04, -8.25543665e-05, -1.18306014e-04, -2.50978010e-05,\n",
      "        2.57633037e-04,  1.12246307e-03, -1.53904011e-02, -1.88578292e-03,\n",
      "        4.33986953e-03,  7.46035971e-03, -4.32868204e-03,  3.00689895e-02,\n",
      "        1.05308072e-03,  4.62308758e-02,  3.84537078e-07,  1.14835413e-03,\n",
      "       -2.14890387e-03, -1.76587202e-02, -1.32309953e-02, -3.35064773e-02,\n",
      "       -4.77722733e-05,  8.46710218e-03, -2.64607150e-03, -2.56112743e-03,\n",
      "        4.19503937e-04, -8.10914930e-05,  4.02639490e-06,  3.85965673e-06,\n",
      "       -9.00945951e-07,  3.38552215e-06,  1.69394971e-06,  5.07946894e-06,\n",
      "       -1.90782775e-03,  1.65084761e-03, -5.53629871e-03, -5.41626564e-03,\n",
      "        9.71082376e-03, -1.12880327e-02, -1.67926563e-02,  2.43747680e-02,\n",
      "       -1.56289825e-02, -1.02922178e-02, -4.47388742e-03,  2.23831635e-04,\n",
      "       -3.61751125e-02,  1.22110180e-05,  5.53519301e-03, -4.88199461e-02,\n",
      "       -1.53749157e-02,  1.21960978e-02,  2.41888040e-02,  4.91014377e-04,\n",
      "       -7.04905100e-04,  3.39593307e-02,  1.55696126e-02,  5.54654962e-03,\n",
      "        5.75849291e-03, -2.48989675e-03,  1.42572840e-02, -5.49611309e-04,\n",
      "       -4.34949900e-03, -5.64229978e-03, -1.52602046e-02,  5.35365360e-03,\n",
      "       -1.34232889e-02, -6.97023580e-03, -5.52801086e-03, -2.41320117e-02,\n",
      "       -1.82496107e-03, -2.41380940e-03,  3.17393462e-03,  1.15168302e-02,\n",
      "        1.19676090e-02, -2.33064714e-02,  1.80342713e-02, -1.06421805e-02,\n",
      "        2.10594894e-03,  3.45456766e-02, -2.26941166e-03, -8.48096173e-04,\n",
      "       -2.03398162e-02,  3.74637872e-03, -1.20139084e-02, -1.50385599e-02,\n",
      "        3.16167395e-02,  3.91830714e-03,  2.76546440e-03, -3.40377952e-02,\n",
      "        1.84207979e-02, -7.48880593e-04, -4.99666517e-03, -4.55008567e-04,\n",
      "       -7.09519758e-03, -6.93370530e-03, -6.26048845e-03, -6.42773163e-03,\n",
      "       -6.43643697e-03, -7.33778712e-03, -1.06220018e-02, -6.91160688e-03,\n",
      "        2.58441055e-03, -1.84358860e-03, -5.03816363e-03,  2.73693437e-03,\n",
      "       -1.17638104e-03,  1.20727477e-03, -1.48026499e-03, -4.55176204e-03,\n",
      "       -1.45047604e-04, -5.35054454e-03, -9.65338852e-03, -2.18016412e-03,\n",
      "       -2.97567444e-03, -2.19951505e-03, -9.14412520e-04,  3.79015217e-03,\n",
      "       -3.12501893e-03,  2.17474183e-03, -6.86719055e-03,  9.32732609e-04,\n",
      "        2.55107043e-03, -4.72431592e-03,  1.17593014e-04,  4.20073240e-03,\n",
      "       -9.52155139e-04,  3.75014064e-03, -7.41274923e-03,  4.80694353e-04,\n",
      "       -4.71047589e-03, -8.28625188e-03,  1.86586874e-03, -1.18619702e-02,\n",
      "        1.84278095e-02, -8.00689090e-02, -1.59243801e-02, -2.92661266e-02,\n",
      "       -8.89220505e-03, -2.40646428e-02, -3.38924996e-02, -2.20806972e-02,\n",
      "       -3.48341003e-03,  3.07723552e-02, -1.34591098e-02, -3.57023307e-02,\n",
      "       -1.04809468e-02, -3.34981590e-03,  1.35110369e-03, -3.45500123e-02,\n",
      "       -1.39347899e-02, -1.31562973e-02, -1.83132998e-02, -2.40680260e-02,\n",
      "       -1.92597738e-02, -1.95179848e-02,  5.28380178e-03, -7.32600972e-03,\n",
      "        6.13148855e-03, -1.35559745e-03, -2.68907039e-02, -1.79660940e-02,\n",
      "       -3.76364279e-03,  1.21118894e-03, -2.84237735e-02, -3.39466398e-02,\n",
      "       -2.27102361e-02,  3.75610992e-03,  2.22358937e-02, -1.94538342e-02,\n",
      "       -2.18285821e-02, -1.24777457e-02, -7.88093742e-03, -4.20703347e-04,\n",
      "       -1.13676442e-02, -5.92150417e-03, -6.21698909e-03, -2.61824314e-02,\n",
      "       -3.97168913e-03, -1.92507396e-03, -4.54140339e-03, -1.09366087e-03,\n",
      "       -9.13655549e-03, -2.50639573e-02, -2.02939810e-02, -1.52041604e-02,\n",
      "       -1.73970622e-02, -3.99419568e-03,  1.38586506e-03,  1.24124744e-02,\n",
      "        1.56504730e-02, -2.36881529e-02, -4.10051280e-02, -4.20894148e-02,\n",
      "       -4.97859619e-03, -4.57808143e-02,  9.59010067e-02, -8.26278169e-03,\n",
      "       -1.17148470e-02, -7.63157996e-03, -2.50922823e-02, -8.93960849e-03,\n",
      "        2.36726279e-02, -3.56912848e-02,  4.17343127e-02, -8.80731390e-02,\n",
      "        5.01201924e-02, -2.15956370e-02, -2.68580962e-02, -1.31873664e-02,\n",
      "       -1.36701019e-02, -6.73331590e-02,  1.93621614e-02, -2.12220473e-02,\n",
      "        1.17656444e-02, -1.10279056e-02, -4.11567910e-02, -3.62019052e-02,\n",
      "       -5.61667492e-02, -1.46947890e-02, -2.32782362e-02, -2.75920157e-02,\n",
      "       -1.60610575e-02, -1.79880263e-02,  7.21717870e-03, -2.41860444e-03,\n",
      "       -1.11893288e-03,  7.94535142e-03, -1.09063557e-02,  4.68219405e-03,\n",
      "       -4.10798551e-03, -5.47334838e-03, -1.83939938e-03,  1.24926563e-02,\n",
      "       -3.19861924e-02, -7.57420991e-03,  2.48479200e-02, -2.86842516e-02,\n",
      "        4.22422418e-02,  2.52857909e-02,  5.77701216e-03, -1.07207867e-02,\n",
      "       -2.28387902e-02, -3.17242549e-02, -3.11231639e-02, -3.33811305e-02,\n",
      "       -1.46827302e-02, -7.96860529e-02, -4.04178374e-02, -2.10336253e-02,\n",
      "        4.14189401e-02, -7.11658115e-02, -1.99871222e-03, -1.98604401e-02,\n",
      "       -9.47094905e-03, -1.34655409e-02, -6.58669828e-03, -8.37778463e-03,\n",
      "       -2.09289665e-03,  1.28344802e-02, -7.24628000e-03, -6.72292998e-02,\n",
      "       -3.55838274e-02, -2.60003022e-02, -1.13493093e-02, -9.40730887e-03,\n",
      "       -2.31394588e-03,  4.99849915e-03, -2.03657515e-02, -2.15589265e-02,\n",
      "       -1.97164215e-02, -2.58309721e-02, -1.64409939e-02, -1.93691335e-02,\n",
      "        8.57753743e-03, -3.00541330e-02, -4.01645040e-02, -4.42760709e-02,\n",
      "       -2.54984209e-02, -9.74858166e-03, -2.90285754e-02, -4.27357296e-02,\n",
      "       -2.72872120e-02, -3.48416615e-02,  3.34557223e-02, -3.29679482e-02,\n",
      "        3.03834844e-02, -5.38040371e-02, -1.34252626e-02, -2.47952842e-02,\n",
      "        3.24316537e-02, -1.73292098e-02, -4.04732381e-02,  4.22438189e-02,\n",
      "       -1.98055147e-02, -3.63436672e-02, -7.26249839e-03])}, '0.00050000000000005': {'F1 score': 0.40937259816170063, 'Accuracy': 0.8866726601348023, 'param w ': array([-1.40679811e-05, -6.02855392e-04,  1.47006271e-04,  1.74350405e-02,\n",
      "        1.93907203e-02,  1.82477901e-03,  9.07059504e-02, -1.64482820e-02,\n",
      "        3.40731581e-02,  3.18402117e-01, -2.02753113e-02,  1.95119108e-02,\n",
      "       -9.94573444e-03,  1.49456791e-01, -1.33583800e-02,  8.90556908e-03,\n",
      "        1.44468610e-01,  1.45914945e-02,  5.00851580e-02, -1.62237478e-04,\n",
      "       -9.42644466e-03,  3.47563065e-04, -9.66437760e-04,  1.26400218e-02,\n",
      "        3.05684313e-02,  4.52324556e-02, -1.08481695e-02,  3.57752115e-02,\n",
      "       -1.21674016e-02, -5.58656343e-03,  3.44186233e-02,  2.03967483e-03,\n",
      "       -8.09696726e-03, -7.02789685e-04, -9.49187113e-04,  7.92325283e-05,\n",
      "       -1.29984554e-03, -1.86779585e-04, -2.99384081e-04,  1.61243120e-04,\n",
      "        9.14198009e-05, -4.45973056e-05,  1.56520455e-04, -1.97330067e-02,\n",
      "       -1.08042884e-04, -8.42856487e-05, -1.24322460e-04, -2.62989069e-05,\n",
      "        2.57160137e-04,  1.16602063e-03, -1.52931880e-02, -1.86616613e-03,\n",
      "        4.30152497e-03,  7.39636764e-03, -4.24600862e-03,  3.01445152e-02,\n",
      "        9.20324062e-04,  4.54865322e-02,  3.70879702e-07,  7.96623822e-04,\n",
      "       -2.78481351e-03, -1.53322828e-02, -1.19227847e-02, -3.31467731e-02,\n",
      "       -4.57607668e-05,  8.31294552e-03, -2.71766963e-03, -2.67535203e-03,\n",
      "        2.33018769e-04, -7.33606891e-05,  4.36369970e-06,  4.09108055e-06,\n",
      "       -1.08603557e-06,  3.44803789e-06,  1.77537534e-06,  5.22341579e-06,\n",
      "       -6.21984032e-03, -2.61367900e-03, -6.87873665e-03, -4.45628287e-03,\n",
      "        9.58386220e-03, -1.05116876e-02, -1.60640318e-02,  2.36314679e-02,\n",
      "       -1.51484057e-02, -1.02460831e-02, -4.50854343e-03,  1.60790182e-04,\n",
      "       -3.41352011e-02,  2.96640638e-04,  5.29616223e-03, -4.67298005e-02,\n",
      "       -1.48797600e-02,  1.17736032e-02,  2.34004769e-02,  5.77192326e-04,\n",
      "       -7.75785306e-04,  3.31730800e-02,  1.50225978e-02,  5.50705555e-03,\n",
      "        5.65418030e-03, -2.56604423e-03,  1.40097569e-02, -6.12701827e-04,\n",
      "       -4.13807310e-03, -5.52995408e-03, -1.46499468e-02,  5.42980870e-03,\n",
      "       -1.24981101e-02, -6.69144903e-03, -5.32428918e-03, -2.33479484e-02,\n",
      "       -1.77870543e-03, -2.25899303e-03,  3.21992977e-03,  1.13119674e-02,\n",
      "        1.17843966e-02, -2.22561348e-02,  1.73378115e-02, -1.03067684e-02,\n",
      "        2.14733781e-03,  3.37059763e-02, -1.97608365e-03, -7.53868189e-04,\n",
      "       -1.97436428e-02,  3.64353694e-03, -1.17788876e-02, -1.46575179e-02,\n",
      "        3.04371386e-02,  3.73728540e-03,  2.89403476e-03, -2.91943698e-02,\n",
      "        1.73690428e-02,  2.20720944e-05, -4.20243280e-03,  2.86894723e-04,\n",
      "       -6.26198024e-03, -6.11389730e-03, -5.44367712e-03, -5.60722687e-03,\n",
      "       -5.59810878e-03, -6.47951472e-03, -9.75456334e-03, -6.10747253e-03,\n",
      "        3.30225279e-03, -1.48408186e-03, -4.67010370e-03,  2.98723122e-03,\n",
      "       -8.41138753e-04,  1.50413544e-03, -1.22651028e-03, -4.25667632e-03,\n",
      "        1.42535964e-04, -5.01223476e-03, -9.26022371e-03, -1.87793306e-03,\n",
      "       -2.65912661e-03, -1.88296275e-03, -6.31719918e-04,  4.00750302e-03,\n",
      "       -2.82603874e-03,  2.35759236e-03, -6.49664230e-03,  1.16648576e-03,\n",
      "        2.76669775e-03, -4.37680908e-03,  3.99782531e-04,  4.39760753e-03,\n",
      "       -7.15449048e-04,  3.94045737e-03, -6.99784257e-03,  7.22548496e-04,\n",
      "       -4.34238080e-03, -7.81749355e-03,  2.10192331e-03, -1.10767870e-02,\n",
      "        2.36264595e-02, -7.55841136e-02, -1.23351034e-02, -2.62641707e-02,\n",
      "       -6.58310054e-03, -2.00830733e-02, -3.32832626e-02, -1.95975520e-02,\n",
      "       -2.35634721e-03,  2.99456816e-02, -1.14900676e-02, -3.22640848e-02,\n",
      "       -7.98840898e-03, -2.50808075e-03,  2.29298805e-03, -3.10577677e-02,\n",
      "       -1.10012102e-02, -9.89867619e-03, -1.56246304e-02, -2.07553770e-02,\n",
      "       -1.55776467e-02, -1.73406364e-02,  6.50071758e-03, -6.12817865e-03,\n",
      "        7.48888044e-03, -2.66552568e-04, -2.56963528e-02, -1.65155317e-02,\n",
      "       -3.97711605e-03,  3.18224346e-03, -2.37470025e-02, -2.95222967e-02,\n",
      "       -2.08145905e-02,  3.36913067e-03,  1.95519775e-02, -1.64098400e-02,\n",
      "       -1.95146316e-02, -1.02881208e-02, -5.74506159e-03,  3.49287830e-04,\n",
      "       -1.03693216e-02, -4.85513883e-03, -5.30079754e-03, -2.46994835e-02,\n",
      "       -2.93705542e-03, -9.55736375e-04, -3.24136684e-03,  5.19582402e-05,\n",
      "       -9.47438140e-03, -2.12008081e-02, -1.64194375e-02, -1.27386381e-02,\n",
      "       -1.49425085e-02, -2.97689984e-03,  1.08711752e-03,  1.07423716e-02,\n",
      "        1.39655303e-02, -1.82458417e-02, -4.00932211e-02, -4.12796578e-02,\n",
      "       -4.28660971e-03, -4.43294442e-02,  9.62771205e-02, -7.25829086e-03,\n",
      "       -1.05174258e-02, -5.97853127e-03, -2.18532398e-02, -6.35016641e-03,\n",
      "        1.70307271e-02, -2.41643048e-02,  2.62175904e-02, -8.56594887e-02,\n",
      "        5.19476763e-02, -1.46049962e-02, -2.36014431e-02, -1.37512147e-02,\n",
      "       -9.80875697e-03, -6.43614144e-02,  2.22125173e-02, -1.96202170e-02,\n",
      "        1.29186366e-02, -9.74670168e-03, -3.55093720e-02, -3.32323735e-02,\n",
      "       -5.27984388e-02, -1.14804624e-02, -2.02018804e-02, -2.35477136e-02,\n",
      "       -1.32592202e-02, -1.51507203e-02,  6.94266026e-03, -2.17744581e-03,\n",
      "       -1.27691436e-03,  7.05455041e-03, -1.25523977e-02,  4.06738148e-03,\n",
      "       -3.40689084e-03, -4.20769269e-03, -9.25483797e-04,  9.20893587e-03,\n",
      "       -2.71842395e-02, -5.17586263e-03,  2.12213507e-02, -2.52914802e-02,\n",
      "        3.53982987e-02,  2.06113907e-02,  3.09347160e-03, -1.16391365e-02,\n",
      "       -2.19074736e-02, -2.90277562e-02, -2.67625351e-02, -2.73363287e-02,\n",
      "       -7.06093364e-03, -6.74912106e-02, -2.67340597e-02, -5.90202047e-03,\n",
      "        5.70519958e-02, -6.46310027e-02, -2.15092695e-04, -1.83287789e-02,\n",
      "       -8.04567934e-03, -1.20338656e-02, -5.18286404e-03, -6.89986358e-03,\n",
      "       -9.44984502e-04,  1.34067207e-02, -7.75554081e-03, -5.76088339e-02,\n",
      "       -3.12340845e-02, -2.07076544e-02, -1.26789097e-02, -9.75173005e-03,\n",
      "       -4.22213567e-03,  2.99470285e-03, -1.70932010e-02, -1.83207286e-02,\n",
      "       -1.65437245e-02, -2.23828320e-02, -1.33041602e-02, -1.62706620e-02,\n",
      "        8.66628064e-03, -2.83992874e-02, -3.22246474e-02, -4.03254120e-02,\n",
      "       -2.22142731e-02, -1.01302122e-02, -2.03248263e-02, -3.55684249e-02,\n",
      "       -2.32226263e-02, -3.29107229e-02,  3.51760618e-02, -3.10003667e-02,\n",
      "        1.63762192e-02, -4.87411360e-02, -8.86769790e-03, -1.07250393e-02,\n",
      "        3.03359742e-02, -1.66824302e-02, -3.22758324e-02,  4.24159618e-02,\n",
      "       -1.87007644e-02, -3.63426990e-02, -7.05432015e-03])}, '0.000750000000000025': {'F1 score': 0.4089358613342232, 'Accuracy': 0.8868064973257956, 'param w ': array([-2.03504009e-07, -6.05494905e-04,  1.50851806e-04,  1.49023067e-02,\n",
      "        1.91798221e-02,  1.71963826e-03,  8.96880953e-02, -1.38869633e-02,\n",
      "        3.61986209e-02,  3.14440069e-01, -1.80172459e-02,  1.95816410e-02,\n",
      "       -9.66927935e-03,  1.48381596e-01, -1.13727609e-02,  8.84231618e-03,\n",
      "        1.42654850e-01,  1.42748444e-02,  5.00345951e-02, -1.53220161e-04,\n",
      "       -9.59930582e-03,  5.17280131e-04, -1.17176446e-03,  1.26640316e-02,\n",
      "        3.07480333e-02,  4.49598453e-02, -1.05705209e-02,  3.58464676e-02,\n",
      "       -1.17411522e-02, -5.29894118e-03,  2.14540603e-02,  1.79569110e-03,\n",
      "       -8.04334667e-03, -7.13151316e-04, -9.54805264e-04,  7.46256857e-05,\n",
      "       -1.30349526e-03, -1.81867492e-04, -2.96113476e-04,  1.63201462e-04,\n",
      "        9.04449374e-05, -4.34543926e-05,  1.58419305e-04, -1.86283786e-02,\n",
      "       -1.15048226e-04, -8.58139371e-05, -1.29354101e-04, -2.73119499e-05,\n",
      "        2.56294532e-04,  1.19522672e-03, -1.51896205e-02, -1.84587928e-03,\n",
      "        4.27373594e-03,  7.35049730e-03, -4.16248829e-03,  3.02133911e-02,\n",
      "        8.03999334e-04,  4.47835163e-02,  3.63911591e-07,  6.12331698e-04,\n",
      "       -3.28797089e-03, -1.37717491e-02, -1.11051199e-02, -3.18035775e-02,\n",
      "       -4.36446717e-05,  8.18246552e-03, -2.76861569e-03, -2.75649238e-03,\n",
      "        9.26008800e-05, -7.17296387e-05,  4.46665881e-06,  4.09576392e-06,\n",
      "       -1.04726497e-06,  3.42434605e-06,  1.79024853e-06,  5.21460054e-06,\n",
      "       -8.83856792e-03, -5.16405345e-03, -7.38875221e-03, -4.02707490e-03,\n",
      "        9.41596077e-03, -9.86843248e-03, -1.54613773e-02,  2.28745003e-02,\n",
      "       -1.47401483e-02, -1.01777296e-02, -4.53475337e-03,  1.06863424e-04,\n",
      "       -3.23692758e-02,  4.54216093e-04,  5.08541812e-03, -4.48537075e-02,\n",
      "       -1.44376377e-02,  1.13748948e-02,  2.26239278e-02,  5.97885716e-04,\n",
      "       -8.31532440e-04,  3.23768730e-02,  1.44727533e-02,  5.38770099e-03,\n",
      "        5.53029865e-03, -2.62358344e-03,  1.37270922e-02, -6.62509090e-04,\n",
      "       -3.99211102e-03, -5.40844752e-03, -1.41328381e-02,  5.44021569e-03,\n",
      "       -1.16906670e-02, -6.48228479e-03, -5.18516808e-03, -2.26507532e-02,\n",
      "       -1.77919481e-03, -2.16802361e-03,  3.19573276e-03,  1.11050017e-02,\n",
      "        1.15473945e-02, -2.13288369e-02,  1.66606912e-02, -1.00263408e-02,\n",
      "        2.14206110e-03,  3.28566338e-02, -1.77639518e-03, -6.98339818e-04,\n",
      "       -1.92410798e-02,  3.50959380e-03, -1.15353302e-02, -1.43544629e-02,\n",
      "        2.93309314e-02,  3.57050656e-03,  2.93364862e-03, -2.55363448e-02,\n",
      "        1.64180284e-02,  4.97047975e-04, -3.69755433e-03,  7.42362045e-04,\n",
      "       -5.72134278e-03, -5.59244327e-03, -4.92318899e-03, -5.08071804e-03,\n",
      "       -5.05744138e-03, -5.91562439e-03, -9.18801377e-03, -5.59935233e-03,\n",
      "        3.72778844e-03, -1.24761801e-03, -4.42236344e-03,  3.12337396e-03,\n",
      "       -6.39652509e-04,  1.67913005e-03, -1.07583666e-03, -4.07099607e-03,\n",
      "        3.16750306e-04, -4.78629640e-03, -8.97702883e-03, -1.68943408e-03,\n",
      "       -2.45494393e-03, -1.68752873e-03, -4.57142738e-04,  4.11918161e-03,\n",
      "       -2.63266142e-03,  2.44638896e-03, -6.23269681e-03,  1.28659417e-03,\n",
      "        2.87934595e-03, -4.13662896e-03,  5.60502481e-04,  4.48849007e-03,\n",
      "       -5.89575273e-04,  4.01566922e-03, -6.69791065e-03,  8.65702538e-04,\n",
      "       -4.09334099e-03, -7.47572542e-03,  2.22177847e-03, -1.04440077e-02,\n",
      "        2.69735277e-02, -7.27820085e-02, -1.00770543e-02, -2.43586656e-02,\n",
      "       -5.26387711e-03, -1.74225446e-02, -3.24673009e-02, -1.81148643e-02,\n",
      "       -1.73027557e-03,  2.91903817e-02, -1.03625201e-02, -2.98838579e-02,\n",
      "       -6.46009558e-03, -1.98704666e-03,  2.88503948e-03, -2.87869752e-02,\n",
      "       -9.18794975e-03, -7.83355591e-03, -1.39736666e-02, -1.86421561e-02,\n",
      "       -1.31926581e-02, -1.58187680e-02,  7.23630242e-03, -5.41117076e-03,\n",
      "        8.35207958e-03,  3.44144435e-04, -2.49526091e-02, -1.55584594e-02,\n",
      "       -3.97119591e-03,  3.84804969e-03, -2.05402050e-02, -2.64946909e-02,\n",
      "       -1.95251930e-02,  3.11994620e-03,  1.77548080e-02, -1.44256668e-02,\n",
      "       -1.80511372e-02, -8.93111931e-03, -4.40055751e-03,  7.22626655e-04,\n",
      "       -9.75810248e-03, -4.20295922e-03, -4.76329969e-03, -2.36410087e-02,\n",
      "       -2.30624973e-03, -3.03643954e-04, -2.37932412e-03,  8.23480452e-04,\n",
      "       -9.68322848e-03, -1.87440063e-02, -1.39628137e-02, -1.11671010e-02,\n",
      "       -1.33844620e-02, -2.33380736e-03,  8.95528288e-04,  9.68125456e-03,\n",
      "        1.28901553e-02, -1.48072433e-02, -3.94623363e-02, -4.07412867e-02,\n",
      "       -3.85107282e-03, -4.32381126e-02,  9.62915710e-02, -6.64064127e-03,\n",
      "       -9.77839444e-03, -4.93759744e-03, -1.95387206e-02, -4.91312707e-03,\n",
      "        1.32877155e-02, -1.82882968e-02,  1.90930373e-02, -8.40546958e-02,\n",
      "        5.30534584e-02, -9.42965147e-03, -2.18671629e-02, -1.45116665e-02,\n",
      "       -7.49809383e-03, -6.23850523e-02,  2.40746653e-02, -1.85568036e-02,\n",
      "        1.36166295e-02, -8.94678926e-03, -3.19215175e-02, -3.13538216e-02,\n",
      "       -5.06532801e-02, -9.54454445e-03, -1.82466905e-02, -2.08267926e-02,\n",
      "       -1.15613321e-02, -1.34203562e-02,  6.68535840e-03, -1.74536396e-03,\n",
      "       -1.13122990e-03,  6.80466321e-03, -1.32686290e-02,  3.58479642e-03,\n",
      "       -2.62240272e-03, -3.13500997e-03, -6.11023513e-04,  7.30603719e-03,\n",
      "       -2.38935642e-02, -3.80005232e-03,  1.87233578e-02, -2.31220591e-02,\n",
      "        3.16322265e-02,  1.80592655e-02,  1.67205941e-03, -1.21073214e-02,\n",
      "       -2.13871683e-02, -2.75849921e-02, -2.45044692e-02, -2.42221446e-02,\n",
      "       -3.18703598e-03, -6.30422827e-02, -2.16135229e-02, -1.41787978e-04,\n",
      "        6.28284443e-02, -6.16295801e-02,  8.97992823e-04, -1.72425681e-02,\n",
      "       -7.03805996e-03, -1.10215817e-02, -4.21118938e-03, -5.88296240e-03,\n",
      "       -2.31085390e-04,  1.35638142e-02, -7.92314718e-03, -5.14491478e-02,\n",
      "       -2.79745303e-02, -1.78313721e-02, -1.24350863e-02, -9.83058632e-03,\n",
      "       -5.47959981e-03,  1.71372954e-03, -1.49850129e-02, -1.62766606e-02,\n",
      "       -1.45468074e-02, -2.01429309e-02, -1.13391942e-02, -1.43263557e-02,\n",
      "        8.61696163e-03, -2.72453402e-02, -2.71801022e-02, -3.71512672e-02,\n",
      "       -1.97397514e-02, -1.02127834e-02, -1.47683700e-02, -3.06105544e-02,\n",
      "       -2.04322141e-02, -3.17312136e-02,  3.61404735e-02, -2.97855266e-02,\n",
      "        9.26050922e-03, -4.49122079e-02, -6.53693991e-03, -3.61984219e-03,\n",
      "        2.85075323e-02, -1.60779072e-02, -2.68987285e-02,  4.24183144e-02,\n",
      "       -1.78418317e-02, -3.64866109e-02, -6.99962420e-03])}, '0.001': {'F1 score': 0.4086785087394022, 'Accuracy': 0.8869050847974157, 'param w ': array([ 1.38515959e-05, -6.07609452e-04,  1.54740596e-04,  1.31330544e-02,\n",
      "        1.89818676e-02,  1.62167376e-03,  8.87203739e-02, -1.20507343e-02,\n",
      "        3.77140599e-02,  3.10582716e-01, -1.63384916e-02,  1.96358680e-02,\n",
      "       -9.40223307e-03,  1.47330591e-01, -9.93038120e-03,  8.78190825e-03,\n",
      "        1.40892515e-01,  1.39886618e-02,  4.99721471e-02, -1.45949445e-04,\n",
      "       -9.75961030e-03,  6.60134019e-04, -1.34356497e-03,  1.26898316e-02,\n",
      "        3.09153683e-02,  4.46952227e-02, -1.02932465e-02,  3.59032211e-02,\n",
      "       -1.13378714e-02, -5.02057404e-03,  1.43393224e-02,  1.58581400e-03,\n",
      "       -7.98917181e-03, -7.22507669e-04, -9.60465893e-04,  6.77082390e-05,\n",
      "       -1.30650791e-03, -1.77282127e-04, -2.93108757e-04,  1.64771922e-04,\n",
      "        8.93720598e-05, -4.26170181e-05,  1.60036019e-04, -1.78029679e-02,\n",
      "       -1.21352154e-04, -8.71925401e-05, -1.33772706e-04, -2.82004603e-05,\n",
      "        2.55364091e-04,  1.21630908e-03, -1.50840985e-02, -1.82623377e-03,\n",
      "        4.25235378e-03,  7.31530024e-03, -4.07949896e-03,  3.02784589e-02,\n",
      "        7.00672845e-04,  4.41114324e-02,  3.60233816e-07,  5.03670892e-04,\n",
      "       -3.71084944e-03, -1.26165158e-02, -1.05289285e-02, -3.03380672e-02,\n",
      "       -4.17451469e-05,  8.06375486e-03, -2.80918653e-03, -2.81774126e-03,\n",
      "       -1.94920512e-05, -7.12991819e-05,  4.46135207e-06,  3.99823572e-06,\n",
      "       -9.10077747e-07,  3.36172709e-06,  1.77746338e-06,  5.13919689e-06,\n",
      "       -1.05523704e-02, -6.80084931e-03, -7.52341030e-03, -3.80682957e-03,\n",
      "        9.23596678e-03, -9.31079915e-03, -1.49298724e-02,  2.21424443e-02,\n",
      "       -1.43783609e-02, -1.00948447e-02, -4.55026154e-03,  6.72941156e-05,\n",
      "       -3.08029138e-02,  5.52192895e-04,  4.89832405e-03, -4.31478743e-02,\n",
      "       -1.40271819e-02,  1.10044625e-02,  2.18857721e-02,  5.91357536e-04,\n",
      "       -8.72498901e-04,  3.15991920e-02,  1.39459918e-02,  5.24067955e-03,\n",
      "        5.40591568e-03, -2.66306932e-03,  1.34373377e-02, -6.99810665e-04,\n",
      "       -3.87593056e-03, -5.27898880e-03, -1.36717143e-02,  5.42161032e-03,\n",
      "       -1.09751368e-02, -6.30699111e-03, -5.07555872e-03, -2.20090458e-02,\n",
      "       -1.79439809e-03, -2.10573692e-03,  3.14439312e-03,  1.09087974e-02,\n",
      "        1.12956479e-02, -2.04875962e-02,  1.60260703e-02, -9.77513934e-03,\n",
      "        2.11845758e-03,  3.20274166e-02, -1.62080377e-03, -6.55285853e-04,\n",
      "       -1.87903550e-02,  3.36943062e-03, -1.12889825e-02, -1.40909123e-02,\n",
      "        2.83059924e-02,  3.42202579e-03,  2.93529561e-03, -2.26697299e-02,\n",
      "        1.55582128e-02,  8.26594281e-04, -3.33637694e-03,  1.05689405e-03,\n",
      "       -5.32677119e-03, -5.21806556e-03, -4.54867232e-03, -4.70072104e-03,\n",
      "       -4.66540192e-03, -5.49911568e-03, -8.77050785e-03, -5.23802788e-03,\n",
      "        4.01065975e-03, -1.07278681e-03, -4.23451293e-03,  3.20550700e-03,\n",
      "       -5.02413703e-04,  1.79437957e-03, -9.74471888e-04, -3.93734874e-03,\n",
      "        4.35155498e-04, -4.61532696e-03, -8.74916168e-03, -1.55569763e-03,\n",
      "       -2.30561839e-03, -1.55150519e-03, -3.36466271e-04,  4.17979420e-03,\n",
      "       -2.49141827e-03,  2.49142581e-03, -6.02330426e-03,  1.35254779e-03,\n",
      "        2.94216437e-03, -3.95137751e-03,  6.62959601e-04,  4.52854678e-03,\n",
      "       -5.15596287e-04,  4.03656353e-03, -6.45794108e-03,  9.59582879e-04,\n",
      "       -3.90455567e-03, -7.19957248e-03,  2.28610034e-03, -9.90516391e-03,\n",
      "        2.93915462e-02, -7.08010585e-02, -8.48963698e-03, -2.29894941e-02,\n",
      "       -4.37910587e-03, -1.54449783e-02, -3.16513455e-02, -1.70847124e-02,\n",
      "       -1.34012640e-03,  2.84907562e-02, -9.63915893e-03, -2.80461139e-02,\n",
      "       -5.40349820e-03, -1.62317613e-03,  3.30243491e-03, -2.71176967e-02,\n",
      "       -7.92749697e-03, -6.36431864e-03, -1.28195977e-02, -1.71258559e-02,\n",
      "       -1.14640586e-02, -1.46406822e-02,  7.73553828e-03, -4.92981460e-03,\n",
      "        8.96924901e-03,  7.24004510e-04, -2.44247203e-02, -1.48430870e-02,\n",
      "       -3.88175088e-03,  4.03613202e-03, -1.81313039e-02, -2.42190896e-02,\n",
      "       -1.85659500e-02,  2.93490209e-03,  1.64175480e-02, -1.29769532e-02,\n",
      "       -1.70090597e-02, -7.98089971e-03, -3.44259967e-03,  9.21409907e-04,\n",
      "       -9.34000446e-03, -3.75874027e-03, -4.40870783e-03, -2.28000898e-02,\n",
      "       -1.87615048e-03,  1.85189787e-04, -1.73852442e-03,  1.40610533e-03,\n",
      "       -9.82543909e-03, -1.69857357e-02, -1.22081521e-02, -1.00381412e-02,\n",
      "       -1.22695796e-02, -1.87570136e-03,  7.56921999e-04,  8.92073626e-03,\n",
      "        1.21155784e-02, -1.23945522e-02, -3.89664352e-02, -4.03311195e-02,\n",
      "       -3.53530815e-03, -4.23192994e-02,  9.61372022e-02, -6.20468828e-03,\n",
      "       -9.26103571e-03, -4.20823363e-03, -1.77364765e-02, -3.99907817e-03,\n",
      "        1.08900087e-02, -1.47233823e-02,  1.50071044e-02, -8.28328629e-02,\n",
      "        5.38179028e-02, -5.47208573e-03, -2.07879671e-02, -1.51494595e-02,\n",
      "       -5.94917999e-03, -6.09045998e-02,  2.54442675e-02, -1.77625689e-02,\n",
      "        1.40940986e-02, -8.38226397e-03, -2.93587780e-02, -3.00044808e-02,\n",
      "       -4.91190914e-02, -8.22062846e-03, -1.68503923e-02, -1.87925382e-02,\n",
      "       -1.03993636e-02, -1.22176106e-02,  6.45102870e-03, -1.34406813e-03,\n",
      "       -9.30994720e-04,  6.76431200e-03, -1.36006610e-02,  3.18681536e-03,\n",
      "       -1.93293981e-03, -2.29884679e-03, -4.52109346e-04,  6.05984148e-03,\n",
      "       -2.14273771e-02, -2.89742282e-03,  1.68704472e-02, -2.15854281e-02,\n",
      "        2.93354172e-02,  1.65460725e-02,  9.06368022e-04, -1.22782517e-02,\n",
      "       -2.09514779e-02, -2.65999471e-02, -2.30779427e-02, -2.23060205e-02,\n",
      "       -8.72573708e-04, -6.05954703e-02, -1.88551752e-02,  2.90323548e-03,\n",
      "        6.56855749e-02, -5.92983558e-02,  1.67925878e-03, -1.64229417e-02,\n",
      "       -6.28179078e-03, -1.02601866e-02, -3.49531413e-03, -5.13790528e-03,\n",
      "        2.34305513e-04,  1.35606978e-02, -7.95703218e-03, -4.70131779e-02,\n",
      "       -2.54856873e-02, -1.59273042e-02, -1.19014655e-02, -9.81747040e-03,\n",
      "       -6.35108513e-03,  8.38245268e-04, -1.34582725e-02, -1.48219527e-02,\n",
      "       -1.31292870e-02, -1.85048532e-02, -9.95338933e-03, -1.29512697e-02,\n",
      "        8.51950304e-03, -2.63224709e-02, -2.36065444e-02, -3.45547184e-02,\n",
      "       -1.78592858e-02, -1.01292409e-02, -1.09772237e-02, -2.69845351e-02,\n",
      "       -1.83161872e-02, -3.09108482e-02,  3.67462622e-02, -2.89287391e-02,\n",
      "        4.98963566e-03, -4.18876561e-02, -5.12552185e-03,  6.14030004e-04,\n",
      "        2.68919616e-02, -1.55152200e-02, -2.30745124e-02,  4.23810922e-02,\n",
      "       -1.70912562e-02, -3.66528715e-02, -6.97196436e-03])}}\n"
     ]
    }
   ],
   "source": [
    "\n",
    "num_samples = 5\n",
    "\n",
    "num_features = x_new_del_train.shape[1]\n",
    "\n",
    "random_hyperparameters = generate_random_hyperparameters(num_samples)\n",
    "\n",
    "\n",
    "k_folds = 5\n",
    "\n",
    "results = cross_validation_log(x_new_del_train, y_train, k_folds, random_hyperparameters)\n",
    "print(results)"
   ]
  },
  {
   "cell_type": "code",
   "execution_count": 235,
   "id": "ff3cf895",
   "metadata": {},
   "outputs": [
    {
     "name": "stdout",
     "output_type": "stream",
     "text": [
      "0.4127924693610373\n",
      "1e-16\n",
      "0.41017357497910967\n",
      "0.00025000000000007503\n",
      "0.40937259816170063\n",
      "0.00050000000000005\n",
      "0.4089358613342232\n",
      "0.000750000000000025\n",
      "0.4086785087394022\n",
      "0.001\n"
     ]
    }
   ],
   "source": [
    "for a in results:\n",
    "    print(results[a][\"F1 score\"])\n",
    "    print(a)"
   ]
  },
  {
   "cell_type": "code",
   "execution_count": null,
   "id": "7d65d074",
   "metadata": {},
   "outputs": [],
   "source": [
    "# Best model found so far : \n",
    "\n",
    "# ridge_regression with lambda = 1e-16  : f1 score =13831"
   ]
  },
  {
   "cell_type": "code",
   "execution_count": null,
   "id": "a69f4f85",
   "metadata": {},
   "outputs": [],
   "source": [
    "import implementations\n",
    "import importlib\n",
    "importlib.reload(implementations)\n",
    "from implementations import *\n",
    "\n",
    "\n",
    "\n",
    "\n",
    "initial_w = np.zeros(x_new_del_train.shape[1]) \n",
    "\n",
    "## Todo better initialization ? maybe normal distributed\n",
    "\n",
    "\n",
    "\n",
    "\n",
    "MaxIter = 100000\n",
    "gamma = 0.01\n",
    "\n",
    "w,loss = ridge_regression(y_train, x_new_del_train,0.01) ## GAVE 0.063 F1 SCORE , maybe use lambda really small to approximate a least square \n",
    "\n",
    "#w,loss = implementations.logistic_regression(y_train, x_new_del_train, initial_w, MaxIter, gamma)\n",
    "\n",
    "\n",
    "w.shape,x_new_del_test.shape\n",
    "\n",
    "\n",
    "\n",
    "\n",
    "\n",
    "y_pred4 = x_new_del_test.dot(w)\n",
    "y_pred4=(y_pred4>0)*2-1\n",
    "y_pred4\n",
    "\n",
    "helpers.create_csv_submission(test_ids, y_pred4, \"Submission4.csv\")"
   ]
  },
  {
   "cell_type": "code",
   "execution_count": 412,
   "id": "7439aacf",
   "metadata": {},
   "outputs": [],
   "source": [
    "from sklearn.linear_model import LinearRegression\n",
    "\n",
    "clf = LinearRegression().fit(x_new_del_train,y_train)\n",
    "y_pred3 = clf.predict(x_new_del_test)\n",
    "y_pred3 = (y_pred3>0)*2-1\n",
    "helpers.create_csv_submission(test_ids, y_pred3, \"Submission3.csv\") # gave 0.132 F1 score , Problem , we're not allowed to use it for the final submission"
   ]
  },
  {
   "cell_type": "code",
   "execution_count": null,
   "id": "ae4b4f34",
   "metadata": {},
   "outputs": [],
   "source": []
  }
 ],
 "metadata": {
  "kernelspec": {
   "display_name": "Python 3 (ipykernel)",
   "language": "python",
   "name": "python3"
  },
  "language_info": {
   "codemirror_mode": {
    "name": "ipython",
    "version": 3
   },
   "file_extension": ".py",
   "mimetype": "text/x-python",
   "name": "python",
   "nbconvert_exporter": "python",
   "pygments_lexer": "ipython3",
   "version": "3.10.7"
  }
 },
 "nbformat": 4,
 "nbformat_minor": 5
}
