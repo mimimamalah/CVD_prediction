{
 "cells": [
  {
   "cell_type": "code",
   "execution_count": 1,
   "id": "fc8435b0",
   "metadata": {},
   "outputs": [],
   "source": [
    "import numpy as np\n",
    "import helpers \n",
    "\n",
    "datapath = \"./dataset/\"\n",
    "\n",
    "\n",
    "x_train, x_test, y_train, train_ids, test_ids = helpers.load_csv_data(datapath)"
   ]
  },
  {
   "cell_type": "code",
   "execution_count": 2,
   "id": "ac313336",
   "metadata": {},
   "outputs": [
    {
     "data": {
      "text/plain": [
       "(109379, 321)"
      ]
     },
     "execution_count": 2,
     "metadata": {},
     "output_type": "execute_result"
    }
   ],
   "source": [
    "data_path = \"./dataset/x_train.csv\"\n",
    "feature_names =  np.genfromtxt(data_path, max_rows=2, delimiter=',', names=True).dtype.names\n",
    "feature_names = feature_names[1:] ## TODO , j'ai l'impression qu'il faut faire ça vue que x_train a pas ID\n",
    "columns = np.asarray(feature_names[0:])\n",
    "columns\n",
    "x_test.shape"
   ]
  },
  {
   "cell_type": "code",
   "execution_count": 3,
   "id": "7d9c16e8",
   "metadata": {},
   "outputs": [
    {
     "data": {
      "text/plain": [
       "\"\\n  \\n   on peux remplacer \\n\\n for i in range(len(new_column)):\\n       if new_column[i] == 3:  \\n            new_column[i] = 0\\n\\n    par ça , c'est plus court et aussi lisible \\n    new_column[new_column==3]=0\\n \""
      ]
     },
     "execution_count": 3,
     "metadata": {},
     "output_type": "execute_result"
    }
   ],
   "source": [
    "\n",
    "\n",
    "# TODO ATTENTION , dans chaque process ,     new_column = column.copy() \n",
    "# Python fait du passage par référence \n",
    " \n",
    "\n",
    "# TODO , all the variable in variables_for_process2 could be encode using one_hot_encoding_special,2,[7,9]\n",
    "\n",
    "# \n",
    "\"\"\"\n",
    "  \n",
    "   on peux remplacer \n",
    "\n",
    " for i in range(len(new_column)):\n",
    "       if new_column[i] == 3:  \n",
    "            new_column[i] = 0\n",
    "\n",
    "    par ça , c'est plus court et aussi lisible \n",
    "    new_column[new_column==3]=0\n",
    " \"\"\""
   ]
  },
  {
   "cell_type": "code",
   "execution_count": 4,
   "id": "e2527deb",
   "metadata": {},
   "outputs": [
    {
     "data": {
      "text/plain": [
       "129"
      ]
     },
     "execution_count": 4,
     "metadata": {},
     "output_type": "execute_result"
    }
   ],
   "source": [
    "\n",
    "collumns_to_delete = []\n",
    "D = x_train.shape[1]\n",
    "\n",
    "for i in range(D-1):\n",
    "    if len(np.where(np.isnan(x_train[:,i]))[0]) > x_train.shape[0]*0.60: #TODO Deleting collumns with >60% nan \n",
    "        collumns_to_delete.append(columns[i])\n",
    "\n",
    "\n",
    "\n",
    "len(collumns_to_delete)"
   ]
  },
  {
   "cell_type": "code",
   "execution_count": 5,
   "id": "11d4ca71",
   "metadata": {},
   "outputs": [
    {
     "name": "stdout",
     "output_type": "stream",
     "text": [
      "hot encode special shape  11\n",
      "hot encode normal  9\n"
     ]
    },
    {
     "data": {
      "text/plain": [
       "((328135, 205), (109379, 205))"
      ]
     },
     "execution_count": 5,
     "metadata": {},
     "output_type": "execute_result"
    }
   ],
   "source": [
    "## Acess to collumns i : x_train[:,i]\n",
    "x_new_train = np.copy(x_train) \n",
    "x_append_train = np.empty((x_train.shape[0],0))\n",
    "\n",
    "x_new_test= np.copy(x_test) \n",
    "x_append_test = np.empty((x_test.shape[0],0))\n",
    "\n",
    "def standardize(x):\n",
    "    \"\"\"Standardize the original data set.\"\"\"\n",
    "    mean_x = np.mean(x)\n",
    "    x = x - mean_x\n",
    "    std_x = np.std(x)\n",
    "    x = x / std_x\n",
    "    return x\n",
    "\n",
    "\n",
    "\n",
    "\n",
    "def preprocessing_refactorisation(list_of_collumns_to_process,processing_function):\n",
    "    for col in list_of_collumns_to_process:\n",
    "        tab = [i for i, item in enumerate(feature_names) if item.find(col) != -1 ]\n",
    "        if (len(tab)>0):\n",
    "            indice = tab[0]\n",
    "            x_new_train[:,indice] = standardize(processing_function(x_train[:,indice]))\n",
    "            x_new_test[:,indice] = standardize(processing_function(x_test[:,indice]))\n",
    "\n",
    "\n",
    "\n",
    "\n",
    "# TODO CAREFULL , ONE hot Encoding increase the size of the size of the dataset\n",
    "\n",
    "collumn_to_oneHotEncode = [\"_STATE\",\"IMONTH\",\"IDAY\",\"SEX\",\"_DRDXAR1\",\"_RACE_G1\",\"_BMI5CAT\",\"ACTIN11_\",\"ACTIN21_\"]\n",
    "collumn_to_oneHotencode_special = [(\"MARITAL\",6,[9]),(\"EDUCA\",6,[9]),(\"RENTHOM1\",3,[7,9]),(\"EMPLOY1\",8,[9]),(\"INCOME2\",8,[77,99]),(\"GENHLTH\",5,[7,9]),\n",
    "                                   (\"HAREHAB1\",2,[7,9]),(\"STREHAB1\",2,[7,9]),(\"CVDASPRN\",2,[7,9]),(\"ASPUNSAF\",3,[7,9]),(\"RLIVPAIN\",2,[7,9]),(\"RDUCHART\",2,[7,9]),\n",
    "                                   (\"RDUCSTRK\",2,[7,9]),(\"ARTHWGT\",2,[7,9]),(\"ARTHEXER\",2,[7,9]),(\"ARTHEDU\",2,[7,9]),\n",
    "                                   (\"TETANUS\",4,[7,9]),(\"HPVADVC2\",3,[7,9]),(\"HPVADSHT\",3,[77,99]),(\"SHINGLE2\",2,[7,9]),\n",
    "                                   (\"SCNTLPAD\",4,[7,9]),(\"SXORIENT\",4,[7,9]),(\"TRNSGNDR\",4,[7,9]),\n",
    "                                   (\"CASTHDX2\",2,[7,9]),(\"CASTHNO2\",2,[7,9]),(\"MISTMNT\",2,[7,9]),(\"ADANXEV\",2,[7,9]),(\"_CRACE1\",7,[77,99]),\n",
    "                                   (\"_CPRACE\",7,[77,99]),\n",
    "                                   (\"_RFHLTH\",2,[9]),(\"_HCVU651\",2,[9]),(\"_RFHYPE5\",2,[9]),(\"_CHOLCHK\",3,9),(\"_RFCHOL\",2,[9]),(\"_LTASTH1\",2,9),(\"_CASTHM1\",2,[9]),\n",
    "                                    (\"_ASTHMS1\",3,[9]),(\"_PRACE1\",8,[77,99]),(\"_MRACE1\",7,[77,99]),(\"_HISPANC\",2,[9]),(\"_RACE\",8,[9]),(\"_RACEG21\",2,[9]),\n",
    "                                    (\"_RACEGR3\",5,[9]),(\"_AGEG5YR\",13,[14]),(\"_AGE65YR\",2,[3]),(\"_RFBMI5\",2,[9]),(\"_CHLDCNT\",6,[9]),(\"_RFSMOK3\",2,[9]),\n",
    "                                    (\"DRNKANY5\",2,[7,9]),(\"_RFBING5\",2,[9]),(\"_RFDRHV5\",2,[9]),(\"_FRTLT1\",2,[9]),(\"_VEGLT1\",2,[9]),(\"_TOTINDA\",2,[9]),\n",
    "                                    (\"_PAINDX1\",2,[9]),(\"_PAREC1\",4,[9])\n",
    "                                   ]\n",
    "\n",
    "\n",
    "collumn_to_oneHotencode_special_123 = [(\"PERSDOC2\",3,[7,9]),(\"SMOKDAY2\",3,[7,9])]\n",
    "collumn_to_oneHotencode_special_pregnancy = [(\"BPHIGH4\",4,[7,9]),(\"DIABETE3\",4,[7,9]),(\"PREDIAB1\",3,[7,9])]\n",
    "\n",
    "\n",
    "collumn_to_oneHotencode_special= collumn_to_oneHotencode_special+collumn_to_oneHotencode_special_123+collumn_to_oneHotencode_special_pregnancy\n",
    "\n",
    "\n",
    "print(\"hot encode special shape \",len(collumn_to_oneHotencode_special))\n",
    "print(\"hot encode normal \",len(collumn_to_oneHotEncode))\n",
    "\n",
    "#One hot encoded collumns must be deleted\n",
    "collumns_to_delete_from_one_hot =[\"_STATE\",\"IMONTH\",\"IDAY\",\n",
    "                                  \"SEX\",\"MARITAL\",\"EDUCA\",\"RENTHOM1\",\"EMPLOY1\",\"INCOME2\",\"GENHLTH\",\n",
    "                                  \"PERSDOC2\",\"SMOKDAY2\",\n",
    "                                  \"BPHIGH4\",\"DIABETE3\",\n",
    "                                  \"HAREHAB1\",\"STREHAB1\",\"CVDASPRN\",\"ASPUNSAF\",\"RLIVPAIN\",\"RDUCHART\",\"RDUCSTRK\",\"ARTHWGT\",\"ARTHEXER\",\"ARTHEDU\",\n",
    "                                  \"TETANUS\",\"HPVADVC2\",\"HPVADSHT\",\"SHINGLE2\",\"SCNTLPAD\",\"SXORIENT\",\"TRNSGNDR\",\"CASTHDX2\",\"CASTHNO2\",\"MISTMNT\",\n",
    "                                  \"ADANXEV\",\"_CRACE1\",\"_CPRACE\",\"_RFHLTH\",\"_HCVU651\",\"_RFHYPE5\",\"_CHOLCHK\",\"_RFCHOL\",\"_MICHD\",\"_LTASTH1\",\"_CASTHM1\",\n",
    "                                  \"_ASTHMS1\",\"_DRDXAR1\",\"_PRACE1\",\"_MRACE1\",\"_HISPANC\",\"_RACE\",\"_RACEG21\",\"_RACEGR3\",\"_RACE_G1\",\n",
    "                                  \"_AGEG5YR\",\"_AGE65YR\",\"_BMI5CAT\",\"_RFBMI5\",\"_CHLDCNT\",\"_RFSMOK3\",\"DRNKANY5\",\"_RFBING5\",\"_RFDRHV5\",\"_FRTLT1\",\"_VEGLT1\",\"_TOTINDA\",\"ACTIN11_\",\"ACTIN21_\",\n",
    "                                  \"_PAINDX1\",\"_PAREC1\",\n",
    "                                  ]\n",
    "\n",
    "\n",
    "collumns_to_delete = collumns_to_delete+collumns_to_delete_from_one_hot\n",
    "\n",
    "\n",
    "\n",
    "#One hot encoding of the collumn , Assumes that the collumn contains value between 1 and K\n",
    "def one_hot_encoding(collumn):\n",
    "    collumn[np.isnan(collumn)] = 0\n",
    "    int_coll = collumn.astype(int)\n",
    "    num_classes = max(int_coll)+1\n",
    "    result = np.eye(num_classes)[int_coll]\n",
    "\n",
    "    return result\n",
    "\n",
    "\n",
    "# ONe hot encoding of the collumn , assumes that the collumns contains values between 1 and num_max , and that the value skip correspond to Nan / not answered ...\n",
    "\n",
    "def one_hot_encoding_special(collumn,num_max,skip):\n",
    "    collumn[np.isnan(collumn)] = 0\n",
    "    collumn_as_int = collumn.astype(int)\n",
    "    num_classes = num_max+1\n",
    "    collumn_as_int[np.isin(collumn_as_int, skip)]=0\n",
    "    result = np.eye(num_classes)[collumn_as_int]\n",
    "    \n",
    "    return result\n",
    "\n",
    "\n",
    "\n",
    "for col in collumn_to_oneHotEncode :\n",
    "    indice = [i for i, item in enumerate(feature_names) if item.find(col) != -1][0]\n",
    "    encoded_train  = one_hot_encoding(x_train[:,indice])\n",
    "    x_append_train = np.hstack((x_append_train,encoded_train))\n",
    "\n",
    "    encoded_test = one_hot_encoding(x_test[:,indice])\n",
    "    x_append_test = np.hstack((x_append_test,encoded_test))\n",
    "\n",
    "    \n",
    "\n",
    "for col,num_max,skip in collumn_to_oneHotencode_special:\n",
    "    indice = [i for i, item in enumerate(feature_names) if item.find(col) != -1][0]\n",
    "    encoded_train  = one_hot_encoding_special(x_train[:,indice],num_max,skip)\n",
    "    x_append_train = np.hstack((x_append_train,encoded_train))\n",
    "\n",
    "    encoded_test  = one_hot_encoding_special(x_test[:,indice],num_max,skip)\n",
    "    x_append_test = np.hstack((x_append_test,encoded_test))\n",
    "\n",
    "\n",
    "x_append_train.shape,x_append_test.shape # Currently , shape 415"
   ]
  },
  {
   "cell_type": "markdown",
   "id": "3184ce56",
   "metadata": {},
   "source": [
    "I think we should not consider IDATE, we should directly consider IMONTH, IDAY, IYEAR since it corresponds to the same thing, we should consider the columns to potentially drop"
   ]
  },
  {
   "cell_type": "code",
   "execution_count": 6,
   "id": "8f015ee1",
   "metadata": {},
   "outputs": [
    {
     "data": {
      "text/plain": [
       "298"
      ]
     },
     "execution_count": 6,
     "metadata": {},
     "output_type": "execute_result"
    }
   ],
   "source": [
    "\n",
    "\n",
    "array_to_trop_list = [\"DIS\"]\n",
    "array_to_drop_Useless = [\"_PSU\",\"SEQNO\",\"CTELENUM\",\"STATERES\",\"CELLFON3\",\"DISPCODE\",\"PVTRESD1\",\"CTELNUM1\",\"CELLFON2\",\n",
    "                         \"PVTRESD2\",\"LANDLINE\",\"HHADULT\",\"NUMHHOL2\",\"IMFVPLAC\",\"WHRTST10\",\"NUMADULT\" , \"NUMMEN\" , \"NUMWOMEN\",\n",
    "                         \"RCSGENDR\",\"RCSRLTN2\",\"QSTVER\",\"QSTLANG\",\"EXACTOT1\",\"EXACTOT2\",\"MSCODE\",\"_STSTR\",\"_STRWT\",\"_RAWRAKE\",\"_WT2RAKE\",\n",
    "                         \"_CHISPNC\",\"_CLLCPWT\",\"_DUALUSE\",\"_DUALCOR\",\n",
    "                         \"_AGE_G\",\"HTIN4\",\"WTKG3\",\"HTM4\",\n",
    "                         \n",
    "                         \n",
    "\n",
    "                         \"_MISFRTN\",\"_MISVEGN\",\"_FRTRESP\",\"_VEGRESP\",\"_FRT16\",\"_VEG23\",\"_FRUITEX\",\"_VEGETEX\",\n",
    "                         \"PAMISS1_\",\"_LMTSCL1\",\"_RFSEAT2\",\"_RFSEAT3\",\"_FLSHOT6\",\"_PNEUMO2\",\"_AIDTST3\"\n",
    "\n",
    "                         ,\"CHOLCHK\",\"FLSHTMY2\",\"FEETCHK2\",\"FEETCHK\",\n",
    "                         \"LONGWTCH\" #maybe use it later \n",
    "                         \n",
    "                         \n",
    "                         ]\n",
    "array_to_drop_redundant = [\"IDATE\",\"FMONTH\",\"IYEAR\"] #IYEAR is useless , 99% in 2015\n",
    "array_to_drop_too_many_missing =[\"LADULT\",\"COLGHOUS\",\"CADULT\",\"CCLGHOUS\",\"CSTATE\",\"NUMPHON2\", \"PAINACT2\",\"QLMENTL2\",\"QLSTRES2\",\"QLHLTH2\",\n",
    "                                 \"CRGVREL1\",\"CRGVLNG1\",\"CRGVHRS1\",\"CRGVPRB1\",\"CRGVPERS\", \"CRGVHOUS\",\"CRGVMST2\",\"CRGVEXPT\",\"HIVTSTD3\",\"VIDFCLT2\",\n",
    "                                 \"VIREDIF3\",\"VIPRFVS2\",\"VINOCRE2\",\"VIEYEXM2\",\"VIINSUR2\",\"VICTRCT4\",\"ASERVIST\",\"ASDRVIST\",\"ASRCHKUP\",\"ASACTLIM\",\"ASYMPTOM\",\"ASNOSLEP\",\n",
    "                                 \"ASTHMED3\",\"ASINHALR\"\n",
    "                                 \"PCPSADE1\",\"PCDMDECN\"\n",
    "                                 ]\n",
    "array_to_drop_or_to_oneHot =[\"EXRACT11\",\"EXRACT21\"]\n",
    "\n",
    "collumns_to_delete = collumns_to_delete + array_to_trop_list+array_to_drop_Useless+array_to_drop_redundant+array_to_drop_too_many_missing+array_to_drop_or_to_oneHot\n",
    "\n",
    "len(collumns_to_delete)\n",
    "\n",
    "#CAREFULL , DO NOT RUN MULTIPLE TIME , "
   ]
  },
  {
   "cell_type": "markdown",
   "id": "a5f31798",
   "metadata": {},
   "source": [
    "Process for PHYSHLTH, MENTHLTH, POORHLTH \n",
    "The values corresponds to days, between 1-30 it is already good.\n",
    "We're going to replace all 88 values by 0 because it corresponds to None which is 0 days, and we will assume that those who refused or did not answer have median values."
   ]
  },
  {
   "cell_type": "code",
   "execution_count": 7,
   "id": "d89372a2",
   "metadata": {},
   "outputs": [],
   "source": [
    "def process_HLTH(column):\n",
    "    new_column = column.copy()\n",
    "    for i in range(len(new_column)):\n",
    "        if new_column[i] == 88: \n",
    "            new_column[i] = 0\n",
    "            \n",
    "    filtered_elements = [x for x in new_column if 0 <= x <= 30]        \n",
    "    median = np.nanmedian(filtered_elements)\n",
    "        \n",
    "    for i in range(len(new_column)):\n",
    "        if ((new_column[i] == 77) or (new_column[i] == 99) or np.isnan(new_column[i])):\n",
    "            new_column[i] = median\n",
    "            \n",
    "    return new_column\n"
   ]
  },
  {
   "cell_type": "code",
   "execution_count": 8,
   "id": "8223a569",
   "metadata": {},
   "outputs": [],
   "source": [
    "variables_for_process_HLTH = [\"PHYSHLTH\",\"MENTHLTH\", \"POORHLTH\"]\n",
    "\n",
    "preprocessing_refactorisation(variables_for_process_HLTH,process_HLTH)"
   ]
  },
  {
   "cell_type": "markdown",
   "id": "c55e0766",
   "metadata": {},
   "source": [
    "Process for values that have as answer Yes or No\n",
    "We're going to replace No by 0 and yes by 1, since yes is already by 1, we're going to change 2 by 0. For values 7 which corresponds to don't know or not sure, 9 for refused, and BLANK for missing values, we're going to take the median\n",
    "\n",
    "We're going to use this method for variables : HLTHPLN1, MEDCOST, BPMEDS, BLOODCHO, TOLDHI2, CVDINFR4, CVDCRHD4, CVDSTRK3, ASTHMA3, ASTHNOW, CHCSCNCR, CHCOCNCR, CHCCOPD1, HAVARTH3, ADDEPEV2, CHCKIDNY, "
   ]
  },
  {
   "cell_type": "code",
   "execution_count": 9,
   "id": "14e8b1fd",
   "metadata": {},
   "outputs": [],
   "source": [
    "def process_2(column):\n",
    "    new_column = column.copy()\n",
    "    for i in range(len(new_column)):\n",
    "        if new_column[i] == 2: \n",
    "            new_column[i] = 0\n",
    "            \n",
    "    filtered_elements = [x for x in new_column if 0 <= x <= 1]        \n",
    "    median = np.median(filtered_elements)\n",
    "        \n",
    "    for i in range(len(new_column)):\n",
    "        if ((new_column[i] == 7) or (new_column[i] == 9) or np.isnan(new_column[i])):\n",
    "            new_column[i] = median\n",
    "            \n",
    "    return new_column"
   ]
  },
  {
   "cell_type": "code",
   "execution_count": 10,
   "id": "16e1db4c",
   "metadata": {},
   "outputs": [],
   "source": [
    "variables_for_process2 = [\"HLTHPLN1\", \"MEDCOST\", \"BPMEDS\", \"BLOODCHO\", \"TOLDHI2\",\n",
    "                          \"CVDSTRK3\", \"ASTHMA3\", \"ASTHNOW\",\n",
    "                          \"CHCSCNCR\", \"CHCOCNCR\", \"CHCCOPD1\", \"HAVARTH3\", \"ADDEPEV2\",\n",
    "                          \"CHCKIDNY\", \"CPDEMO1\", \"VETERAN3\", \"INTERNET\", \"PREGNANT\",\n",
    "                         \"QLACTLM2\", \"USEEQUIP\", \"BLIND\", \"DECIDE\", \"DIFFWALK\", \"DIFFDRES\",\n",
    "                          \"DIFFALON\", \"SMOKE100\",\"STOPSMK2\", \"EXERANY2\",\n",
    "                         \"LMTJOIN3\", \"ARTHDIS2\", \"FLUSHOT6\", \"PNEUVAC3\",\n",
    "                         \"HIVTST6\", \"PDIABTST\", \"INSULIN\", \"DIABEYE\", \"DIABEDU\",\"CAREGIV1\",\"VIGLUMA2\",\"VIMACDG2\",\"CIMEMLOS\",\"CDDISCUS\",\n",
    "                         \"WTCHSALT\",\"DRADVISE\",\"ASATTACK\",\n",
    "                         \"HADMAM\",\"HADPAP2\",\"HPVTEST\",\"HADHYST2\",\"PROFEXAM\",\"BLDSTOOL\",\n",
    "                         \"HADSIGM3\",\"HADSGCO1\",\"PCPSAAD2\",\"PCPSADI1\",\"PCPSARE1\",\"PSATEST1\",\n",
    "                         \"_PA30021\",\"_PASTRNG\",\"_PASTAE1\"\n",
    "                         ]\n",
    "\n",
    "preprocessing_refactorisation(variables_for_process2,process_2)"
   ]
  },
  {
   "cell_type": "markdown",
   "id": "98db4ebd",
   "metadata": {},
   "source": [
    "Process for CHECKUP1, we have to check what to do with never have been checked I gave 0 but I think we should instead do 5\n",
    "see how we can do both CHOLCHK and CHECKUP1"
   ]
  },
  {
   "cell_type": "code",
   "execution_count": 11,
   "id": "27e9b5cd",
   "metadata": {},
   "outputs": [],
   "source": [
    "def process_3(column):\n",
    "    new_column = column.copy()\n",
    "    for i in range(len(new_column)):\n",
    "        if new_column[i] == 8: \n",
    "            new_column[i] = 0\n",
    "            \n",
    "    filtered_elements = [x for x in new_column if 0 <= x <= 4]        \n",
    "    median = np.median(filtered_elements)\n",
    "        \n",
    "    for i in range(len(new_column)):\n",
    "        if ((new_column[i] == 7) or (new_column[i] == 9) or np.isnan(new_column[i])):\n",
    "            new_column[i] = median\n",
    "            \n",
    "    return new_column"
   ]
  },
  {
   "cell_type": "code",
   "execution_count": 12,
   "id": "8963f938",
   "metadata": {},
   "outputs": [],
   "source": [
    "variables_for_process3 = [\"CHECKUP1\", \"CHOLCHK\"]\n",
    "\n",
    "preprocessing_refactorisation(variables_for_process3,process_3)\n"
   ]
  },
  {
   "cell_type": "markdown",
   "id": "43c96591",
   "metadata": {},
   "source": [
    "See process for DIABAGE2, how old were you (ages between 1-97) ?"
   ]
  },
  {
   "cell_type": "code",
   "execution_count": 13,
   "id": "4c83622f",
   "metadata": {},
   "outputs": [],
   "source": [
    "def process_4(column):\n",
    "    new_column = column.copy()\n",
    "\n",
    "    filtered_elements = [x for x in new_column if 1 <= x <= 97]        \n",
    "    median = np.median(filtered_elements)\n",
    "        \n",
    "    for i in range(len(new_column)):\n",
    "        if ((new_column[i] == 98) or (new_column[i] == 99) or np.isnan(new_column[i])):\n",
    "            new_column[i] = median\n",
    "            \n",
    "    return new_column"
   ]
  },
  {
   "cell_type": "code",
   "execution_count": 14,
   "id": "077f5c51",
   "metadata": {},
   "outputs": [],
   "source": [
    "# TODO DIABAGE2 has 384 204 missing values , do we keep it ? \n",
    "\n",
    "variables_for_process4 = [\"DIABAGE2\"]\n",
    "\n",
    "preprocessing_refactorisation(variables_for_process4,process_4)"
   ]
  },
  {
   "cell_type": "markdown",
   "id": "3183fd73",
   "metadata": {},
   "source": [
    "See process for CHILDREN, values between 1-87, None corresponds to 88 we will transform to 0"
   ]
  },
  {
   "cell_type": "code",
   "execution_count": 15,
   "id": "c164ec06",
   "metadata": {},
   "outputs": [],
   "source": [
    "def process_5(column):\n",
    "    new_column = column\n",
    "    for i in range(len(new_column)):\n",
    "        if new_column[i] == 88: \n",
    "            new_column[i] = 0\n",
    "            \n",
    "    filtered_elements = [x for x in new_column if 0 <= x <= 87]        \n",
    "    median = np.median(filtered_elements)\n",
    "        \n",
    "    for i in range(len(new_column)):\n",
    "        if ((new_column[i] == 98) or np.isnan(new_column[i])):\n",
    "            new_column[i] = median\n",
    "            \n",
    "    return new_column"
   ]
  },
  {
   "cell_type": "code",
   "execution_count": 16,
   "id": "7c624ba7",
   "metadata": {},
   "outputs": [],
   "source": [
    "variables_for_process5 = [\"CHILDREN\"]\n",
    "\n",
    "\n",
    "preprocessing_refactorisation(variables_for_process5,process_5)"
   ]
  },
  {
   "cell_type": "markdown",
   "id": "9941d900",
   "metadata": {},
   "source": [
    "See process for WEIGHT2, For weight we will put everything in kilograms, so for values between 50-0999 which is in pound we will transform it it kg, and for values between 9000-9998 we will remove the first column of the value because it only corresponds to the fact that the value is in kg.\n",
    "\n",
    "See process for HEIGHT3, we will transform everything in centimeters, from inches to centimers"
   ]
  },
  {
   "cell_type": "code",
   "execution_count": 17,
   "id": "1b028073",
   "metadata": {},
   "outputs": [],
   "source": [
    "\n",
    "\n",
    "\n",
    "def process_6_weight(column):\n",
    "    new_column = column.copy()\n",
    "\n",
    "    \n",
    "    for i in range(len(new_column)):\n",
    "        if new_column[i] >= 50 and new_column[i] <= 999: \n",
    "            new_column[i] = new_column[i] * 0.453592\n",
    "        elif new_column[i] >= 9000 and new_column[i] <= 9998: \n",
    "            new_column[i] = new_column[i] - 9000\n",
    "\n",
    "            \n",
    "    filtered_elements = [x for x in new_column if 0 <= x <= 999]        \n",
    "    median = np.median(filtered_elements)\n",
    "        \n",
    "    for i in range(len(new_column)):\n",
    "        if ((new_column[i] == 7777) or (new_column[i] == 9999) or np.isnan(new_column[i])):\n",
    "            new_column[i] = median\n",
    "            \n",
    "    return new_column\n",
    "\n",
    "def process_6_height(column):\n",
    "    new_column = column.copy()\n",
    "    \n",
    "\n",
    "\n",
    "\n",
    "    for i in range(len(new_column)):\n",
    "        if new_column[i] >= 200 and new_column[i] <= 711: \n",
    "\n",
    "            feet = new_column[i]//100\n",
    "            inch = (new_column[i]-feet*100)+feet*12\n",
    "            new_column[i] = inch* 2.54\n",
    "        elif new_column[i] >= 9000 and new_column[i] <= 9998: \n",
    "            new_column[i] = new_column[i] - 9000\n",
    "\n",
    "       \n",
    "            \n",
    "    filtered_elements = [x for x in new_column if 0 <= x <= 999]        \n",
    "    median = np.median(filtered_elements)\n",
    "        \n",
    "    for i in range(len(new_column)):\n",
    "        if ((new_column[i] == 7777) or (new_column[i] == 9999) or np.isnan(new_column[i])):\n",
    "            new_column[i] = median\n",
    "            \n",
    "    return new_column"
   ]
  },
  {
   "cell_type": "code",
   "execution_count": 18,
   "id": "09a62ce0",
   "metadata": {},
   "outputs": [],
   "source": [
    "preprocessing_refactorisation([\"WEIGHT2\"],process_6_weight)\n",
    "preprocessing_refactorisation([\"HEIGHT3\"],process_6_height)"
   ]
  },
  {
   "cell_type": "markdown",
   "id": "38d6f2ea",
   "metadata": {},
   "source": [
    "We do process for ALCDAY5 where :\n",
    "- the value in the form 1_ _ = days per week, there are 4 week per month\n",
    "- 2_ _ = days in the past 30 day\n",
    "- 888 no drinks we will then consider 0\n",
    "- for the values 777, 999, BLANK, we will consider the mean\n",
    "\n",
    "The new value corresponds to the number of days per month you consumed at least one drink\n",
    "\n",
    "Same thing works for EXEROFT1"
   ]
  },
  {
   "cell_type": "code",
   "execution_count": 19,
   "id": "902018d8",
   "metadata": {},
   "outputs": [],
   "source": [
    "def process_7(column):\n",
    "    new_column = column.copy()\n",
    "    for i in range(len(new_column)):\n",
    "        if new_column[i] >= 101 and new_column[i] <= 199: \n",
    "            new_column[i] = (new_column[i] - 100) * 4\n",
    "        elif new_column[i] >= 201 and new_column[i] <= 299: \n",
    "            new_column[i] = (new_column[i] - 200)\n",
    "        elif (new_column[i] == 888): \n",
    "            new_column[i] = 0\n",
    "            \n",
    "    filtered_elements = [x for x in new_column if 0 <= x <= 99]        \n",
    "    median = np.median(filtered_elements)\n",
    "        \n",
    "    for i in range(len(new_column)):\n",
    "        if ((new_column[i] == 777) or (new_column[i] == 999) or np.isnan(new_column[i])):\n",
    "            new_column[i] = median\n",
    "            \n",
    "    return new_column"
   ]
  },
  {
   "cell_type": "code",
   "execution_count": 20,
   "id": "fc33ee25",
   "metadata": {},
   "outputs": [],
   "source": [
    "variables_for_process7 = [\"ALCDAY5\", \"EXEROFT1\", \"EXEROFT2\", \"STRENGTH\"]\n",
    "\n",
    "\n",
    "\n",
    "preprocessing_refactorisation(variables_for_process7,process_7)"
   ]
  },
  {
   "cell_type": "markdown",
   "id": "a43e97fe",
   "metadata": {},
   "source": [
    "Do process for Alcohol, especially for AVEDRNK2 and the other, we are considering if it is BLANK because it is not asked since the previous answer is no (888), which is the answer to the question have you had any alcoholic beverage. Since the answer to the variable name ALCDAY5 is no they will not ask the other questions. "
   ]
  },
  {
   "cell_type": "code",
   "execution_count": 21,
   "id": "095a0a5d",
   "metadata": {},
   "outputs": [],
   "source": [
    "def process_8(column, column_ALCDAY5):\n",
    "    new_column = column.copy()\n",
    "    for i in range(len(new_column)):\n",
    "        if (np.isnan(new_column[i]) and column_ALCDAY5[i] == 888): \n",
    "            new_column[i] = 0\n",
    "\n",
    "            \n",
    "    filtered_elements = [x for x in new_column if 0 <= x <= 76]        \n",
    "    median = np.median(filtered_elements)\n",
    "        \n",
    "    for i in range(len(new_column)):\n",
    "        if ((new_column[i] == 77) or (new_column[i] == 99) or np.isnan(new_column[i])):\n",
    "            new_column[i] = median\n",
    "            \n",
    "    return new_column"
   ]
  },
  {
   "cell_type": "code",
   "execution_count": 22,
   "id": "e4cf6290",
   "metadata": {},
   "outputs": [],
   "source": [
    "\n",
    "\n",
    "\n",
    "variables_for_process8 = [\"AVEDRNK2\", \"DRNK3GE5\", \"MAXDRNKS\" ]\n",
    "indice_ALCDAY5 = [i for i, item in enumerate(feature_names) if item.find(\"ALCDAY5\") != -1 ][0]\n",
    "for col in variables_for_process8 :\n",
    "    indice = [i for i, item in enumerate(feature_names) if item.find(col) != -1 ][0]\n",
    "    x_new_train[:,indice] = process_8(x_train[:,indice], x_train[:,indice_ALCDAY5])\n",
    "    x_new_test[:,indice] = process_8(x_test[:,indice], x_test[:,indice_ALCDAY5])"
   ]
  },
  {
   "cell_type": "markdown",
   "id": "eb9ac6e9",
   "metadata": {},
   "source": [
    "Process for FRUITJU1, FRUIT1, FVBEANS, FVGREEN, FVORANG, VEGETAB1  . We are going to use  information about FRUITJUI1 to understand how the values in FRUIT1 works, indeed,\n",
    "- the value in the form 1_ _ = times per day, we will consider there are 30 days per month\n",
    "- 2_ _ = times per week, we will consider there are 4 weeks per month (maybe you want to consider more 4,..)\n",
    "- 300 means less than one time per month, we will consider 0 \n",
    "- 3_ _ = times per month\n",
    "- 555 never we will then consider 0\n",
    "- for the values 777, 999, BLANK we will consider the median"
   ]
  },
  {
   "cell_type": "code",
   "execution_count": 23,
   "id": "f8f50736",
   "metadata": {},
   "outputs": [],
   "source": [
    "def process_9(column):\n",
    "    new_column = column.copy()\n",
    "    for i in range(len(new_column)):\n",
    "        if new_column[i] >= 101 and new_column[i] <= 199: \n",
    "            new_column[i] = (new_column[i] - 100) * 30\n",
    "        elif new_column[i] >= 201 and new_column[i] <= 299: \n",
    "            new_column[i] = (new_column[i] - 200) * 4\n",
    "        elif (new_column[i] == 300) or (new_column[i] == 555): \n",
    "            new_column[i] = 0\n",
    "        elif new_column[i] >= 301 and new_column[i] <= 399: \n",
    "            new_column[i] = (new_column[i] - 300)\n",
    "\n",
    "            \n",
    "    filtered_elements = [x for x in new_column if 0 <= x <= 99]        \n",
    "    median = np.median(filtered_elements)\n",
    "        \n",
    "    for i in range(len(new_column)):\n",
    "        if ((new_column[i] == 777) or (new_column[i] == 999) or np.isnan(new_column[i])):\n",
    "            new_column[i] = median\n",
    "            \n",
    "    return new_column"
   ]
  },
  {
   "cell_type": "code",
   "execution_count": 24,
   "id": "866ef97a",
   "metadata": {},
   "outputs": [],
   "source": [
    "\n",
    "\n",
    "\n",
    "variables_for_process9 = [\"FRUITJU1\", \"FRUIT1\", \"FVBEANS\",\n",
    "                          \"FVGREEN\", \"FVORANG\", \"VEGETAB1\"]\n",
    "preprocessing_refactorisation(variables_for_process9,process_9)"
   ]
  },
  {
   "cell_type": "markdown",
   "id": "2c4eb136",
   "metadata": {},
   "source": [
    "We do process for EXERHMM1, we have values in hours and minutes, we want it to be continious, we have _ _ _, the first value correspond to the number of hours, the two other values correspond to minutes, We will convert everything to minutes \n",
    "Also works for EXERHMM2"
   ]
  },
  {
   "cell_type": "code",
   "execution_count": 25,
   "id": "551542da",
   "metadata": {},
   "outputs": [],
   "source": [
    "def process_10(column):\n",
    "    new_column = column.copy()\n",
    "    for i in range(len(new_column)):\n",
    "        if ((new_column[i] >= 1 and new_column[i] <= 759) \n",
    "        or (new_column[i] >= 800 and new_column[i] <= 959)):             \n",
    "            first_digit = new_column[i] // 100\n",
    "            digits2_3 = new_column[i] % 100           \n",
    "            new_column[i] = first_digit * 60 + digits2_3\n",
    "\n",
    "            \n",
    "    filtered_elements = [x for x in new_column if 0 <= x <= 600]        \n",
    "    median = np.median(filtered_elements)\n",
    "        \n",
    "    for i in range(len(new_column)):\n",
    "        if ((new_column[i] == 777) or (new_column[i] == 999) or np.isnan(new_column[i])):\n",
    "            new_column[i] = median\n",
    "            \n",
    "    return new_column"
   ]
  },
  {
   "cell_type": "code",
   "execution_count": 26,
   "id": "8dad8d38",
   "metadata": {},
   "outputs": [],
   "source": [
    "variables_for_process10 = [\"EXERHMM1\", \"EXERHMM2\"]\n",
    "\n",
    "preprocessing_refactorisation(variables_for_process10,process_10)"
   ]
  },
  {
   "cell_type": "markdown",
   "id": "a01400e2",
   "metadata": {},
   "source": []
  },
  {
   "cell_type": "markdown",
   "id": "c2546e16",
   "metadata": {},
   "source": [
    "DO IMFVPLAC"
   ]
  },
  {
   "cell_type": "markdown",
   "id": "9cf7b417",
   "metadata": {},
   "source": [
    "We will process the values for BLDSUGAR, FEETCHK2\n",
    "We want to have the times they checked something per year:\n",
    "- the value in the form 1_ _ = times per day, we will consider there are 365 days in a year\n",
    "- 2_ _ = times per week, we will consider there are 52 weeks per year (you may want to consider there are more (52,143))\n",
    "- 3_ _ = times per month, we consider there are 12 months in a year\n",
    "- 4_ _ = times per year\n",
    "- 555 no feet, we will then consider 0\n",
    "- 888 never, whichi means 0\n",
    "- for the values 777, 999, BLANK we will consider the median\n"
   ]
  },
  {
   "cell_type": "code",
   "execution_count": 27,
   "id": "b01b6c4e",
   "metadata": {},
   "outputs": [],
   "source": [
    "def process_11(column):\n",
    "    \n",
    "    new_column = column.copy()\n",
    "    \n",
    "    for i in range(len(new_column)):\n",
    "        if new_column[i] >= 101 and new_column[i] <= 199: \n",
    "            new_column[i] = (new_column[i] - 100) * 365\n",
    "        elif new_column[i] >= 201 and new_column[i] <= 299: \n",
    "            new_column[i] = (new_column[i] - 200) * 52\n",
    "        elif new_column[i] >= 301 and new_column[i] <= 399: \n",
    "            new_column[i] = (new_column[i] - 300) * 12\n",
    "        elif new_column[i] >= 401 and new_column[i] <= 499: \n",
    "            new_column[i] = new_column[i] - 400\n",
    "        elif (new_column[i] == 300) or (new_column[i] == 555): \n",
    "            new_column[i] = 0\n",
    "\n",
    "\n",
    "            \n",
    "    filtered_elements = [x for x in new_column if 0 <= x <= 99]        \n",
    "    median = np.median(filtered_elements)\n",
    "        \n",
    "    for i in range(len(new_column)):\n",
    "        if ((new_column[i] == 777) or (new_column[i] == 999) or np.isnan(new_column[i])):\n",
    "            new_column[i] = median\n",
    "            \n",
    "    return new_column"
   ]
  },
  {
   "cell_type": "code",
   "execution_count": 28,
   "id": "46cb96fe",
   "metadata": {},
   "outputs": [],
   "source": [
    "variables_for_process11 = [\"BLDSUGAR\", \"FEETCHK2\"]\n",
    "preprocessing_refactorisation(variables_for_process11,process_11)\n"
   ]
  },
  {
   "cell_type": "markdown",
   "id": "080f6483",
   "metadata": {},
   "source": [
    "Process for DOCTDIAB, CHKHEMO3, FEETCHK\n",
    "We want all the values to be between 0-76 that corresponds to how many times they did something\n",
    "- 88 which corresponds to None/ 0\n",
    "- 98 never heard of means they have done it 0 times\n",
    "- for the values 77-99-BLANK we will again consider the median"
   ]
  },
  {
   "cell_type": "code",
   "execution_count": 29,
   "id": "84001855",
   "metadata": {},
   "outputs": [],
   "source": [
    "def process_12(column):\n",
    "    new_column = column.copy()\n",
    "    for i in range(len(new_column)):\n",
    "        if (new_column[i] == 88 or new_column[i] == 98 ): \n",
    "            new_column[i] = 0\n",
    "\n",
    "    filtered_elements = [x for x in new_column if 0 <= x <= 76]        \n",
    "    median = np.median(filtered_elements)\n",
    "        \n",
    "    for i in range(len(new_column)):\n",
    "        if ((new_column[i] == 77) or (new_column[i] == 99) or np.isnan(new_column[i])):\n",
    "            new_column[i] = median\n",
    "            \n",
    "    return new_column"
   ]
  },
  {
   "cell_type": "code",
   "execution_count": 30,
   "id": "380eb674",
   "metadata": {},
   "outputs": [
    {
     "name": "stderr",
     "output_type": "stream",
     "text": [
      "/Users/malaklahlou/Library/Python/3.10/lib/python/site-packages/numpy/core/fromnumeric.py:3432: RuntimeWarning: Mean of empty slice.\n",
      "  return _methods._mean(a, axis=axis, dtype=dtype,\n",
      "/Users/malaklahlou/Library/Python/3.10/lib/python/site-packages/numpy/core/_methods.py:190: RuntimeWarning: invalid value encountered in double_scalars\n",
      "  ret = ret.dtype.type(ret / rcount)\n"
     ]
    }
   ],
   "source": [
    "variables_for_process12 = [\"DOCTDIAB\",\"CHKHEMO3\",\"FEETCHK\"]\n",
    "preprocessing_refactorisation(variables_for_process12,process_12)\n"
   ]
  },
  {
   "cell_type": "code",
   "execution_count": 31,
   "id": "7da44ddd",
   "metadata": {},
   "outputs": [],
   "source": [
    "\n",
    "\n",
    "def process_13(column):\n",
    "    new_column = column.copy()\n",
    "    # Never is mapped to 0 , some days mapped to 1 and every day mapped to 2 \n",
    "    new_column[new_column==3]=0\n",
    "    new_column[new_column==2]=1\n",
    "    new_column[new_column==1]=2\n",
    "            \n",
    "    filtered_elements = [x for x in new_column if 0 <= x <= 2]        \n",
    "    median = np.median(filtered_elements)\n",
    "        \n",
    "    for i in range(len(new_column)):\n",
    "        if ((new_column[i] == 7) or (new_column[i] == 9) or np.isnan(new_column[i])): # DON'T KNOW / REFUSED \n",
    "            new_column[i] = median\n",
    "            \n",
    "    return new_column\n",
    "\n",
    "\n"
   ]
  },
  {
   "cell_type": "code",
   "execution_count": 32,
   "id": "6f281991",
   "metadata": {},
   "outputs": [],
   "source": [
    "variables_for_process13 = [\"USENOW3\",\"ARTHSOCL\",\"SMOKDAY2\",\"_PA150R2\",\"_PA300R2\",\"_LMTACT1\",\"_LMTWRK1\"]\n",
    "preprocessing_refactorisation(variables_for_process13,process_13)"
   ]
  },
  {
   "cell_type": "code",
   "execution_count": 33,
   "id": "9b064a35",
   "metadata": {},
   "outputs": [],
   "source": [
    "def process_14(column):\n",
    "    new_column = column.copy()\n",
    "            \n",
    "    filtered_elements = [x for x in new_column if 0 <= x <= 10]        \n",
    "    median = np.median(filtered_elements)\n",
    "        \n",
    "    for i in range(len(new_column)):\n",
    "        if ((new_column[i] == 77) or (new_column[i] == 99) or np.isnan(new_column[i])): # DON'T KNOW / REFUSED \n",
    "            new_column[i] = median\n",
    "            \n",
    "    return new_column"
   ]
  },
  {
   "cell_type": "code",
   "execution_count": 34,
   "id": "95486955",
   "metadata": {},
   "outputs": [],
   "source": [
    "variables_for_process14 = [\"JOINPAIN\"]\n",
    "preprocessing_refactorisation(variables_for_process14,process_14)"
   ]
  },
  {
   "cell_type": "code",
   "execution_count": 35,
   "id": "694ae9d9",
   "metadata": {},
   "outputs": [],
   "source": [
    "def process_15(column):\n",
    "    new_column = column.copy()\n",
    "    new_column[new_column==8]=5\n",
    "\n",
    "            \n",
    "    filtered_elements = [x for x in new_column if 0 <= x <= 5]        \n",
    "    median = np.median(filtered_elements)\n",
    "        \n",
    "    for i in range(len(new_column)):\n",
    "        if ((new_column[i] == 7) or (new_column[i] == 9) or np.isnan(new_column[i])): # DON'T KNOW / REFUSED \n",
    "            new_column[i] = median\n",
    "            \n",
    "    return new_column"
   ]
  },
  {
   "cell_type": "code",
   "execution_count": 36,
   "id": "3716272d",
   "metadata": {},
   "outputs": [],
   "source": [
    "variables_for_process15 = [\"EYEEXAM\",\"ARTTODAY\",\"SCNTMNY1\",\"SCNTMEL1\",\"SCNTPAID\",\"_EDUCAG\",\"_INCOMG\",\"_SMOKER3\",\"_PACAT1\"]\n",
    "preprocessing_refactorisation(variables_for_process15,process_15)"
   ]
  },
  {
   "cell_type": "code",
   "execution_count": 37,
   "id": "befbea92",
   "metadata": {},
   "outputs": [],
   "source": [
    "def process_16(column):\n",
    "    new_column = column.copy()\n",
    "\n",
    "    new_column[new_column==8]=1\n",
    "\n",
    "            \n",
    "    filtered_elements = [x for x in new_column if 0 <= x <= 6]\n",
    "    median = np.median(filtered_elements)\n",
    "        \n",
    "    for i in range(len(new_column)):\n",
    "        if ((new_column[i] == 7) or (new_column[i] == 9) or np.isnan(new_column[i])): # DON'T KNOW / REFUSED \n",
    "            new_column[i] = median\n",
    "            \n",
    "    return new_column"
   ]
  },
  {
   "cell_type": "code",
   "execution_count": 38,
   "id": "3b40240b",
   "metadata": {},
   "outputs": [],
   "source": [
    "variables_for_process16 = [\"SEATBELT\",\"CDHOUSE\",\"CDASSIST\",\"CDHELP\",\"CDSOCIAL\",\"HOWLONG\",\n",
    "                           \"LASTPAP2\",\"HPLSTTST\",\"LENGEXAM\",\"LSTBLDS3\",\"LASTSIG3\",\"PSATIME\",\"PCPSARS1\",\n",
    "                           \"EMTSUPRT\",\"LSATISFY\"]\n",
    "preprocessing_refactorisation(variables_for_process16,process_16)"
   ]
  },
  {
   "cell_type": "code",
   "execution_count": 39,
   "id": "46ee73a3",
   "metadata": {},
   "outputs": [],
   "source": [
    "def process_17(column):\n",
    "    new_column = column.copy()\n",
    "\n",
    "\n",
    "\n",
    "            \n",
    "    filtered_elements = [x for x in new_column if 0 <= x <= 8]\n",
    "    median = np.median(filtered_elements)\n",
    "        \n",
    "    for i in range(len(new_column)):\n",
    "        if ((new_column[i] == 77) or (new_column[i] == 99) or np.isnan(new_column[i])): # DON'T KNOW / REFUSED \n",
    "            new_column[i] = median\n",
    "            \n",
    "    return new_column"
   ]
  },
  {
   "cell_type": "code",
   "execution_count": 40,
   "id": "1ab67b8c",
   "metadata": {},
   "outputs": [],
   "source": [
    "variables_for_process17 = [\"LASTSMK2\"]\n",
    "preprocessing_refactorisation(variables_for_process17,process_17)"
   ]
  },
  {
   "cell_type": "code",
   "execution_count": 41,
   "id": "92b37b55",
   "metadata": {},
   "outputs": [],
   "source": [
    "def process_18(column):\n",
    "    new_column = column.copy()\n",
    "\n",
    "    filtered_elements = [x for x in new_column if 11 <= x <= 96]        \n",
    "    median = np.median(filtered_elements)\n",
    "        \n",
    "    for i in range(len(new_column)):\n",
    "        if ((new_column[i] == 98) or (new_column[i] == 99) or np.isnan(new_column[i])):\n",
    "            new_column[i] = median\n",
    "            \n",
    "    return new_column"
   ]
  },
  {
   "cell_type": "code",
   "execution_count": 42,
   "id": "a4dfe601",
   "metadata": {},
   "outputs": [],
   "source": [
    "variables_for_process18 = [\"ASTHMAGE\"]\n",
    "preprocessing_refactorisation(variables_for_process18,process_18)"
   ]
  },
  {
   "cell_type": "code",
   "execution_count": 43,
   "id": "ec93fb12",
   "metadata": {},
   "outputs": [],
   "source": [
    "def process_19(column):\n",
    "    new_column = column\n",
    "    for i in range(len(new_column)):\n",
    "        if new_column[i] == 98: \n",
    "            new_column[i] = 0\n",
    "            \n",
    "    filtered_elements = [x for x in new_column if 0 <= x <= 96]        \n",
    "    median = np.median(filtered_elements)\n",
    "        \n",
    "    for i in range(len(new_column)):\n",
    "        if ((new_column[i] == 97)  or (new_column[i] == 99) or np.isnan(new_column[i])):\n",
    "            new_column[i] = median\n",
    "            \n",
    "    return new_column"
   ]
  },
  {
   "cell_type": "code",
   "execution_count": 44,
   "id": "cdf4e405",
   "metadata": {},
   "outputs": [],
   "source": [
    "variables_for_process19 = [\"SCNTWRK1\",\"SCNTLWK1\"]\n",
    "preprocessing_refactorisation(variables_for_process19,process_19)"
   ]
  },
  {
   "cell_type": "code",
   "execution_count": 45,
   "id": "976115bc",
   "metadata": {},
   "outputs": [],
   "source": [
    "def process_20(column):\n",
    "    new_column = column\n",
    "    for i in range(len(new_column)):\n",
    "        if new_column[i] == 88: \n",
    "            new_column[i] = 0\n",
    "            \n",
    "    filtered_elements = [x for x in new_column if 0 <= x <= 14]        \n",
    "    median = np.median(filtered_elements)\n",
    "        \n",
    "    for i in range(len(new_column)):\n",
    "        if ((new_column[i] == 77)  or (new_column[i] == 99) or np.isnan(new_column[i])):\n",
    "            new_column[i] = median\n",
    "            \n",
    "    return new_column"
   ]
  },
  {
   "cell_type": "code",
   "execution_count": 46,
   "id": "81da80fc",
   "metadata": {},
   "outputs": [],
   "source": [
    "variables_for_process20 = [\"ADPLEASR\",\"ADDOWN\",\"ADSLEEP\",\"ADENERGY\",\"ADEAT1\",\"ADFAIL\",\"ADTHINK\",\"ADMOVE\"]\n",
    "preprocessing_refactorisation(variables_for_process20,process_20)"
   ]
  },
  {
   "cell_type": "code",
   "execution_count": 47,
   "id": "5d12c9f8",
   "metadata": {},
   "outputs": [],
   "source": [
    "def process_21(column):\n",
    "    new_column = column\n",
    " \n",
    "    filtered_elements = [x for x in new_column if 0 <= x <= 99999]        \n",
    "    median = np.median(filtered_elements)\n",
    "        \n",
    "    for i in range(len(new_column)):\n",
    "        if ( np.isnan(new_column[i])):\n",
    "            new_column[i] = median\n",
    "            \n",
    "    return new_column"
   ]
  },
  {
   "cell_type": "code",
   "execution_count": 48,
   "id": "9417d2d5",
   "metadata": {},
   "outputs": [],
   "source": [
    "variables_for_process21 = [\"GRENDAY_\",\"ORNGDAY_\",\"VEGEDA1_\",\"FTJUDA1_\",\"FRUTDA1_\",\"BEANDAY_\",\"_FRUTSUM\",\"_VEGESUM\",\"PADUR1_\",\"PADUR2_\",\n",
    "                           \"_MINAC11\",\"_MINAC21\",\"PAMIN11_\",\"PAMIN21_\",\"PA1MIN_\",\"PAVIG11_\",\"PAVIG21_\",\"PA1VIGM_\"]\n",
    "preprocessing_refactorisation(variables_for_process21,process_21)"
   ]
  },
  {
   "cell_type": "code",
   "execution_count": 49,
   "id": "71d40e01",
   "metadata": {},
   "outputs": [],
   "source": [
    "def process_22(column):\n",
    "    new_column = column\n",
    " \n",
    "    filtered_elements = [x for x in new_column if 0 <= x <= 128]        \n",
    "    median = np.median(filtered_elements)\n",
    "        \n",
    "    for i in range(len(new_column)):\n",
    "        if ( np.isnan(new_column[i])):\n",
    "            new_column[i] = median\n",
    "            \n",
    "    return new_column"
   ]
  },
  {
   "cell_type": "code",
   "execution_count": 50,
   "id": "63c24e48",
   "metadata": {},
   "outputs": [],
   "source": [
    "variables_for_process22 = [\"METVL11_\",\"METVL21_\"]\n",
    "preprocessing_refactorisation(variables_for_process22,process_22)"
   ]
  },
  {
   "cell_type": "code",
   "execution_count": 51,
   "id": "9ca1c895",
   "metadata": {},
   "outputs": [],
   "source": [
    "def process_23(column):\n",
    "    new_column = column\n",
    " \n",
    "    filtered_elements = [x for x in new_column if 0 <= x <= 98999]        \n",
    "    median = np.median(filtered_elements)\n",
    "        \n",
    "    for i in range(len(new_column)):\n",
    "        if ((new_column[i] == 99900) or (new_column[i]==99000) or  np.isnan(new_column[i])):\n",
    "            new_column[i] = median\n",
    "            \n",
    "    return new_column"
   ]
  },
  {
   "cell_type": "code",
   "execution_count": 52,
   "id": "c22f0430",
   "metadata": {},
   "outputs": [],
   "source": [
    "variables_for_process23 = [\"MAXVO2_\",\"FC60_\",\"PAFREQ1_\",\"PAFREQ2_\",\"STRFREQ_\"]\n",
    "preprocessing_refactorisation(variables_for_process23,process_23)"
   ]
  },
  {
   "cell_type": "code",
   "execution_count": 53,
   "id": "f6b659c7",
   "metadata": {},
   "outputs": [],
   "source": [
    "def process_24(column):\n",
    "    new_column = column\n",
    " \n",
    "    filtered_elements = [x for x in new_column if 0 <= x <= 9999]        \n",
    "    median = np.median(filtered_elements)\n",
    "        \n",
    "    for i in range(len(new_column)):\n",
    "        if (np.isnan(new_column[i])):\n",
    "            new_column[i] = median\n",
    "            \n",
    "    return new_column"
   ]
  },
  {
   "cell_type": "code",
   "execution_count": 54,
   "id": "a28ea4f5",
   "metadata": {},
   "outputs": [],
   "source": [
    "variables_for_process24 = [\"_BMI5\"]\n",
    "preprocessing_refactorisation(variables_for_process24,process_24)"
   ]
  },
  {
   "cell_type": "code",
   "execution_count": 59,
   "id": "1bb2e901",
   "metadata": {},
   "outputs": [],
   "source": [
    "def process_25(column):\n",
    "    \n",
    "    \"\"\"\n",
    "    Process for BPHIGH4, \n",
    "    We consider 0 : don't have high blood pressure \n",
    "    we consider 1 : you have high blood pressure\n",
    "    we consider 2 : to have borderline high which is even more than high blood pressure \n",
    "    - If told yes only during pregnancy that means no since it's normal \n",
    "   Same process but with DIABETE3, PREDIAB1, which corresponds to diabetes\n",
    "   \n",
    "   \"\"\"\n",
    "    new_column = column.copy()\n",
    "    new_column[new_column==2]=0\n",
    "    new_column[new_column==3]=0\n",
    "    new_column[new_column==4]=2\n",
    "            \n",
    "    filtered_elements = [x for x in new_column if 0 <= x <= 2]        \n",
    "    median = np.median(filtered_elements)\n",
    "        \n",
    "    for i in range(len(new_column)):\n",
    "        if ((new_column[i] == 7)  or (new_column[i] == 9) or np.isnan(new_column[i])):\n",
    "            new_column[i] = median\n",
    "            \n",
    "    return new_column"
   ]
  },
  {
   "cell_type": "code",
   "execution_count": 60,
   "id": "b5dbb16a",
   "metadata": {},
   "outputs": [],
   "source": [
    "variables_for_process25 = [\"BPHIGH4\", \"DIABETE3\", \"PREDIAB1\"]\n",
    "preprocessing_refactorisation(variables_for_process25,process_25)"
   ]
  },
  {
   "cell_type": "code",
   "execution_count": 61,
   "id": "1d4e0e3b",
   "metadata": {},
   "outputs": [],
   "source": [
    "def process_26(column):\n",
    "    \n",
    "    \"\"\"\n",
    "    Process for PERSDOC2, \n",
    "    We consider 0 : don't have a care provider, so 3 becomes 0 \n",
    "    we consider 1 : you one\n",
    "    we consider 2 : you have two\n",
    "   \"\"\"\n",
    "    \n",
    "    new_column = column.copy()\n",
    "\n",
    "    new_column[new_column==3]=0\n",
    "\n",
    "    filtered_elements = [x for x in new_column if 0 <= x <= 6]\n",
    "    median = np.median(filtered_elements)\n",
    "        \n",
    "    for i in range(len(new_column)):\n",
    "        if ((new_column[i] == 7) or (new_column[i] == 9) or np.isnan(new_column[i])): # DON'T KNOW / REFUSED \n",
    "            new_column[i] = median\n",
    "            \n",
    "    return new_column"
   ]
  },
  {
   "cell_type": "code",
   "execution_count": 62,
   "id": "17fa9dbf",
   "metadata": {},
   "outputs": [],
   "source": [
    "variables_for_process26 = [\"PERSDOC2\"]\n",
    "preprocessing_refactorisation(variables_for_process26,process_26)"
   ]
  },
  {
   "cell_type": "markdown",
   "id": "26033fc0",
   "metadata": {},
   "source": []
  },
  {
   "cell_type": "markdown",
   "id": "bca63b47",
   "metadata": {},
   "source": [
    "collumn_to_oneHotencode_special = [(\"MARITAL\",6,[9]),(\"RENTHOM1\",3,[7,9]),(\"EMPLOY1\",8,[9]), \n",
    "                                       (\"_HCVU651\",2,[9]),(\"_RFHYPE5\",2,[9]),(\"_CHOLCHK\",3,9),(\"_RFCHOL\",2,[9]),(\"_LTASTH1\",2,9),(\"_CASTHM1\",2,[9]),\n",
    "                                       (\"_ASTHMS1\",3,[9]),(\"_PRACE1\",8,[77,99]),(\"_MRACE1\",7,[77,99]),(\"_HISPANC\",2,[9]),(\"_RACE\",8,[9]),(\"_RACEG21\",2,[9]),\n",
    "                                       (\"_RACEGR3\",5,[9]),(\"_AGEG5YR\",13,[14]),(\"_AGE65YR\",2,[3]),(\"_RFBMI5\",2,[9]),(\"_CHLDCNT\",6,[9]),(\"_RFSMOK3\",2,[9]),\n",
    "                                       (\"DRNKANY5\",2,[7,9]),(\"_RFBING5\",2,[9]),(\"_RFDRHV5\",2,[9]),(\"_FRTLT1\",2,[9]),(\"_VEGLT1\",2,[9]),(\"_TOTINDA\",2,[9]),\n",
    "                                       (\"_PAINDX1\",2,[9]),(\"_PAREC1\",4,[9]),(\"PERSDOC2\",3,[7,9]),(\"SMOKDAY2\",3,[7,9]),(\"BPHIGH4\",4,[7,9]),(\"DIABETE3\",4,[7,9]),\n",
    "                                       (\"PREDIAB1\",3,[7,9]),(\"IMFVPLAC\",11,[77,99]),(\"WHRTST10\",9,[77,99]),(\"_DUALUSE\",2,[9]),(\"_AGE_G\",6,[]),(\"_LMTSCL1\",4,[9]),\n",
    "                                       (\"_RFSEAT3\",2,[9]),(\"_FLSHOT6\",2,[9]),(\"_PNEUMO2\",2,[9])]\n"
   ]
  },
  {
   "cell_type": "markdown",
   "id": "1e8e0966",
   "metadata": {},
   "source": []
  },
  {
   "cell_type": "code",
   "execution_count": 63,
   "id": "26e6f029",
   "metadata": {},
   "outputs": [],
   "source": [
    "#TODO THIS LINE OF CODE MUST BE AT THE END OF THE NOTEBOOK \n",
    "\n",
    "\n",
    "\n",
    "\n",
    "\n",
    "\n",
    "\n",
    "\n",
    "collumns_not_find = {\"DIS\",\"EXACTOT1\",\"QLMENTL2\",\"EXACTOT2\",\"ASINHALRPCPSADE1\",\"PAINACT2\",\"_MICHD\",\"QLSTRES2\",\"QLHLTH2\"}\n",
    "collumns_to_delete = list(set(collumns_to_delete)-collumns_not_find) #remove duplicates\n",
    "\n",
    "\n",
    "indice_to_delete = [feature_names.index(item) for item in collumns_to_delete]\n",
    "\n",
    "\n",
    "\n",
    "\n",
    "indice_to_delete.sort()\n",
    "\n",
    "x_new_del_train = np.delete(x_new_train,indice_to_delete,1)\n",
    "x_new_del_test = np.delete(x_new_test,indice_to_delete,1)\n",
    "\n",
    "\n",
    "\n"
   ]
  },
  {
   "cell_type": "code",
   "execution_count": 64,
   "id": "eb859cbd",
   "metadata": {},
   "outputs": [],
   "source": [
    "x_new_del_train = np.hstack((x_new_del_train,x_append_train))\n",
    "x_new_del_test = np.hstack((x_new_del_test,x_append_test))"
   ]
  },
  {
   "cell_type": "code",
   "execution_count": 65,
   "id": "3edabc86",
   "metadata": {
    "scrolled": true
   },
   "outputs": [
    {
     "data": {
      "text/plain": [
       "((328135, 298), (109379, 298))"
      ]
     },
     "execution_count": 65,
     "metadata": {},
     "output_type": "execute_result"
    }
   ],
   "source": [
    "x_new_del_train.shape,x_new_del_test.shape"
   ]
  },
  {
   "cell_type": "markdown",
   "id": "93727db1",
   "metadata": {},
   "source": [
    "We can remove columns with 0 variance "
   ]
  },
  {
   "cell_type": "code",
   "execution_count": 66,
   "id": "08c74ec8",
   "metadata": {},
   "outputs": [],
   "source": [
    "def remove_zero_variance_columns(x) :\n",
    "    \n",
    "    variances = np.var(x, axis=0)\n",
    "    zero_variance_columns = np.where(variances == 0)[0]\n",
    "    x = np.delete(x, zero_variance_columns, axis=1)\n",
    "    \n",
    "    return x, zero_variance_columns\n",
    "    "
   ]
  },
  {
   "cell_type": "code",
   "execution_count": 67,
   "id": "b648d781",
   "metadata": {},
   "outputs": [
    {
     "data": {
      "text/plain": [
       "(328135, 298)"
      ]
     },
     "execution_count": 67,
     "metadata": {},
     "output_type": "execute_result"
    }
   ],
   "source": [
    "x_new_del_train.shape"
   ]
  },
  {
   "cell_type": "code",
   "execution_count": 68,
   "id": "a45e6892",
   "metadata": {},
   "outputs": [],
   "source": [
    "x_new_del_train, to_delete = remove_zero_variance_columns(x_new_del_train)\n",
    "x_new_del_test = np.delete(x_new_del_test, to_delete, axis=1 )"
   ]
  },
  {
   "cell_type": "code",
   "execution_count": 69,
   "id": "8c63072f",
   "metadata": {},
   "outputs": [
    {
     "data": {
      "text/plain": [
       "(328135, 275)"
      ]
     },
     "execution_count": 69,
     "metadata": {},
     "output_type": "execute_result"
    }
   ],
   "source": [
    "x_new_del_train.shape"
   ]
  },
  {
   "cell_type": "markdown",
   "id": "933be698",
   "metadata": {},
   "source": [
    "Removes correlated columns, leaving only one column for each originally correlated sets of columns."
   ]
  },
  {
   "cell_type": "code",
   "execution_count": 70,
   "id": "8c81d18d",
   "metadata": {},
   "outputs": [],
   "source": [
    "def remove_correlated_columns(x , threshold: float = 0.9) :\n",
    "    \"\"\"\n",
    "    Removes correlated columns, leaving only one column for each originally correlated sets of columns.\n",
    "\n",
    "    Arguments\n",
    "    ---------\n",
    "    x: np.ndarray\n",
    "        The matrix to be cleaned.\n",
    "\n",
    "    threshold: float\n",
    "        The maximum percentage of correlation allowed (default = 0.9).\n",
    "\n",
    "    Returns\n",
    "    -------\n",
    "    clean_x: np.ndarray\n",
    "        The cleaned matrix.\n",
    "\n",
    "    to_keep: nd.array\n",
    "        Boolean array of the kept columns.\n",
    "    \"\"\"\n",
    "\n",
    "    assert 0 <= threshold <= 1\n",
    "    _, to_remove = np.where(np.triu(np.corrcoef(x.T), 1) > threshold)\n",
    "    to_remove = list(set(to_remove))\n",
    "    return np.delete(x, to_remove, axis=1), to_remove\n"
   ]
  },
  {
   "cell_type": "code",
   "execution_count": 71,
   "id": "378f235c",
   "metadata": {
    "scrolled": true
   },
   "outputs": [],
   "source": [
    "x_new_del_train, to_remove = remove_correlated_columns(x_new_del_train)"
   ]
  },
  {
   "cell_type": "code",
   "execution_count": 72,
   "id": "3c15a3ab",
   "metadata": {},
   "outputs": [
    {
     "data": {
      "text/plain": [
       "((328135, 255), (109379, 275))"
      ]
     },
     "execution_count": 72,
     "metadata": {},
     "output_type": "execute_result"
    }
   ],
   "source": [
    "x_new_del_train.shape , x_new_del_test.shape"
   ]
  },
  {
   "cell_type": "code",
   "execution_count": 73,
   "id": "5b334ad0",
   "metadata": {},
   "outputs": [],
   "source": [
    "x_new_del_test = np.delete(x_new_del_test, to_remove, axis=1)"
   ]
  },
  {
   "cell_type": "code",
   "execution_count": 74,
   "id": "19ba3e44",
   "metadata": {},
   "outputs": [
    {
     "data": {
      "text/plain": [
       "((328135, 255), (109379, 255))"
      ]
     },
     "execution_count": 74,
     "metadata": {},
     "output_type": "execute_result"
    }
   ],
   "source": [
    "x_new_del_train.shape,x_new_del_test.shape"
   ]
  },
  {
   "cell_type": "code",
   "execution_count": 75,
   "id": "a59328bf",
   "metadata": {},
   "outputs": [
    {
     "name": "stdout",
     "output_type": "stream",
     "text": [
      "0\n",
      "0\n"
     ]
    }
   ],
   "source": [
    "print(np.count_nonzero(np.isnan(x_new_del_train)))\n",
    "print(np.count_nonzero(np.isnan(x_new_del_test)))"
   ]
  },
  {
   "cell_type": "code",
   "execution_count": 76,
   "id": "e56aa3a2",
   "metadata": {},
   "outputs": [],
   "source": [
    "def calculate_parameters(y_test, y_pred):\n",
    "    \"\"\"Calculates the parameters for the metrics\n",
    "    \n",
    "    Args:\n",
    "        y_test: test labels\n",
    "        y_pred: predicted labels\n",
    "        \n",
    "    Returns:\n",
    "        tp: true positive\n",
    "        tn: true negative\n",
    "        fp: false positive\n",
    "        fn: false negative\n",
    "    \"\"\"\n",
    "    #print(y_test.shape, y_pred.shape)\n",
    "    tp = sum((yt == 1) & (yp == 1) for yt, yp in zip(y_test, y_pred))\n",
    "    tn = sum((yt == -1) & (yp == -1) for yt, yp in zip(y_test, y_pred))\n",
    "    fp = sum((yt == -1) & (yp == 1) for yt, yp in zip(y_test, y_pred))\n",
    "    fn = sum((yt == 1) & (yp == -1) for yt, yp in zip(y_test, y_pred))\n",
    "    return tp, tn, fp, fn\n",
    "\n",
    "\n",
    "def precision(tp, fp):\n",
    "    \"\"\"Calculates the precision score, which is the proportion of positive identifications that are actually correct\n",
    "    \n",
    "    Args: \n",
    "        tp: true positive\n",
    "        fp: false positive\n",
    "        \n",
    "    Returns:\n",
    "        precision score\n",
    "    \n",
    "    \"\"\"\n",
    "    if(tp + fp == 0):\n",
    "        return 0.0\n",
    "    return tp / (tp + fp)\n",
    "\n",
    "def recall(tp, fn):\n",
    "    \"\"\"Calculates the recall score, which is the proportion of positives correctly identified. \n",
    "    It is different from precision in that it does not take into account the false positives.\n",
    "    \n",
    "    Args:\n",
    "        tp: true positive\n",
    "        fn: false negative\n",
    "        \n",
    "    Returns:\n",
    "        recall score\n",
    "    \"\"\"\n",
    "    if(tp + fn == 0):\n",
    "        return 0.0\n",
    "    return tp / (tp + fn)\n",
    "\n",
    "def f1_score(tp, fp, fn):\n",
    "    \"\"\"Calculates the f1 score, which is the harmonic mean of precision and recall\n",
    "    \n",
    "    Args:\n",
    "        tp: true positive\n",
    "        fp: false positive\n",
    "        fn: false negative\n",
    "        \n",
    "    Returns:\n",
    "        f1 score\n",
    "    \"\"\"\n",
    "    denom = precision(tp, fp) + recall(tp, fn)\n",
    "    if(denom == 0):\n",
    "        return 0.0\n",
    "    return 2 * precision(tp, fp) * recall(tp, fn) / denom\n",
    "\n",
    "def accuracy(tp, tn, fp, fn):\n",
    "    \"\"\"Calculates the accuracy score, which is the proportion of correct predictions\n",
    "    \n",
    "    Args:\n",
    "        tp: true positive\n",
    "        tn: true negative\n",
    "        fp: false positive\n",
    "        fn: false negative\n",
    "        \n",
    "    Returns:\n",
    "        accuracy score\n",
    "    \"\"\"\n",
    "    denom = (tp + tn + fp + fn)\n",
    "    if(denom == 0):\n",
    "        return 0.0\n",
    "    return (tp + tn) / denom"
   ]
  },
  {
   "cell_type": "code",
   "execution_count": 77,
   "id": "a918e6fe",
   "metadata": {},
   "outputs": [],
   "source": [
    "\n",
    "import implementations\n",
    "import random\n",
    "\n",
    "def cross_validation_log(x, y, k_folds, hyperparameters):\n",
    "\n",
    "    # Lists to store performance metrics for each fold and lambda\n",
    "    f1_scores = []\n",
    "    accuracy_scores = []\n",
    "\n",
    "    # Split the data into k_fold parts\n",
    "    fold_size = len(x) // k_folds\n",
    "    \n",
    "    # Dictionary to store results for each set of hyperparameters\n",
    "    results = {}\n",
    "    \n",
    "    for lambda_ in hyperparameters:\n",
    "\n",
    "        for k in range(k_folds):\n",
    "            # Split the data into training and validation sets\n",
    "            start = k * fold_size\n",
    "            end = (k + 1) * fold_size\n",
    "            x_valid = x[start:end]\n",
    "            y_valid = y[start:end]\n",
    "            x_train_fold = np.concatenate((x[:start], x[end:]))\n",
    "            y_train_fold = np.concatenate((y[:start], y[end:]))\n",
    "            \n",
    "            # Train the model using logistic or regularized logistic regression\n",
    "            w, loss = implementations.ridge_regression(\n",
    "                y_train_fold, \n",
    "                x_train_fold, \n",
    "                lambda_, \n",
    "            )\n",
    "               \n",
    "            y_pred = x_valid.dot(w)\n",
    "            y_pred=(y_pred>0)*2-1\n",
    "\n",
    "            #print(\"y_pred is:\" ,    y_pred)\n",
    "            # # Make predictions on the validation set\n",
    "            # y_pred = np.sign(x_valid.dot(w)) # this function returns -1 or 1\n",
    "            \n",
    "            # Calculate performance metrics\n",
    "            tp, tn, fp, fn = calculate_parameters(y_valid, y_pred)\n",
    "            f1_scores.append(f1_score(tp, fp, fn))\n",
    "            accuracy_scores.append(accuracy(tp, tn, fp, fn))\n",
    "            \n",
    "        # Calculate the mean performance metrics for each set of hyperparameters\n",
    "        mean_f1 = np.mean(f1_scores)\n",
    "        mean_accuracy = np.mean(accuracy_scores)\n",
    "        \n",
    "        # Store the results in the dictionary\n",
    "        results[str(lambda_)] = {'F1 score': mean_f1, 'Accuracy': mean_accuracy, 'param w ':w}\n",
    "        \n",
    "    return results\n",
    "\n",
    "\n",
    "def generate_random_hyperparameters(num_samples):\n",
    "    \"\"\"Generates a list of random hyperparameters\n",
    "    \n",
    "    Args:\n",
    "        num_samples: number of sets of hyperparameters to generate\n",
    "        num_features: number of features in the dataset\n",
    "        \n",
    "    Returns:\n",
    "        hyperparameters_list: list of hyperparameters\n",
    "    \"\"\"\n",
    "\n",
    "\n",
    "\n",
    "    return np.linspace(1e-16, 0.001, num_samples)"
   ]
  },
  {
   "cell_type": "code",
   "execution_count": null,
   "id": "e524032d",
   "metadata": {},
   "outputs": [],
   "source": []
  },
  {
   "cell_type": "code",
   "execution_count": 78,
   "id": "fe1cbfda",
   "metadata": {},
   "outputs": [
    {
     "name": "stdout",
     "output_type": "stream",
     "text": [
      "{'1e-16': {'F1 score': 0.0911480624309216, 'Accuracy': 0.9138494826824326, 'param w ': array([-1.74389774e-04, -4.27210396e-03,  3.11942969e-05,  3.70205457e-03,\n",
      "        5.23796478e-03, -7.05804011e-05,  2.36410695e-02, -7.57600060e-04,\n",
      "        4.02246227e-02,  6.56989861e-02,  1.24127298e-04,  8.02843837e-03,\n",
      "       -1.82276851e-03,  4.06189576e-02,  6.76776047e-02,  2.00041432e-03,\n",
      "        2.78136645e-02,  3.44500128e-03,  1.96367549e-02,  7.49195147e-04,\n",
      "       -7.29721397e-03, -4.96152595e-03, -4.50317095e-03,  4.28405875e-03,\n",
      "        1.25945046e-02,  9.90369704e-03, -2.00865831e-03,  1.42970781e-02,\n",
      "       -3.06132707e-03, -7.59049786e-05,  7.50035383e-02, -2.65490099e-03,\n",
      "       -7.15571136e-03, -1.02307296e-03, -2.83292200e-05, -1.19229589e-03,\n",
      "       -2.68652898e-03, -9.36565546e-03,  1.45441890e-03,  1.40918699e-03,\n",
      "       -7.05639236e-04,  3.19176888e-03,  2.31645064e-03, -1.13423196e-03,\n",
      "       -4.84795480e-03, -5.56022471e-04, -1.06845158e-03,  2.20183560e-03,\n",
      "        5.45668686e-03, -1.86018908e-03,  1.89646629e-02, -1.16399253e-03,\n",
      "        3.24287327e-06,  1.41318531e-03, -8.75730741e-03, -2.44162047e-01,\n",
      "       -7.87192482e-02,  2.62612128e-01,  1.56083009e-05,  1.05310911e-02,\n",
      "       -3.03857387e-03, -4.04409863e-03,  3.43961565e-03, -3.41790927e-03,\n",
      "       -8.78618943e-03, -9.51059797e-03,  2.20867487e-02,  5.32281294e-03,\n",
      "        5.28332536e-03, -1.61074629e-02, -9.18937737e-03, -2.62805577e-03,\n",
      "        1.61004382e-03, -2.45704384e-03,  1.63504484e-02, -7.69123189e-03,\n",
      "       -2.26230800e-02,  2.16757897e-02, -3.02025687e-02, -2.34345762e-02,\n",
      "       -1.66888385e-02, -1.13088720e-02, -3.19596197e-02, -9.81277089e-03,\n",
      "        5.10483967e-03, -6.56137868e-02, -2.72034404e-02,  9.03843983e-04,\n",
      "        1.19156820e-02, -5.77426858e-03, -1.05100083e-02,  3.36537876e-02,\n",
      "        2.20200422e-02, -4.19914228e-03, -7.02029064e-03, -1.64765374e-02,\n",
      "        4.62584347e-03, -1.09256209e-02, -9.51850178e-03, -1.75164782e-02,\n",
      "       -2.56662972e-02, -1.59707036e-03, -2.41188942e-02, -1.72702222e-02,\n",
      "       -1.42024435e-02, -2.37194344e-02, -1.74860319e-02, -3.10532422e-03,\n",
      "       -8.21775341e-04,  1.17311766e-02,  3.86619246e-03, -3.08917156e-02,\n",
      "        1.33622823e-03, -1.88011579e-02,  9.34171013e-03,  4.24844214e-02,\n",
      "        7.43375598e-04, -1.36539151e-02, -2.76034192e-02, -6.39008073e-03,\n",
      "       -1.21356557e-02, -2.46447853e-02,  3.33905562e-02, -6.96241844e-03,\n",
      "       -1.37689890e-03, -3.37266494e-02,  1.10467893e-02, -2.20359765e-01,\n",
      "       -2.24632344e-01, -2.19783850e-01, -2.25795865e-01, -2.25877959e-01,\n",
      "       -2.25025971e-01, -2.25333497e-01, -2.25430390e-01, -2.25739095e-01,\n",
      "       -2.29317097e-01, -2.25974268e-01, -2.15888007e-01,  4.16851614e-02,\n",
      "        3.91962429e-02,  4.66755421e-02,  4.31249662e-02,  4.54760760e-02,\n",
      "        4.24860378e-02,  3.98576772e-02,  4.40281703e-02,  3.80015385e-02,\n",
      "        3.40883574e-02,  4.16245136e-02,  4.09342715e-02,  4.12446390e-02,\n",
      "        4.23938426e-02,  4.77568136e-02,  4.04905813e-02,  4.54202965e-02,\n",
      "        3.65807032e-02,  4.40671942e-02,  4.64693040e-02,  3.87392034e-02,\n",
      "        4.32899257e-02,  4.81783316e-02,  4.25160195e-02,  4.82639874e-02,\n",
      "        3.60428150e-02,  4.45607649e-02,  3.87479122e-02,  3.46427786e-02,\n",
      "        4.57873478e-02,  3.18178666e-02,  6.68164354e-01,  5.69760534e-01,\n",
      "        1.50149648e-01,  1.38198288e-01,  8.88710419e-01,  8.88202145e-01,\n",
      "        8.45211757e-01,  8.68214531e-01,  8.81273708e-01,  9.16834504e-01,\n",
      "       -1.47415041e+00, -1.49303497e+00, -1.46744844e+00, -1.46489925e+00,\n",
      "       -1.46267643e+00, -1.00754484e+00, -1.00802344e+00, -9.87909084e-01,\n",
      "        7.10420025e-01,  6.94138611e-01,  7.02466659e-01, -2.58288710e-02,\n",
      "       -9.18620059e-04, -1.78119292e-02,  2.64435147e-02, -1.07576331e-02,\n",
      "       -2.18421384e-02, -1.48386769e-02,  1.26742000e+00,  7.97531472e-01,\n",
      "        7.71255535e-01,  7.66896738e-01,  1.01080579e+00,  1.26945997e+00,\n",
      "        1.52036871e+00,  3.10671188e-01,  3.07081778e-01,  3.25925238e-01,\n",
      "        3.37611525e-01,  5.72190975e-01,  5.57451474e-01,  5.61921007e-01,\n",
      "        5.58094023e-01,  5.45849770e-01,  5.77362517e-01,  5.92487430e-01,\n",
      "        5.87294815e-01,  5.55747592e-01,  5.39196694e-01,  3.76213318e-01,\n",
      "        3.83303107e-01,  4.38278483e-01,  4.37176391e-01,  4.97376078e-01,\n",
      "        5.47635125e-01,  6.03008963e-01,  6.04690049e-01, -1.58438160e+00,\n",
      "       -1.68922845e+00, -1.68893587e+00, -1.65179426e+00, -1.55524209e+00,\n",
      "       -1.41117590e+00, -1.11927450e+00, -1.12527180e+00, -1.05471707e+00,\n",
      "       -1.12190823e+00, -9.19845061e-01, -2.34180097e-01, -4.99392949e-01,\n",
      "       -7.57909875e-01, -1.17231552e+00, -1.13877339e+00, -1.18369169e+00,\n",
      "       -1.22677680e+00, -1.24579592e+00,  7.84780860e-01,  8.74103881e-01,\n",
      "        8.16757381e-01,  8.01100801e-01,  8.24468085e-01,  7.39777513e-01,\n",
      "        7.48185087e-01,  7.52458748e-01,  7.23182593e-01])}, '0.00025000000000007503': {'F1 score': 0.09114040471118205, 'Accuracy': 0.9138433876300912, 'param w ': array([ 4.03533303e-05, -4.29125888e-03,  5.13793522e-05,  3.75912486e-03,\n",
      "        5.20502803e-03, -9.52429647e-05,  2.36594890e-02, -6.14437422e-04,\n",
      "        4.03073438e-02,  6.57076030e-02,  7.92312569e-05,  8.09628474e-03,\n",
      "       -1.73816799e-03,  4.06842639e-02, -2.85947089e-02,  1.97453274e-03,\n",
      "        2.78289228e-02,  3.41084575e-03,  1.96947788e-02,  6.30599568e-04,\n",
      "       -7.45435788e-03, -4.98392856e-03, -4.44642524e-03,  4.28934167e-03,\n",
      "        1.26292142e-02,  9.92793832e-03, -2.01747885e-03,  1.43650259e-02,\n",
      "       -3.03025667e-03, -5.35017007e-05,  5.52801658e-02, -2.65685825e-03,\n",
      "       -7.05683994e-03, -1.03784422e-03, -3.05667077e-05, -1.24576935e-03,\n",
      "       -2.42533521e-03, -8.96956141e-03,  1.45212586e-03,  1.35240011e-03,\n",
      "       -7.14369298e-04,  3.19543074e-03,  1.99066275e-03, -1.14099843e-03,\n",
      "       -4.89500769e-03, -5.68519436e-04, -1.07614267e-03,  2.16745217e-03,\n",
      "        5.44754907e-03, -1.82057524e-03,  1.90289638e-02, -1.32131452e-03,\n",
      "        3.00003898e-06,  1.33752766e-03, -8.61389434e-03,  1.24861124e-02,\n",
      "        4.08330072e-03,  5.32960442e-02,  1.58234129e-05,  1.00087803e-02,\n",
      "       -3.01971564e-03, -4.09581800e-03,  2.99920448e-03, -3.56995315e-03,\n",
      "       -7.47020200e-03, -8.27187928e-03,  1.94331726e-02, -3.23739470e-03,\n",
      "       -1.57178243e-03, -3.29747150e-03, -9.30937849e-03, -2.71953947e-03,\n",
      "        1.51191158e-03, -2.42431978e-03,  1.69593257e-02, -6.24772055e-03,\n",
      "       -1.73412847e-02,  2.52597296e-02, -2.45905964e-02, -1.85230674e-02,\n",
      "       -1.17759766e-02, -6.44554955e-03, -2.90120458e-02, -4.66528562e-03,\n",
      "        6.60488460e-03, -5.87479029e-02, -2.17842788e-02,  5.73745821e-03,\n",
      "        1.61242100e-02, -1.00970552e-03, -5.90985344e-03,  3.38985417e-02,\n",
      "        2.23034177e-02,  4.86506973e-04, -2.33570250e-03, -1.14805234e-02,\n",
      "        9.05937241e-03, -6.19631447e-03, -4.96671550e-03, -1.24956216e-02,\n",
      "       -2.02947613e-02,  3.00684032e-03, -1.80436765e-02, -1.21734601e-02,\n",
      "       -9.24109103e-03, -2.17546707e-02, -1.23040355e-02, -1.60717943e-03,\n",
      "        3.70706400e-03,  1.30016332e-02,  8.24004416e-03, -2.51722267e-02,\n",
      "        6.06000921e-03, -1.36488644e-02,  1.01872294e-02,  4.23678636e-02,\n",
      "        2.12829123e-03, -8.66670920e-03, -2.26663288e-02, -1.71710313e-03,\n",
      "       -1.05341583e-02, -1.97083995e-02,  3.32390508e-02, -2.06052141e-03,\n",
      "        3.25449789e-03, -2.86016030e-02,  1.48484611e-02, -1.25624498e-02,\n",
      "       -1.68181235e-02, -1.20313260e-02, -1.79542868e-02, -1.80231441e-02,\n",
      "       -1.71925805e-02, -1.74953849e-02, -1.75637608e-02, -1.78591007e-02,\n",
      "       -2.14269538e-02, -1.81462537e-02, -8.17513737e-03, -6.27901949e-03,\n",
      "       -8.81566786e-03, -1.45967212e-03, -4.91558095e-03, -2.66074182e-03,\n",
      "       -5.61753153e-03, -8.22713461e-03, -4.08431726e-03, -1.00380053e-02,\n",
      "       -1.38894746e-02, -6.44626577e-03, -7.14348251e-03, -6.81719862e-03,\n",
      "       -5.72085898e-03, -3.94423632e-04, -7.61452164e-03, -2.72016786e-03,\n",
      "       -1.14100517e-02, -4.04092726e-03, -1.69413674e-03, -9.33642314e-03,\n",
      "       -4.78529658e-03, -1.42232360e-05, -5.56034693e-03,  2.00542671e-05,\n",
      "       -1.18257628e-02, -3.52864706e-03, -9.26631467e-03, -1.31827794e-02,\n",
      "       -2.24375127e-03, -1.55358308e-02, -4.84529001e-02, -1.46795602e-01,\n",
      "       -5.02449243e-02, -6.63298887e-02, -2.49633908e-02, -2.56940981e-02,\n",
      "       -6.81030131e-02, -4.56217591e-02, -3.29776121e-02,  2.11137137e-03,\n",
      "       -4.11025596e-02, -5.79772975e-02, -3.43505809e-02, -3.18987382e-02,\n",
      "       -2.99193257e-02, -7.11194463e-02, -7.22983457e-02, -5.18307099e-02,\n",
      "       -5.77094478e-02, -7.32645690e-02, -6.42744851e-02, -4.26373823e-02,\n",
      "       -1.99389921e-02, -3.65450938e-02,  7.69610758e-03, -2.90868679e-02,\n",
      "       -4.11758091e-02, -3.35604644e-02, -4.01771281e-02,  9.55920716e-03,\n",
      "       -1.29396487e-02, -1.76163903e-02, -3.73355542e-02, -4.20957326e-02,\n",
      "       -5.46432552e-02, -5.60508264e-02, -6.25629419e-02, -4.42201589e-02,\n",
      "       -3.24145748e-02, -1.71134260e-02, -3.22163695e-02, -2.73730821e-02,\n",
      "       -3.07894979e-02, -4.27872956e-02, -1.21062046e-02,  2.07947676e-03,\n",
      "       -1.72276220e-03, -3.32193407e-02, -3.71869822e-02, -1.18619581e-02,\n",
      "       -4.73755669e-03, -1.25214701e-02, -1.35987532e-02, -1.61791166e-02,\n",
      "       -2.86372299e-02, -3.60618605e-02, -3.44635746e-02, -1.74936097e-02,\n",
      "       -1.24455597e-01, -1.24406396e-01, -8.75584999e-02,  8.33573662e-03,\n",
      "        1.50329864e-01, -5.76657405e-02, -7.05243919e-02, -8.32530810e-05,\n",
      "       -6.69751165e-02, -6.50113194e-02, -1.32617396e-03, -4.53855910e-02,\n",
      "       -8.35254176e-02, -1.72209605e-02,  1.41698494e-02, -2.96141528e-02,\n",
      "       -7.40369624e-02, -8.85462757e-02, -5.92665813e-02,  1.11251734e-02,\n",
      "       -4.52629582e-02, -6.30858195e-02, -3.87583163e-02, -5.45221494e-02,\n",
      "       -4.17084628e-02, -3.17577949e-02, -6.72600948e-02])}, '0.00050000000000005': {'F1 score': 0.09110013178275676, 'Accuracy': 0.9138433876300913, 'param w ': array([ 2.52184022e-04, -4.30784351e-03,  7.35000144e-05,  3.81455418e-03,\n",
      "        5.17473427e-03, -1.20532539e-04,  2.36726230e-02, -4.79502213e-04,\n",
      "        4.03833266e-02,  6.57152718e-02,  3.84372238e-05,  8.16040397e-03,\n",
      "       -1.65374123e-03,  4.07429951e-02, -2.85720879e-02,  1.94757403e-03,\n",
      "        2.78457645e-02,  3.37480404e-03,  1.97497212e-02,  5.26230862e-04,\n",
      "       -7.60267960e-03, -4.99960144e-03, -4.39539333e-03,  4.29615895e-03,\n",
      "        1.26645777e-02,  9.95077172e-03, -2.02388705e-03,  1.44298866e-02,\n",
      "       -3.00267952e-03, -3.14303358e-05,  4.34679093e-02, -2.66100718e-03,\n",
      "       -6.96108235e-03, -1.05143437e-03, -3.26329701e-05, -1.29595001e-03,\n",
      "       -2.19072324e-03, -8.61393991e-03,  1.44388284e-03,  1.29455291e-03,\n",
      "       -7.23787953e-04,  3.19157179e-03,  1.70345599e-03, -1.14449755e-03,\n",
      "       -4.93644547e-03, -5.77121932e-04, -1.08094100e-03,  2.13377389e-03,\n",
      "        5.44010999e-03, -1.78388992e-03,  1.90904609e-02, -1.47327833e-03,\n",
      "        2.77119510e-06,  1.26664546e-03, -8.48283056e-03,  1.25340256e-02,\n",
      "        3.89520583e-03,  4.68909103e-02,  1.59253319e-05,  9.54240540e-03,\n",
      "       -2.98985819e-03, -4.14981571e-03,  2.58838515e-03, -3.69957098e-03,\n",
      "       -6.47458590e-03, -7.34476261e-03,  1.74367320e-02, -2.90526189e-03,\n",
      "       -1.30819461e-03, -2.89908405e-03, -9.40364181e-03, -2.79886575e-03,\n",
      "        1.42387664e-03, -2.39472379e-03,  1.45621105e-02, -7.73252205e-03,\n",
      "       -1.62119139e-02,  2.48183238e-02, -2.31488822e-02, -1.77019201e-02,\n",
      "       -1.09644653e-02, -5.72016645e-03, -2.92048187e-02, -3.66890695e-03,\n",
      "        5.01538489e-03, -5.61576175e-02, -2.05201662e-02,  6.42301743e-03,\n",
      "        1.62449305e-02, -3.72460898e-04, -5.37942830e-03,  3.11602580e-02,\n",
      "        1.96685710e-02,  1.04782194e-03, -1.73881149e-03, -1.05997054e-02,\n",
      "        9.41487854e-03, -5.55413736e-03, -4.47206966e-03, -1.15899390e-02,\n",
      "       -1.90729512e-02,  3.52440946e-03, -1.62911801e-02, -1.12098543e-02,\n",
      "       -8.40171719e-03, -2.28782816e-02, -1.12613100e-02, -3.19297809e-03,\n",
      "        4.12635411e-03,  1.11521962e-02,  8.53685342e-03, -2.36267243e-02,\n",
      "        6.63918976e-03, -1.26334147e-02,  7.98629605e-03,  3.92982775e-02,\n",
      "        4.40474217e-04, -7.77984836e-03, -2.18317025e-02, -1.14837584e-03,\n",
      "       -1.20175439e-02, -1.88607911e-02,  3.01768071e-02, -1.29390762e-03,\n",
      "        3.75316722e-03, -2.70341683e-02,  1.46286244e-02, -1.22114086e-02,\n",
      "       -1.64434296e-02, -1.17176832e-02, -1.75511479e-02, -1.76181029e-02,\n",
      "       -1.68028691e-02, -1.70946307e-02, -1.71397722e-02, -1.74252106e-02,\n",
      "       -2.09865314e-02, -1.77599938e-02, -7.90395438e-03, -6.06027367e-03,\n",
      "       -8.63535632e-03, -1.39775674e-03, -4.77480090e-03, -2.59442095e-03,\n",
      "       -5.51848891e-03, -8.10555718e-03, -3.99319873e-03, -9.87902641e-03,\n",
      "       -1.36661019e-02, -6.32419727e-03, -7.01850497e-03, -6.68875066e-03,\n",
      "       -5.62741785e-03, -3.46364339e-04, -7.50914966e-03, -2.65908785e-03,\n",
      "       -1.12074828e-02, -3.95303547e-03, -1.65388275e-03, -9.20550198e-03,\n",
      "       -4.67454495e-03, -3.13412696e-06, -5.44291444e-03, -1.02273352e-05,\n",
      "       -1.15120609e-02, -3.42060813e-03, -9.07798470e-03, -1.28290676e-02,\n",
      "       -2.09886983e-03, -1.47669652e-02, -4.61853153e-02, -1.44469419e-01,\n",
      "       -4.68796201e-02, -6.66458365e-02, -2.39242631e-02, -2.48969356e-02,\n",
      "       -6.67802239e-02, -4.47325348e-02, -3.24675619e-02,  2.14678477e-03,\n",
      "       -4.04802064e-02, -5.55263409e-02, -3.37131089e-02, -3.13457856e-02,\n",
      "       -2.95892927e-02, -6.93060608e-02, -7.10850357e-02, -5.02636381e-02,\n",
      "       -5.68395174e-02, -7.17152483e-02, -6.20999688e-02, -4.04386631e-02,\n",
      "       -1.97368512e-02, -3.60693458e-02,  8.14901567e-03, -2.82358105e-02,\n",
      "       -4.12591739e-02, -3.30639056e-02, -3.66578696e-02,  7.96016741e-03,\n",
      "       -1.19742476e-02, -1.69419655e-02, -3.69139262e-02, -4.17389566e-02,\n",
      "       -5.43879363e-02, -5.27486928e-02, -6.18637282e-02, -4.39867277e-02,\n",
      "       -3.20555858e-02, -1.65708805e-02, -3.20650059e-02, -2.68636127e-02,\n",
      "       -2.98980441e-02, -4.16672436e-02, -1.17687639e-02,  1.54940267e-03,\n",
      "       -9.58515907e-04, -3.24120707e-02, -3.65483697e-02, -1.17144960e-02,\n",
      "       -4.56863358e-03, -1.21755057e-02, -1.32280958e-02, -1.56541906e-02,\n",
      "       -2.79038783e-02, -3.51913282e-02, -3.36702365e-02, -1.49054571e-02,\n",
      "       -1.23026936e-01, -1.23217566e-01, -8.66524588e-02,  8.59184066e-03,\n",
      "        1.48555843e-01, -5.23791254e-02, -7.07774776e-02, -4.41778794e-04,\n",
      "       -6.70563527e-02, -7.18092813e-02, -4.47753760e-03, -4.13929463e-02,\n",
      "       -7.29749693e-02, -1.57895307e-02,  1.37401789e-02, -2.89367498e-02,\n",
      "       -7.46502295e-02, -8.50184035e-02, -4.88490314e-02,  9.53695275e-03,\n",
      "       -4.54980271e-02, -6.56105134e-02, -4.02341154e-02, -5.66347336e-02,\n",
      "       -4.04987447e-02, -2.69542874e-02, -6.65669688e-02])}, '0.000750000000000025': {'F1 score': 0.09109516251675967, 'Accuracy': 0.913844149511634, 'param w ': array([ 4.60106596e-04, -4.32260817e-03,  9.66991877e-05,  3.86823828e-03,\n",
      "        5.14636503e-03, -1.45568963e-04,  2.36824308e-02, -3.50403324e-04,\n",
      "        4.04545814e-02,  6.57219224e-02,  4.15378934e-07,  8.22183355e-03,\n",
      "       -1.57052115e-03,  4.07972716e-02, -2.85875047e-02,  1.92035505e-03,\n",
      "        2.78631924e-02,  3.33743977e-03,  1.98026895e-02,  4.31884732e-04,\n",
      "       -7.74461985e-03, -5.01154813e-03, -4.34825661e-03,  4.30440999e-03,\n",
      "        1.26999995e-02,  9.97239011e-03, -2.02880294e-03,  1.44920515e-02,\n",
      "       -2.97699553e-03, -9.75000825e-06,  3.56470566e-02, -2.66645609e-03,\n",
      "       -6.86747866e-03, -1.06425401e-03, -3.45844251e-05, -1.34389081e-03,\n",
      "       -1.97730217e-03, -8.29061168e-03,  1.43231560e-03,  1.23748398e-03,\n",
      "       -7.33265504e-04,  3.18361582e-03,  1.44440171e-03, -1.14529722e-03,\n",
      "       -4.97310919e-03, -5.83162456e-04, -1.08364100e-03,  2.10101040e-03,\n",
      "        5.43362787e-03, -1.74955315e-03,  1.91499607e-02, -1.62021791e-03,\n",
      "        2.55247185e-06,  1.19935737e-03, -8.36242179e-03,  1.25302489e-02,\n",
      "        3.74455413e-03,  4.25432125e-02,  1.59691735e-05,  9.11973328e-03,\n",
      "       -2.95458555e-03, -4.20540633e-03,  2.20192557e-03, -3.81249972e-03,\n",
      "       -5.69364251e-03, -6.62588020e-03,  1.58790867e-02, -2.64779902e-03,\n",
      "       -1.10427902e-03, -2.59050413e-03, -9.48011161e-03, -2.86963556e-03,\n",
      "        1.34239955e-03, -2.36708436e-03,  1.26714983e-02, -8.69741951e-03,\n",
      "       -1.53032842e-02,  2.42695178e-02, -2.19460949e-02, -1.70606119e-02,\n",
      "       -1.03398906e-02, -5.19757972e-03, -2.90375468e-02, -2.88995892e-03,\n",
      "        3.86317788e-03, -5.39019746e-02, -1.94834691e-02,  6.89548933e-03,\n",
      "        1.62058407e-02,  6.89246538e-05, -5.01110998e-03,  2.89456665e-02,\n",
      "        1.75979705e-02,  1.41825767e-03, -1.31566884e-03, -9.91492366e-03,\n",
      "        9.60634729e-03, -5.08739714e-03, -4.12968679e-03, -1.08802460e-02,\n",
      "       -1.80769311e-02,  3.86920220e-03, -1.48851803e-02, -1.04543290e-02,\n",
      "       -7.76041904e-03, -2.35718442e-02, -1.04288262e-02, -4.33509874e-03,\n",
      "        4.36627890e-03,  9.73143297e-03,  8.67195423e-03, -2.23309217e-02,\n",
      "        7.01467490e-03, -1.18306887e-02,  6.26322899e-03,  3.67784152e-02,\n",
      "       -7.93362695e-04, -7.07927652e-03, -2.11816817e-02, -7.62299782e-04,\n",
      "       -1.30585068e-02, -1.81922677e-02,  2.76938484e-02, -7.32462853e-04,\n",
      "        4.05756465e-03, -2.54820603e-02,  1.42932781e-02, -1.19285478e-02,\n",
      "       -1.61342159e-02, -1.14676949e-02, -1.72141434e-02, -1.72839899e-02,\n",
      "       -1.64810316e-02, -1.67590587e-02, -1.67846081e-02, -1.70612169e-02,\n",
      "       -2.06180397e-02, -1.74410818e-02, -7.69682225e-03, -5.87587470e-03,\n",
      "       -8.48170649e-03, -1.35865883e-03, -4.66615814e-03, -2.54744251e-03,\n",
      "       -5.43946548e-03, -8.00246998e-03, -3.92219834e-03, -9.74311172e-03,\n",
      "       -1.34658390e-02, -6.22794842e-03, -6.91453076e-03, -6.58771208e-03,\n",
      "       -5.55211730e-03, -3.20259403e-04, -7.41971482e-03, -2.61820614e-03,\n",
      "       -1.10316149e-02, -3.88901533e-03, -1.63372676e-03, -9.09355291e-03,\n",
      "       -4.59263696e-03, -1.03159251e-05, -5.35057063e-03, -5.30599344e-05,\n",
      "       -1.12354308e-02, -3.33743085e-03, -8.91154212e-03, -1.25135150e-02,\n",
      "       -1.98995383e-03, -1.40846709e-02, -4.43223793e-02, -1.42548072e-01,\n",
      "       -4.39726125e-02, -6.70247668e-02, -2.30270116e-02, -2.42541259e-02,\n",
      "       -6.56488488e-02, -4.39775988e-02, -3.20535750e-02,  2.09070918e-03,\n",
      "       -3.99818906e-02, -5.33532738e-02, -3.32239269e-02, -3.09311277e-02,\n",
      "       -2.93802319e-02, -6.78091973e-02, -7.01173520e-02, -4.89439016e-02,\n",
      "       -5.62031503e-02, -7.04378642e-02, -6.02294364e-02, -3.84969326e-02,\n",
      "       -1.96198899e-02, -3.56885390e-02,  8.50017167e-03, -2.75038192e-02,\n",
      "       -4.14067333e-02, -3.26547084e-02, -3.37768811e-02,  6.82842050e-03,\n",
      "       -1.12270719e-02, -1.64632909e-02, -3.66205984e-02, -4.14582882e-02,\n",
      "       -5.41527409e-02, -4.98663951e-02, -6.13145372e-02, -4.38753928e-02,\n",
      "       -3.18141257e-02, -1.60838075e-02, -3.19926647e-02, -2.64455814e-02,\n",
      "       -2.91209594e-02, -4.06754212e-02, -1.15197999e-02,  9.89341509e-04,\n",
      "       -3.03060539e-04, -3.17184978e-02, -3.60212375e-02, -1.15940223e-02,\n",
      "       -4.43365964e-03, -1.18915936e-02, -1.29199993e-02, -1.52198495e-02,\n",
      "       -2.72945525e-02, -3.44717542e-02, -3.30237822e-02, -1.29530170e-02,\n",
      "       -1.21655692e-01, -1.22080926e-01, -8.57894923e-02,  8.81479694e-03,\n",
      "        1.46793879e-01, -4.80142365e-02, -7.09931860e-02, -7.54392923e-04,\n",
      "       -6.71086355e-02, -7.59843060e-02, -6.56408776e-03, -3.85789873e-02,\n",
      "       -6.57430698e-02, -1.46380655e-02,  1.32550402e-02, -2.83413480e-02,\n",
      "       -7.53046545e-02, -8.18414231e-02, -4.16435578e-02,  8.41799894e-03,\n",
      "       -4.51171557e-02, -6.74936732e-02, -4.10340631e-02, -5.81393155e-02,\n",
      "       -3.93687892e-02, -2.34424364e-02, -6.59199098e-02])}, '0.001': {'F1 score': 0.09103247578965398, 'Accuracy': 0.9138439971353255, 'param w ': array([ 6.63798220e-04, -4.33601085e-03,  1.20524714e-04,  3.92022924e-03,\n",
      "        5.11951145e-03, -1.70057475e-04,  2.36899278e-02, -2.25845447e-04,\n",
      "        4.05221833e-02,  6.57276048e-02, -3.55346652e-05,  8.28114425e-03,\n",
      "       -1.48884703e-03,  4.08481611e-02, -2.86124981e-02,  1.89320550e-03,\n",
      "        2.78807514e-02,  3.29916784e-03,  1.98542355e-02,  3.45362392e-04,\n",
      "       -7.88150267e-03, -5.02113467e-03, -4.30393735e-03,  4.31391430e-03,\n",
      "        1.27352254e-02,  9.99296150e-03, -2.03267926e-03,  1.45518134e-02,\n",
      "       -2.95251206e-03,  1.15196874e-05,  3.01153098e-02, -2.67272412e-03,\n",
      "       -6.77548698e-03, -1.07653929e-03, -3.64496118e-05, -1.39013004e-03,\n",
      "       -1.78172613e-03, -7.99447602e-03,  1.41872094e-03,  1.18184040e-03,\n",
      "       -7.42566900e-04,  3.17318936e-03,  1.20737666e-03, -1.14396274e-03,\n",
      "       -5.00586783e-03, -5.87412028e-04, -1.08480954e-03,  2.06919314e-03,\n",
      "        5.42772746e-03, -1.71714008e-03,  1.92078862e-02, -1.76252894e-03,\n",
      "        2.34192070e-06,  1.13498262e-03, -8.25138536e-03,  1.24928546e-02,\n",
      "        3.61893781e-03,  3.93855645e-02,  1.59794581e-05,  8.73338424e-03,\n",
      "       -2.91645192e-03, -4.26197615e-03,  1.83662845e-03, -3.91242548e-03,\n",
      "       -5.06339304e-03, -6.05268557e-03,  1.46284298e-02, -2.44245621e-03,\n",
      "       -9.41795996e-04, -2.34448179e-03, -9.54315870e-03, -2.93360135e-03,\n",
      "        1.26562978e-03, -2.34077797e-03,  1.11298244e-02, -9.33118834e-03,\n",
      "       -1.45440873e-02,  2.36725493e-02, -2.09099365e-02, -1.65385033e-02,\n",
      "       -9.83964188e-03, -4.80517238e-03, -2.86656856e-02, -2.25689160e-03,\n",
      "        2.99979249e-03, -5.18974113e-02, -1.86038774e-02,  7.22852539e-03,\n",
      "        1.60734740e-02,  3.84855580e-04, -4.74676577e-03,  2.70942536e-02,\n",
      "        1.59162732e-02,  1.66805873e-03, -1.00506591e-03, -9.36114936e-03,\n",
      "        9.69498631e-03, -4.73525339e-03, -3.88337729e-03, -1.03015635e-02,\n",
      "       -1.72373367e-02,  4.10267571e-03, -1.37240246e-02, -9.83848474e-03,\n",
      "       -7.25026043e-03, -2.39870692e-02, -9.73752753e-03, -5.18194362e-03,\n",
      "        4.49599821e-03,  8.60164763e-03,  8.70730399e-03, -2.12140372e-02,\n",
      "        7.26103010e-03, -1.11720393e-02,  4.86736769e-03,  3.46444226e-02,\n",
      "       -1.72317052e-03, -6.50340732e-03, -2.06525533e-02, -4.92957040e-04,\n",
      "       -1.38053932e-02, -1.76428343e-02,  2.56180171e-02, -3.05738674e-04,\n",
      "        4.24094712e-03, -2.40311495e-02,  1.38984769e-02, -1.16903855e-02,\n",
      "       -1.58686890e-02, -1.12592439e-02, -1.69219885e-02, -1.69968023e-02,\n",
      "       -1.62044178e-02, -1.64675598e-02, -1.64761947e-02, -1.67442450e-02,\n",
      "       -2.02977625e-02, -1.71671939e-02, -7.53053481e-03, -5.71521949e-03,\n",
      "       -8.34547743e-03, -1.33353733e-03, -4.57781168e-03, -2.51231081e-03,\n",
      "       -5.37297751e-03, -7.91132619e-03, -3.86414892e-03, -9.62224772e-03,\n",
      "       -1.32816756e-02, -6.14808610e-03, -6.82438425e-03, -6.50406372e-03,\n",
      "       -5.48881856e-03, -3.07771591e-04, -7.34048008e-03, -2.58969116e-03,\n",
      "       -1.08735631e-02, -3.83995036e-03, -1.62630220e-03, -8.99414770e-03,\n",
      "       -4.52843924e-03, -2.79809332e-05, -5.27398668e-03, -1.02446193e-04,\n",
      "       -1.09857712e-02, -3.27083114e-03, -8.76024027e-03, -1.22257045e-02,\n",
      "       -1.90423973e-03, -1.34713864e-02, -4.27293895e-02, -1.40895628e-01,\n",
      "       -4.14142996e-02, -6.74094281e-02, -2.22288137e-02, -2.37179565e-02,\n",
      "       -6.46506271e-02, -4.33157272e-02, -3.16972147e-02,  1.98532138e-03,\n",
      "       -3.95598090e-02, -5.13905963e-02, -3.28294139e-02, -3.06027749e-02,\n",
      "       -2.92424236e-02, -6.65263263e-02, -6.93105180e-02, -4.77881735e-02,\n",
      "       -5.57144623e-02, -6.93417295e-02, -5.85688260e-02, -3.67528335e-02,\n",
      "       -1.95539973e-02, -3.53665897e-02,  8.78690438e-03, -2.68518568e-02,\n",
      "       -4.15883515e-02, -3.22982935e-02, -3.13540856e-02,  5.98577133e-03,\n",
      "       -1.06168776e-02, -1.61021374e-02, -3.64006485e-02, -4.12171037e-02,\n",
      "       -5.39199364e-02, -4.73058395e-02, -6.08543149e-02, -4.38296257e-02,\n",
      "       -3.16352377e-02, -1.56312522e-02, -3.19707812e-02, -2.60884988e-02,\n",
      "       -2.84246608e-02, -3.97759580e-02, -1.13287463e-02,  4.21961648e-04,\n",
      "        2.76903131e-04, -3.11039854e-02, -3.55672014e-02, -1.14914754e-02,\n",
      "       -4.32080733e-03, -1.16491725e-02, -1.26539941e-02, -1.48462263e-02,\n",
      "       -2.67683816e-02, -3.38529671e-02, -3.24747921e-02, -1.14228786e-02,\n",
      "       -1.20330595e-01, -1.20984707e-01, -8.49589135e-02,  9.01595470e-03,\n",
      "        1.45056121e-01, -4.43314679e-02, -7.11617275e-02, -1.01227875e-03,\n",
      "       -6.71195437e-02, -7.86890657e-02, -8.04116459e-03, -3.64563830e-02,\n",
      "       -6.04384045e-02, -1.36816423e-02,  1.27529622e-02, -2.77920049e-02,\n",
      "       -7.59648148e-02, -7.89395180e-02, -3.63552123e-02,  7.57377023e-03,\n",
      "       -4.44263613e-02, -6.89843381e-02, -4.14328763e-02, -5.92437078e-02,\n",
      "       -3.83091857e-02, -2.07612564e-02, -6.53108680e-02])}}\n"
     ]
    }
   ],
   "source": [
    "\n",
    "num_samples = 5\n",
    "\n",
    "num_features = x_new_del_train.shape[1]\n",
    "\n",
    "random_hyperparameters = generate_random_hyperparameters(num_samples)\n",
    "\n",
    "\n",
    "k_folds = 5\n",
    "\n",
    "results = cross_validation_log(x_new_del_train, y_train, k_folds, random_hyperparameters)\n",
    "print(results)"
   ]
  },
  {
   "cell_type": "code",
   "execution_count": 79,
   "id": "ff3cf895",
   "metadata": {},
   "outputs": [
    {
     "name": "stdout",
     "output_type": "stream",
     "text": [
      "0.0911480624309216\n",
      "1e-16\n",
      "0.09114040471118205\n",
      "0.00025000000000007503\n",
      "0.09110013178275676\n",
      "0.00050000000000005\n",
      "0.09109516251675967\n",
      "0.000750000000000025\n",
      "0.09103247578965398\n",
      "0.001\n"
     ]
    }
   ],
   "source": [
    "for a in results:\n",
    "    print(results[a][\"F1 score\"])\n",
    "    print(a)"
   ]
  },
  {
   "cell_type": "code",
   "execution_count": 80,
   "id": "7d65d074",
   "metadata": {},
   "outputs": [],
   "source": [
    "# Best model found so far : \n",
    "\n",
    "# ridge_regression with lambda = 1e-16  : f1 score =13831"
   ]
  },
  {
   "cell_type": "code",
   "execution_count": 81,
   "id": "a69f4f85",
   "metadata": {},
   "outputs": [],
   "source": [
    "import implementations\n",
    "import importlib\n",
    "importlib.reload(implementations)\n",
    "from implementations import *\n",
    "\n",
    "\n",
    "\n",
    "\n",
    "initial_w = np.zeros(x_new_del_train.shape[1]) \n",
    "\n",
    "## Todo better initialization ? maybe normal distributed\n",
    "\n",
    "\n",
    "\n",
    "\n",
    "MaxIter = 100000\n",
    "gamma = 0.01\n",
    "\n",
    "w,loss = ridge_regression(y_train, x_new_del_train,0.01) ## GAVE 0.063 F1 SCORE , maybe use lambda really small to approximate a least square \n",
    "\n",
    "#w,loss = implementations.logistic_regression(y_train, x_new_del_train, initial_w, MaxIter, gamma)\n",
    "\n",
    "\n",
    "w.shape,x_new_del_test.shape\n",
    "\n",
    "\n",
    "\n",
    "\n",
    "\n",
    "y_pred4 = x_new_del_test.dot(w)\n",
    "y_pred4=(y_pred4>0)*2-1\n",
    "y_pred4\n",
    "\n",
    "helpers.create_csv_submission(test_ids, y_pred4, \"Submission4.csv\")"
   ]
  },
  {
   "cell_type": "code",
   "execution_count": 412,
   "id": "7439aacf",
   "metadata": {},
   "outputs": [],
   "source": [
    "from sklearn.linear_model import LinearRegression\n",
    "\n",
    "clf = LinearRegression().fit(x_new_del_train,y_train)\n",
    "y_pred3 = clf.predict(x_new_del_test)\n",
    "y_pred3 = (y_pred3>0)*2-1\n",
    "helpers.create_csv_submission(test_ids, y_pred3, \"Submission3.csv\") # gave 0.132 F1 score , Problem , we're not allowed to use it for the final submission"
   ]
  },
  {
   "cell_type": "code",
   "execution_count": null,
   "id": "ae4b4f34",
   "metadata": {},
   "outputs": [],
   "source": []
  }
 ],
 "metadata": {
  "kernelspec": {
   "display_name": "Python 3 (ipykernel)",
   "language": "python",
   "name": "python3"
  },
  "language_info": {
   "codemirror_mode": {
    "name": "ipython",
    "version": 3
   },
   "file_extension": ".py",
   "mimetype": "text/x-python",
   "name": "python",
   "nbconvert_exporter": "python",
   "pygments_lexer": "ipython3",
   "version": "3.10.7"
  }
 },
 "nbformat": 4,
 "nbformat_minor": 5
}
