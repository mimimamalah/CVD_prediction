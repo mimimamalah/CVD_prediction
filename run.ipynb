{
 "cells": [
  {
   "cell_type": "code",
   "execution_count": 1,
   "metadata": {},
   "outputs": [],
   "source": [
    "import implementations\n",
    "import pandas as pd\n",
    "import numpy as np\n",
    "import helpers\n",
    "import preprocessing\n"
   ]
  },
  {
   "cell_type": "code",
   "execution_count": 61,
   "metadata": {},
   "outputs": [],
   "source": [
    "datapath_train = \"./dataset/\"\n",
    "x_train, x_test, y_train, train_ids, test_ids = helpers.load_csv_data(datapath_train)\n",
    "data_path_names = \"./dataset/x_train.csv\"\n",
    "feature_names = np.genfromtxt(data_path_names, max_rows=2, delimiter=\",\", names=True).dtype.names\n",
    "feature_names = feature_names[1:]  \n",
    "columns = np.asarray(feature_names[0:])"
   ]
  },
  {
   "cell_type": "code",
   "execution_count": 48,
   "metadata": {},
   "outputs": [],
   "source": [
    "%reload_ext autoreload\n",
    "%autoreload 2\n",
    "import preprocessing\n",
    "import importlib\n",
    "importlib.reload(preprocessing)\n",
    "from preprocessing import *\n",
    "from metrics import *"
   ]
  },
  {
   "cell_type": "code",
   "execution_count": 62,
   "metadata": {},
   "outputs": [
    {
     "data": {
      "text/plain": [
       "((328135, 582), (109379, 582))"
      ]
     },
     "execution_count": 62,
     "metadata": {},
     "output_type": "execute_result"
    }
   ],
   "source": [
    "x_train_preprocess, x_test_preprocess, y_train = preprocessing.dataPreprocess(x_train, x_test, y_train, columns, feature_names)\n",
    "x_train_preprocess.shape,x_test_preprocess.shape "
   ]
  },
  {
   "cell_type": "code",
   "execution_count": 59,
   "metadata": {},
   "outputs": [],
   "source": []
  }
 ],
 "metadata": {
  "kernelspec": {
   "display_name": "Python 3",
   "language": "python",
   "name": "python3"
  },
  "language_info": {
   "codemirror_mode": {
    "name": "ipython",
    "version": 3
   },
   "file_extension": ".py",
   "mimetype": "text/x-python",
   "name": "python",
   "nbconvert_exporter": "python",
   "pygments_lexer": "ipython3",
   "version": "3.9.6"
  }
 },
 "nbformat": 4,
 "nbformat_minor": 2
}
